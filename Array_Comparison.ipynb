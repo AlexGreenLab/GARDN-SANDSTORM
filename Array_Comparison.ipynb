{
 "cells": [
  {
   "cell_type": "code",
   "execution_count": 1,
   "id": "b4b45423-b079-4193-b3b0-69482a88ac00",
   "metadata": {},
   "outputs": [],
   "source": [
    "#Module to time and calculate the memory constaints of the various structural arrays\n",
    "\n",
    "import sys\n",
    "sys.path.insert(1,\"src\")\n",
    "import nupack as n\n",
    "import numpy as np\n",
    "import matplotlib.pyplot as plt\n",
    "import util\n",
    "import GA_util\n",
    "import time\n",
    "import tensorflow as tf"
   ]
  },
  {
   "cell_type": "code",
   "execution_count": 2,
   "id": "3d5f54f0-bba4-4fca-92b0-57638f59d7b9",
   "metadata": {},
   "outputs": [],
   "source": [
    "sequences = np.load('data/toehold_data/collins_encoded.npy')"
   ]
  },
  {
   "cell_type": "code",
   "execution_count": 12,
   "id": "cfad1788-1035-440e-89ee-1c6bf3377816",
   "metadata": {},
   "outputs": [
    {
     "name": "stdout",
     "output_type": "stream",
     "text": [
      "Size of the array:  199371600\n",
      "Memory size of one array element in bytes:  8\n",
      "1.5949728\n",
      "Size of the array:  199371600\n",
      "Memory size of one array element in bytes:  8\n",
      "1.5949728\n",
      "Size of the array:  199371600\n",
      "Memory size of one array element in bytes:  8\n",
      "1.5949728\n"
     ]
    }
   ],
   "source": [
    "time_save = []\n",
    "for i in range(3):\n",
    "    x_time_start = time.time()\n",
    "\n",
    "\n",
    "    # x = GA_util.prototype_ppms_fast(sequences)\n",
    "    x = GA_util.create_ppms_fast(sequences)\n",
    "\n",
    "    x_time = time.time() - x_time_start\n",
    "\n",
    "    time_save.append(x_time)\n",
    "    print(\"Size of the array: \", x.size)\n",
    "\n",
    "    print(\"Memory size of one array element in bytes: \",x.itemsize)\n",
    "\n",
    "    # memory size of numpy array\n",
    "    x_size = (x.size * x.itemsize) / 1e9\n",
    "    print(x_size)"
   ]
  },
  {
   "cell_type": "code",
   "execution_count": 13,
   "id": "2a9feb65-c9be-48a4-bb16-c07a7da928df",
   "metadata": {},
   "outputs": [
    {
     "data": {
      "text/plain": [
       "[6.951246023178101, 6.877479076385498, 6.8153369426727295]"
      ]
     },
     "execution_count": 13,
     "metadata": {},
     "output_type": "execute_result"
    }
   ],
   "source": [
    "time_save"
   ]
  },
  {
   "cell_type": "code",
   "execution_count": 17,
   "id": "390e6bce-de54-4624-b586-b788ee19b9a3",
   "metadata": {},
   "outputs": [
    {
     "data": {
      "text/plain": [
       "6.881354014078776"
      ]
     },
     "execution_count": 17,
     "metadata": {},
     "output_type": "execute_result"
    }
   ],
   "source": [
    "np.mean(time_save)"
   ]
  },
  {
   "cell_type": "code",
   "execution_count": 6,
   "id": "39c860ad-7120-4a51-afca-cec0130a7924",
   "metadata": {},
   "outputs": [
    {
     "name": "stdout",
     "output_type": "stream",
     "text": [
      "Size of the array:  199371600\n",
      "Memory size of one array element in bytes:  8\n",
      "Size of the array:  199371600\n",
      "Memory size of one array element in bytes:  8\n",
      "Size of the array:  199371600\n",
      "Memory size of one array element in bytes:  8\n"
     ]
    }
   ],
   "source": [
    "y_time_save = []\n",
    "\n",
    "for i in range(3):\n",
    "    mod = n.Model()\n",
    "\n",
    "    y_time_start = time.time()\n",
    "\n",
    "    y = GA_util.create_ppms_nupack(sequences,mod)\n",
    "\n",
    "    y_time = time.time() - y_time_start\n",
    "    y_time_save.append(y_time)\n",
    "    print(\"Size of the array: \", y.size)\n",
    "\n",
    "    print(\"Memory size of one array element in bytes: \",y.itemsize)\n",
    "\n",
    "    # memory size of numpy array\n",
    "    y_size = (y.size * y.itemsize) / 1e9"
   ]
  },
  {
   "cell_type": "code",
   "execution_count": 7,
   "id": "98282ddc-826e-4ae9-8dcf-00c59f4ca136",
   "metadata": {},
   "outputs": [
    {
     "data": {
      "text/plain": [
       "[152.70020008087158, 151.69818377494812, 149.37996101379395]"
      ]
     },
     "execution_count": 7,
     "metadata": {},
     "output_type": "execute_result"
    }
   ],
   "source": [
    "y_time_save"
   ]
  },
  {
   "cell_type": "code",
   "execution_count": 14,
   "id": "ea4f6073-1e1b-4126-9167-88c87149e621",
   "metadata": {},
   "outputs": [],
   "source": [
    "# Function definition to create complementary matrix of RNA molecule from DNA\n",
    "def one_hot_special_complementarity_directional_matrix(x, show=False):\n",
    "    \"\"\"Produce complementarity matrix for the given RNA molecule.\n",
    "    by Luis Soenksen 2019-03-15\n",
    "    Complementary bases (according to Watson-Crick) are assigned the following values:\n",
    "    G-C are assigned 6 = [0 0 0 0 0 0 1], \n",
    "    C-G are assigned 5 = [0 0 0 0 0 1 0], \n",
    "    A-U are assigned 4 = [0 0 0 0 1 0 0],\n",
    "    U-A are assigned 3 = [0 0 0 1 0 0 0],\n",
    "    G-U are assigned 2 = [0 0 1 0 0 0 0], \n",
    "    U-G are assigned 1 = [0 1 0 0 0 0 0], \n",
    "    NonWCpairs are   0 = [1 0 0 0 0 0 0],\n",
    "\n",
    "    Args:\n",
    "        m: Molecule object (DNA or RNA)\n",
    "        show (bool): Make a matrix plot of the result.\n",
    "\n",
    "    Returns:\n",
    "        p_oh: One-Hot Encoded Categorical Complementarity-directional Matrix\n",
    "        p: Categorical(integer) Complementarity-directional Matrix\n",
    "    \"\"\"\n",
    "    # Imports\n",
    "    from keras.utils import to_categorical\n",
    "    \n",
    "#     #Add extra padding to desired length\n",
    "#     while len(x) < 120:\n",
    "#         x=x+'N'\n",
    "\n",
    "#     if isinstance(x, str):\n",
    "#     # If input is string do this\n",
    "#         # Generate complementary matrix from sequence str & calculated dot-bracket secondary structure\n",
    "#         seq = Bio.Seq.transcribe(x) #Each row in the series is a toehold sequence\n",
    "#         l = len(seq)\n",
    "#         p = np.zeros((l, l), dtype='int8')\n",
    "#         for i in range(l):\n",
    "#             for j in range(l):\n",
    "#                 if seq[i] == 'G' and seq[j] == 'C' :\n",
    "#                     p[i, j] = 6\n",
    "#                 if seq[i] == 'A' and seq[j] == 'U' :\n",
    "#                     p[i, j] = 4  \n",
    "#                 if seq[i] == 'G' and seq[j] == 'U' :\n",
    "#                     p[i, j] = 2\n",
    "\n",
    "#                 # By default... if m.seq[i] == m.seq[j] ; p[i, j] = 0\n",
    "\n",
    "#                 if seq[i] == 'C' and seq[j] == 'G':\n",
    "#                     p[i, j] = 5\n",
    "#                 if seq[i] == 'U' and seq[j] == 'A':\n",
    "#                     p[i, j] = 3  \n",
    "#                 if seq[i] == 'U' and seq[j] == 'G':\n",
    "#                     p[i, j] = 1\n",
    "\n",
    "#         if show:\n",
    "#             fig = plt.figure(dpi=300)\n",
    "#             ax = fig.add_subplot(111)\n",
    "#             cmap = plt.get_cmap('jet', np.max(p)-np.min(p)+1)\n",
    "#             pos = ax.matshow(p, interpolation='nearest', cmap=cmap)\n",
    "#             ax.set_xticks(np.arange(l))\n",
    "#             ax.set_yticks(np.arange(l))\n",
    "\n",
    "\n",
    "#             # Add colorbar to make it easy to read the energy levels\n",
    "#             cbar = plt.colorbar(pos, ticks=np.arange(np.min(p),np.max(p)+1))\n",
    "#             plt.show()                    \n",
    "       \n",
    "                    \n",
    "    if (isinstance(x, np.ndarray) and np.array_equal(x , x.astype(bool))):\n",
    "    # If input is one-hot encoded\n",
    "        m = x  \n",
    "        l = len(m)\n",
    "        p = np.zeros((l, l), dtype='int8')\n",
    "\n",
    "        A = np.array([1.,0.,0.,0.])\n",
    "        C = np.array([0.,1.,0.,0.])\n",
    "        G = np.array([0.,0.,1.,0.])\n",
    "        U = np.array([0.,0.,0.,1.]) # \"T\" or \"U\"\n",
    "\n",
    "        for i in range(l):\n",
    "            for j in range(l):\n",
    "                if (np.array_equal(m[i], G) and np.array_equal(m[j], C)):\n",
    "                    p[i, j] = 6\n",
    "                if (np.array_equal(m[i], A) and np.array_equal(m[j], U)):\n",
    "                    p[i, j] = 4  \n",
    "                if (np.array_equal(m[i], G) and np.array_equal(m[j], U)):\n",
    "                    p[i, j] = 2\n",
    "\n",
    "                # By default... if m.seq[i] == m.seq[j] ; p[i, j] = 0\n",
    "\n",
    "                if (np.array_equal(m[i], C) and np.array_equal(m[j], G)):\n",
    "                    p[i, j] = 5\n",
    "                if (np.array_equal(m[i], U) and np.array_equal(m[j], A)):\n",
    "                    p[i, j] = 3  \n",
    "                if (np.array_equal(m[i], U) and np.array_equal(m[j], G)):\n",
    "                    p[i, j] = 1 \n",
    "    \n",
    " \n",
    "    else:\n",
    "        p = np.empty([118, 118,7])\n",
    "    \n",
    "    p_oh = to_categorical(p[:,:]) #Convert to one hot     \n",
    "    p_oh_tensor = tf.convert_to_tensor(p_oh) #Convert to one hot           \n",
    "    return p_oh_tensor, p_oh, p\n",
    "\n",
    "\n",
    "# Function to generate single complementary matrix array from linear toehold sequence\n",
    "def seq2complementaryMap(x):\n",
    "    _, p_oh , _ = one_hot_special_complementarity_directional_matrix(x, show=False)\n",
    "    out = p_oh.astype(bool)\n",
    "    return out"
   ]
  },
  {
   "cell_type": "code",
   "execution_count": 15,
   "id": "4f89f717-57e5-49f1-8117-c6dfe375d138",
   "metadata": {},
   "outputs": [],
   "source": [
    "z_time_save = []\n",
    "for i in range(3):\n",
    "    t_sequences = np.transpose(sequences,(0,2,1)) #Collins pipeline uses transpose of ours\n",
    "\n",
    "    z_time_start = time.time()\n",
    "\n",
    "    z = np.zeros(shape=(t_sequences.shape[0],t_sequences.shape[1],t_sequences.shape[1],7))\n",
    "\n",
    "    for i in range(t_sequences.shape[0]):\n",
    "        z[i,:,:,:] = seq2complementaryMap(t_sequences[0,:,:])\n",
    "\n",
    "    z_time = time.time() - z_time_start\n",
    "    \n",
    "    z_time_save.append(z_time)\n",
    "\n",
    "    "
   ]
  },
  {
   "cell_type": "code",
   "execution_count": 16,
   "id": "7ca5ee4d-a883-4cc8-ab76-785804618211",
   "metadata": {},
   "outputs": [
    {
     "name": "stdout",
     "output_type": "stream",
     "text": [
      "Size of the array:  1395601200\n",
      "Memory size of one array element in bytes:  8\n"
     ]
    }
   ],
   "source": [
    "print(\"Size of the array: \", z.size)\n",
    " \n",
    "print(\"Memory size of one array element in bytes: \",z.itemsize)\n",
    " \n",
    "# memory size of numpy array\n",
    "z_size = (z.size * z.itemsize) / 1e9"
   ]
  },
  {
   "cell_type": "code",
   "execution_count": 17,
   "id": "7d301730-8b07-4b01-8d0a-12d71104b93a",
   "metadata": {},
   "outputs": [
    {
     "data": {
      "text/plain": [
       "[0.020311773052571536, 0.3427536325711702, 6819.9828846782375]"
      ]
     },
     "execution_count": 17,
     "metadata": {},
     "output_type": "execute_result"
    }
   ],
   "source": [
    "# memory_bar = [x_size,y_size,z_size]\n",
    "time_bar = [time_save,y_time_save,z_time_save]\n",
    "\n",
    "time_var = [np.std(i) for i in time_bar]\n",
    "time_bar = [np.mean(i) for i in time_bar]\n",
    "\n",
    "\n",
    "time_var"
   ]
  },
  {
   "cell_type": "code",
   "execution_count": 18,
   "id": "5665e7fd-4899-45d6-8735-48f8bb49a1f5",
   "metadata": {},
   "outputs": [
    {
     "data": {
      "text/plain": [
       "[147.52964615821838, 148.36392617225647, 148.02829003334045]"
      ]
     },
     "execution_count": 18,
     "metadata": {},
     "output_type": "execute_result"
    }
   ],
   "source": [
    "y_time_save"
   ]
  },
  {
   "cell_type": "code",
   "execution_count": 28,
   "id": "f647bf96-c07c-4640-bb89-0730a8e9d7b9",
   "metadata": {},
   "outputs": [
    {
     "data": {
      "image/png": "[encoded data removed]",
      "text/plain": [
       "<Figure size 300x300 with 1 Axes>"
      ]
     },
     "metadata": {},
     "output_type": "display_data"
    }
   ],
   "source": [
    "plt.figure(figsize=(3,3))\n",
    "plt.rcParams.update({'font.size': 10,'font.family':'Helvetica'})\n",
    "# plt.title('Toehold Switch Structural Agreement')\n",
    "for i in range(len(time_bar)):\n",
    "    plt.bar(i,time_bar[i],alpha=1,edgecolor='black',linewidth=2,yerr=time_var[i])\n",
    "\n",
    "plt.scatter([i for i in range(len(time_bar))],time_bar,color='black',marker='|',label = ['%.2f'%i for i in time_bar])\n",
    "for i in range(len(time_bar)):\n",
    "    plt.annotate(text='%s'%'',xy=(i,time_bar[i]),xytext=(i-0.3,time_bar[i]+10)) #manually dropping in values due to plotting bug\n",
    "\n",
    "plt.ylabel('Time (s)')\n",
    "plt.subplot().spines['right'].set_visible(False)\n",
    "plt.subplot().spines['top'].set_visible(False)\n",
    "plt.subplot().spines['left'].set_linewidth(2.0)\n",
    "plt.subplot().spines['bottom'].set_linewidth(2.0)\n",
    "plt.subplots_adjust(bottom=0.15)\n",
    "plt.yscale('log')\n",
    "plt.xticks(ticks=[0,1,2],labels=['SANDSTORM Array','NUPACK Probability Table','VISMAP',],rotation=60,ha='right')\n",
    "plt.title('Stuctural Array Calculation Time (n=%s)'%sequences.shape[0])\n",
    "# plt.tight_layout()\n",
    "# plt.savefig('figures/structure_comparison_times.png',dpi=1000,bbox_inches='tight',pad_inches=1,transparent=True)\n",
    "plt.savefig('figures/structure_comparison_times.svg',bbox_inches='tight',pad_inches=1,transparent=True)"
   ]
  },
  {
   "cell_type": "code",
   "execution_count": 15,
   "id": "298140b6-c07d-4990-8ef6-ffd6456967ed",
   "metadata": {},
   "outputs": [
    {
     "data": {
      "image/png": "[encoded data removed]",
      "text/plain": [
       "<Figure size 300x300 with 1 Axes>"
      ]
     },
     "metadata": {},
     "output_type": "display_data"
    }
   ],
   "source": [
    " plt.figure(figsize=(3,3))\n",
    "plt.rcParams.update({'font.size': 10,'font.family':'Helvetica'})\n",
    "# plt.title('Toehold Switch Structural Agreement')\n",
    "for i in range(len(memory_bar)):\n",
    "    plt.bar(i,memory_bar[i],alpha=1,edgecolor='black',linewidth=2)\n",
    "\n",
    "plt.scatter([i for i in range(len(memory_bar))],memory_bar,color='black',marker='|',label = ['%.2f'%i for i in memory_bar])\n",
    "for i in range(len(time_bar)):\n",
    "    plt.annotate(text='%.1f'%memory_bar[i],xy=(i,memory_bar[i]),xytext=(i-0.1,memory_bar[i]+0.5))\n",
    "\n",
    "plt.ylabel('Allocated Memory (Gb)')\n",
    "plt.subplot().spines['right'].set_visible(False)\n",
    "plt.subplot().spines['top'].set_visible(False)\n",
    "plt.subplot().spines['left'].set_linewidth(2.0)\n",
    "plt.subplot().spines['bottom'].set_linewidth(2.0)\n",
    "plt.subplots_adjust(bottom=0.15)\n",
    "plt.ylim([0,15])\n",
    "# plt.yscale('log')\n",
    "plt.xticks(ticks=[0,1,2],labels=['SANDSTORM Array','NUPACK Probability Table','VISMAP',],rotation=60,ha='right')\n",
    "plt.title('Stuctural Array Required Memory (n=%s)'%sequences.shape[0])\n",
    "# plt.tight_layout()\n",
    "# plt.savefig('figures/structure_comparison_memory.png',dpi=500,bbox_inches='tight',pad_inches=1,transparent=True)\n",
    "plt.savefig('figures/structure_comparison_memory.svg',bbox_inches='tight',pad_inches=1,transparent=True)"
   ]
  },
  {
   "cell_type": "code",
   "execution_count": null,
   "id": "88db30b3-d57e-4542-8d6c-8db0931fccf9",
   "metadata": {},
   "outputs": [],
   "source": []
  }
 ],
 "metadata": {
  "kernelspec": {
   "display_name": "Python 3 (ipykernel)",
   "language": "python",
   "name": "python3"
  },
  "language_info": {
   "codemirror_mode": {
    "name": "ipython",
    "version": 3
   },
   "file_extension": ".py",
   "mimetype": "text/x-python",
   "name": "python",
   "nbconvert_exporter": "python",
   "pygments_lexer": "ipython3",
   "version": "3.10.8"
  }
 },
 "nbformat": 4,
 "nbformat_minor": 5
}
