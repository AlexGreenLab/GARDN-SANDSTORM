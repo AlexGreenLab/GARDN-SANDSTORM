{
 "cells": [
  {
   "cell_type": "code",
   "execution_count": 2,
   "id": "9117772b-6908-4ab2-bdd4-21cf0c91c426",
   "metadata": {},
   "outputs": [],
   "source": [
    "import sys\n",
    "sys.path.insert(1,\"../src\")\n",
    "import pandas as pd\n",
    "import matplotlib.pyplot as plt\n",
    "import numpy as np\n",
    "import seaborn as sns\n",
    "import util\n",
    "# import GA_util\n",
    "import os\n",
    "import plate_util\n",
    "import GA_util\n",
    "from scipy.stats import mannwhitneyu,ttest_ind,wilcoxon"
   ]
  },
  {
   "cell_type": "code",
   "execution_count": 9,
   "id": "e5c72231-eda7-4b38-90d4-aec30720b6af",
   "metadata": {},
   "outputs": [],
   "source": [
    "# data = pd.read_csv(\"data/processed_gardn_data_4_25.csv\")\n",
    "# data_2 = pd.read_csv('data/processed_gardn_data_final_generator_4.csv')\n",
    "\n",
    "data = pd.read_csv('data/processed_gardn_data_6_28.csv')\n",
    "\n",
    "TARGET = 'ADJ_ON_OFF'"
   ]
  },
  {
   "cell_type": "code",
   "execution_count": 10,
   "id": "4cab6c5b-0b1c-4fc3-a469-c691ef9d457f",
   "metadata": {
    "tags": []
   },
   "outputs": [],
   "source": [
    "from scipy.stats import spearmanr\n",
    "from sklearn.linear_model import LinearRegression\n",
    "concs = ['CONC_IN_RXN_4','CONC_IN_RXN_2','CONC_IN_RXN_1']\n",
    "ons = ['ON_4','ON_2','ON_1']\n",
    "offs = ['OFF_4','OFF_2','OFF_1']\n",
    "\n",
    "\n",
    "\n",
    "slope_on = []\n",
    "slope_off = []\n",
    "spearman_off = []\n",
    "for i in range(data.shape[0]):\n",
    "    \n",
    "    \n",
    "\n",
    "    \n",
    "    row = data.iloc[i,:]\n",
    "\n",
    "    conc_plot =row[concs].values\n",
    "    conc_plot = np.insert(conc_plot,0,0.0).astype('float32')\n",
    "\n",
    "    on_plot = row[ons].values\n",
    "    on_plot = np.insert(on_plot,0,0.0).astype('float32')\n",
    "\n",
    "\n",
    "    off_plot = row[offs].values\n",
    "    off_plot = np.insert(off_plot,0,0.0).astype('float32')\n",
    "\n",
    "    # print(conc_plot)\n",
    "    # print(on_plot)\n",
    "\n",
    "    # a,b = np.polyfit(conc_plot,on_plot,1)\n",
    "    reg = LinearRegression().fit(conc_plot.reshape(-1,1),on_plot.reshape(-1,1))\n",
    "    a = reg.coef_[0][0]\n",
    "    # print(a)\n",
    "\n",
    "    reg_off = LinearRegression().fit(conc_plot.reshape(-1,1),off_plot.reshape(-1,1))\n",
    "    a_off = reg_off.coef_[0][0]\n",
    "#     print(a_off)\n",
    "\n",
    "\n",
    "#     print(spearmanr(conc_plot,on_plot))\n",
    "#     print(spearmanr(conc_plot,off_plot))\n",
    "    \n",
    "    spearman_off.append(spearmanr(conc_plot,off_plot)[0])\n",
    "    \n",
    "    slope_on.append(a)\n",
    "    slope_off.append(a_off)\n",
    "    \n",
    "#     # print('\\n')\n",
    "#     if i%1== 0:\n",
    "#         plt.figure(figsize=[8,4])\n",
    "#         plt.suptitle(data.iloc[i,:]['NAME'])\n",
    "#         plt.subplot(1,2,1)\n",
    "#         plt.title(\"ON Vals\")\n",
    "#         plt.scatter(conc_plot,on_plot)\n",
    "#         plt.plot(conc_plot,a*conc_plot,linestyle='--')\n",
    "\n",
    "\n",
    "#         plt.subplot(1,2,2)\n",
    "#         plt.title('OFF Vals')\n",
    "#         plt.scatter(conc_plot,off_plot)\n",
    "#         plt.plot(conc_plot,a_off*conc_plot,linestyle='--')\n",
    "\n",
    "#         plt.show()\n",
    "    # print('\\n')\n",
    "        \n",
    "data['SLOPE_ON'] = slope_on\n",
    "data['SLOPE_OFF'] = slope_off"
   ]
  },
  {
   "cell_type": "code",
   "execution_count": 11,
   "id": "02a0ef95-25ed-4c2d-b48d-51e08026c8b1",
   "metadata": {},
   "outputs": [],
   "source": [
    "#Create the adjusted ON values\n",
    "TARGET_CONC = 0.05\n",
    "\n",
    "data['ADJ_ON'] = data['SLOPE_ON'] * TARGET_CONC\n",
    "\n",
    "data['SPEAR_OFF'] = spearman_off"
   ]
  },
  {
   "cell_type": "code",
   "execution_count": 12,
   "id": "f7920677-5027-4c0a-b7d3-3c5de7da1bd6",
   "metadata": {},
   "outputs": [],
   "source": [
    "#Adjust the off values to sample if it stays around background\n",
    "MIN_SPEAR = 0.9\n",
    "\n",
    "adj_off = []\n",
    "\n",
    "for i in range(data.shape[0]):\n",
    "    \n",
    "    row = data.iloc[i]\n",
    "    \n",
    "    spear = row['SPEAR_OFF']\n",
    "    \n",
    "    if spear >=MIN_SPEAR:\n",
    "        tmp = row['SLOPE_OFF'] * TARGET_CONC\n",
    "        adj_off.append(tmp)\n",
    "                \n",
    "    else:\n",
    "        \n",
    "        dist = row[['OFF_1','OFF_2','OFF_4']]\n",
    "        adj_off.append(dist.mean(axis=0))"
   ]
  },
  {
   "cell_type": "code",
   "execution_count": 13,
   "id": "72311c48-5e95-4a15-b641-95045e8640ae",
   "metadata": {},
   "outputs": [],
   "source": [
    "data['ADJ_OFF'] = adj_off\n",
    "\n",
    "data['ADJ_ON_OFF'] = data['ADJ_ON'] / data['ADJ_OFF']"
   ]
  },
  {
   "cell_type": "code",
   "execution_count": 14,
   "id": "21265c84-2db6-4fd7-a2ad-0d5e6e3b3915",
   "metadata": {},
   "outputs": [],
   "source": [
    "tmp = ''\n",
    "coeff_list = [plate_util.ext_coeff_RNA(i[len('GCGCTAATACGACTCACTATA'):]) for i in data['SWITCH']]\n",
    "\n",
    "data['EXTINCTION_COEFFICIENT'] = coeff_list"
   ]
  },
  {
   "cell_type": "code",
   "execution_count": 15,
   "id": "d4af4945-df92-4fb4-9f65-10b279af911b",
   "metadata": {},
   "outputs": [],
   "source": [
    "data= data[data[TARGET].notna()]"
   ]
  },
  {
   "cell_type": "code",
   "execution_count": 16,
   "id": "9551b1be-8bcb-411f-9149-273ce39c7a27",
   "metadata": {},
   "outputs": [],
   "source": [
    "# data = data[data['NAME'] != 'post_74_2']"
   ]
  },
  {
   "cell_type": "code",
   "execution_count": 17,
   "id": "7ea62da2-3dcb-4fa1-a8fa-1e2ad44f5aad",
   "metadata": {},
   "outputs": [],
   "source": [
    "# nupack 2\n",
    "# nupack_complex 2\n",
    "# screen 5\n",
    "# pre_74 3\n",
    "# post_74 4\n",
    "# pre_93 3-4\n",
    "# post_93 4\n",
    "# max_1 3"
   ]
  },
  {
   "cell_type": "code",
   "execution_count": 18,
   "id": "cf16b0e1-4cfd-4246-a3f1-8655d3237748",
   "metadata": {},
   "outputs": [
    {
     "data": {
      "text/plain": [
       "Index(['Unnamed: 0', 'NAME', 'SWITCH', 'TRIGGER', 'OD260_1', 'OD260_2',\n",
       "       'OD260_4', 'ON_1', 'ON_2', 'ON_4', 'OFF_1', 'OFF_2', 'OFF_4', 'POS',\n",
       "       'NEG', 'EXTINCTION_COEFFICIENT', 'CONC_IN_RXN_1', 'CONC_IN_RXN_2',\n",
       "       'CONC_IN_RXN_4', 'ON_OFF_1', 'ON_OFF_2', 'ON_OFF_4', 'BLK', 'SLOPE_ON',\n",
       "       'SLOPE_OFF', 'ADJ_ON', 'SPEAR_OFF', 'ADJ_OFF', 'ADJ_ON_OFF'],\n",
       "      dtype='object')"
      ]
     },
     "execution_count": 18,
     "metadata": {},
     "output_type": "execute_result"
    }
   ],
   "source": [
    "data.columns"
   ]
  },
  {
   "cell_type": "code",
   "execution_count": 19,
   "id": "9e26a970-7e70-43e4-8964-93fd4aa48ac9",
   "metadata": {},
   "outputs": [],
   "source": [
    "# data.to_csv('data/final/processed_gardn_data_6_28.csv')"
   ]
  },
  {
   "cell_type": "code",
   "execution_count": 20,
   "id": "18304cc7-20ca-44f3-a499-6e0da3034a02",
   "metadata": {},
   "outputs": [
    {
     "name": "stdout",
     "output_type": "stream",
     "text": [
      "nupack_1 2.311867430235065\n",
      "nupack_2 63.64096810338145\n",
      "nupack_3 69.87452612046052\n",
      "nupack_4 43.085828821385874\n",
      "nupack_5 0.645949030102176\n",
      "nupack_6 51.987236342376164\n",
      "nupack_complex_1 109.80702039732745\n",
      "nupack_complex_2 6.962039266415413\n",
      "nupack_complex_3 72.51013792690618\n",
      "nupack_complex_4 10.420133576999497\n",
      "nupack_complex_5 115.16547920730277\n",
      "nupack_complex_6 22.628808213524024\n",
      "sandstorm_high_1 126.21137864301413\n",
      "sandstorm_high_2 89.06766637609715\n",
      "sandstorm_high_3 22.682566621559488\n",
      "sandstorm_high_4 74.5472131422765\n",
      "sandstorm_high_5 6.024918842678876\n",
      "sandstorm_high_6 56.224523386557976\n",
      "pre_93_0 11.387492048296588\n",
      "pre_93_1 33.86483733187016\n",
      "pre_93_2 64.52013194107276\n",
      "pre_93_3 42.423203723320796\n",
      "pre_93_4 35.28869715244988\n",
      "pre_93_5 16.671614828134672\n",
      "post_93_0 23.983061816706627\n",
      "post_93_1 27.54862106104765\n",
      "post_93_2 17.854580136336562\n",
      "post_93_3 161.9299239318391\n",
      "post_93_4 111.31458517045405\n",
      "post_93_5 84.83917273610136\n",
      "nupack_free_1 16.886151433884017\n",
      "nupack_free_2 72.54496756835955\n",
      "nupack_free_3 98.67605385562068\n",
      "nupack_free_4 128.51416927469865\n",
      "nupack_free_5 95.92104451617975\n",
      "nupack_free_6 43.4800772576223\n",
      "nupack_free_7 2.0783506353927383\n",
      "nupack_free_8 206.98311126241055\n",
      "nupack_free_9 45.769983244412145\n",
      "nupack_free_10 41.10973837022933\n",
      "nupack_free_11 19.255586081876288\n",
      "nupack_free_12 43.86040661390794\n",
      "sandstorm_low_1 7.123391885659552\n",
      "sandstorm_low_2 0.3879179828604785\n",
      "sandstorm_low_3 2.8283880972470135\n",
      "sandstorm_low_4 0.1141451281483551\n",
      "sandstorm_low_5 22.624158514612997\n",
      "sandstorm_low_6 7.048792493188797\n",
      "pre_93_7 37.64066963234979\n",
      "pre_93_8 76.35825832666566\n",
      "pre_93_9 11.782500248289825\n",
      "pre_93_10 83.31959702615868\n",
      "pre_93_11 40.579454154257945\n",
      "pre_93_12 31.606526342369982\n",
      "post_93_7 69.44367579293932\n",
      "post_93_8 24.477121243723193\n",
      "post_93_9 108.39918463087861\n",
      "post_93_10 74.98164202049084\n",
      "post_93_11 60.49239419202161\n",
      "post_93_12 17.22562975761218\n",
      "pre_93_long_0 21.321102058904827\n",
      "pre_93_long_1 53.75225962570671\n",
      "pre_93_long_2 93.37357469583372\n",
      "pre_93_long_3 40.170725097193674\n",
      "pre_93_long_4 113.55989545018116\n",
      "pre_93_long_5 1.1936368402996145\n",
      "pre_93_long_6 131.2055033603531\n",
      "pre_93_long_7 100.17366960108954\n",
      "pre_93_long_8 54.28168307348649\n",
      "pre_93_long_9 13.100017120954528\n",
      "pre_93_long_10 2.920301515397138\n",
      "pre_93_long_11 5.730827592775366\n",
      "post_93_long_0 65.60642339568946\n",
      "post_93_long_1 79.72222265582428\n",
      "post_93_long_2 109.57103519157859\n",
      "post_93_long_3 158.29373776924382\n",
      "post_93_long_4 24.044435791804926\n",
      "post_93_long_5 6.639211191178362\n",
      "post_93_long_6 113.61896508097165\n",
      "post_93_long_7 109.97120843652061\n",
      "post_93_long_8 70.64708846286078\n",
      "post_93_long_9 17.10753041179028\n",
      "post_93_long_10 23.65859223295873\n",
      "post_93_long_11 109.32982459039569\n"
     ]
    }
   ],
   "source": [
    "for i in range(data.shape[0]):\n",
    "    \n",
    "    print(data.iloc[i]['NAME'],data.iloc[i]['ADJ_ON_OFF'])"
   ]
  },
  {
   "cell_type": "code",
   "execution_count": 22,
   "id": "81cd1607-c83e-4a8a-a8cb-56bc417676b9",
   "metadata": {},
   "outputs": [],
   "source": [
    "# TARGET='ADJ_OFF'\n",
    "# plt.figure(figsize=[20,4])\n",
    "# plt.bar(np.arange(0,data.shape[0]),data[TARGET],edgecolor='black',lw=2,color=util.BLUE)\n",
    "# plt.xticks(np.arange(0,data.shape[0]),data['NAME'],rotation=90)\n",
    "# util.neat_plot()\n",
    "# plt.show()\n",
    "# TARGET='ADJ_ON_OFF'\n",
    "# plt.figure(figsize=[20,4])\n",
    "# plt.bar(np.arange(0,data.shape[0]),data[TARGET],edgecolor='black',lw=2,color=util.BLUE)\n",
    "# plt.xticks(np.arange(0,data.shape[0]),data['NAME'],rotation=90)\n",
    "# util.neat_plot()\n",
    "# plt.show()"
   ]
  },
  {
   "cell_type": "code",
   "execution_count": 23,
   "id": "6979ba5e-d0e5-4129-9953-5cbd9de74a41",
   "metadata": {},
   "outputs": [
    {
     "name": "stdout",
     "output_type": "stream",
     "text": [
      "41.895748517328656\n"
     ]
    }
   ],
   "source": [
    "big_screen = pd.read_excel('data/aptaswitch_data.xlsx',sheet_name='high_throughput')\n",
    "\n",
    "big_screen['SLOPE_ON_OFF'] = big_screen['SLOPE_ON'] / big_screen['SLOPE_OFF']\n",
    "\n",
    "print(np.mean(big_screen['ADJ_ON_OFF']))"
   ]
  },
  {
   "cell_type": "code",
   "execution_count": 24,
   "id": "baa6b887-07a7-451f-ba55-3b10d0c68159",
   "metadata": {},
   "outputs": [
    {
     "name": "stdout",
     "output_type": "stream",
     "text": [
      "0.0217\n"
     ]
    },
    {
     "data": {
      "image/png": "[encoded data removed]",
      "text/plain": [
       "<Figure size 640x480 with 1 Axes>"
      ]
     },
     "metadata": {},
     "output_type": "display_data"
    }
   ],
   "source": [
    "sns.histplot(data['CONC_IN_RXN_1'],kde=True)\n",
    "sns.histplot(data['CONC_IN_RXN_2'],kde=True)\n",
    "sns.histplot(data['CONC_IN_RXN_4'],kde=True)\n",
    "print(min(big_screen['CONC_IN_RXN_1']))"
   ]
  },
  {
   "cell_type": "code",
   "execution_count": 25,
   "id": "6f44f0bd-56bd-472c-a652-527ae5ff60db",
   "metadata": {},
   "outputs": [],
   "source": [
    "cats = ['_'.join(i.split('_')[:-1]) for i in data['NAME']]\n",
    "\n",
    "data['GROUP'] = cats"
   ]
  },
  {
   "cell_type": "code",
   "execution_count": 26,
   "id": "b40ed524-302a-4e28-8071-35bf2c017ee6",
   "metadata": {},
   "outputs": [
    {
     "name": "stdout",
     "output_type": "stream",
     "text": [
      "nupack            38.591063\n",
      "nupack_complex    56.248936\n",
      "nupack_free       67.923303\n",
      "post_93           65.207466\n",
      "post_93_long      74.017523\n",
      "pre_93            40.453582\n",
      "pre_93_long       52.565266\n",
      "sandstorm_high    62.459711\n",
      "sandstorm_low      6.687799\n",
      "Name: ADJ_ON_OFF, dtype: float64\n",
      "41.895748517328656\n",
      "(12,)\n",
      "(12,)\n",
      "(12,)\n",
      "(12,)\n",
      "(12,)\n"
     ]
    },
    {
     "data": {
      "image/png": "[encoded data removed]",
      "text/plain": [
       "<Figure size 300x400 with 1 Axes>"
      ]
     },
     "metadata": {},
     "output_type": "display_data"
    }
   ],
   "source": [
    "plt.figure(figsize=[3,4])\n",
    "\n",
    "TARGET='ADJ_ON_OFF'\n",
    "# plt.subplot(1,2,1)\n",
    "\n",
    "result =data.groupby(cats)[TARGET].mean()\n",
    "test = data.groupby(cats)[TARGET].std()\n",
    "print(result)\n",
    "\n",
    "print(np.mean(big_screen[TARGET]))\n",
    "\n",
    "cols = ['nupack_free','pre_93','post_93','pre_93_long','post_93_long']\n",
    "# cols=['pre_74','post_74']\n",
    "# cols = ['max',               \n",
    "# 'max_1',             \n",
    "# 'max_long',          \n",
    "# 'nupack',            \n",
    "# 'nupack_complex',    \n",
    "# 'nupack_free',\n",
    "# 'pre_74', \n",
    "# 'post_74',           \n",
    "# 'pre_93',           \n",
    "# 'post_93',            \n",
    "# 'pre_93_long',\n",
    "# 'post_93_long',\n",
    "\n",
    "# 'sandstorm_low',      \n",
    "# 'sandstorm_high']            \n",
    "# cols = ['sandstorm_low','screen']\n",
    "# cols = ['pre_74','post_74','pre_93','post_93']\n",
    "# cols = ['nupack','nupack_complex','sandstorm_low','sandstorm_high']\n",
    "# cols = list(np.unique(cats))\n",
    "\n",
    "# colors = [util.BLUE if i % 2 == 0 else util.RED  for i in range(len(cols))]\n",
    "colors = [util.BLUE if i % 2 == 1 else util.RED  for i in range(len(cols))]\n",
    "\n",
    "colors[0] = 'darkgreen'\n",
    "# colors = ['darkgreen','darkgreen',util.BLUE,util.RED]\n",
    "# colors=['lightgrey','lightgrey',util.RED]\n",
    "\n",
    "\n",
    "\n",
    "# plt.bar(np.arange(0,result.shape[0]),result,edgecolor='black',lw=2)\n",
    "plt.bar(np.arange(0,len(cols)),result[cols],edgecolor='black',yerr=test[cols],width=0.7,lw=2,color=colors)\n",
    "\n",
    "# plt.axhline(np.mean(big_screen[TARGET]),linestyle='--',color='red',label='384 Screen Mean')\n",
    "\n",
    "for i in range(len(cols)):\n",
    "    \n",
    "    # print(cols[i])\n",
    "    \n",
    "    samps = data[data['GROUP'] == cols[i]][TARGET]\n",
    "    print(samps.shape)\n",
    "    \n",
    "    \n",
    "    COLOR_TO_USE = colors[i]\n",
    "    \n",
    "    \n",
    "    # for j in range(data[data['GROUP'] == cols[i]].shape[0]):\n",
    "    for j in range(samps.shape[0]):\n",
    "\n",
    "        plt.scatter(i,samps.iloc[j],color=COLOR_TO_USE,edgecolor='black',lw=2)\n",
    "\n",
    "plt.xticks(np.arange(0,len(cols)),labels=cols,rotation=90)\n",
    "plt.ylabel('ON/OFF')\n",
    "# plt.ylim([0,130])\n",
    "\n",
    "locs = list(result.keys())\n",
    "util.neat_plot()\n",
    "# plt.savefig('../figures/COVID_SANDSTORM_SCREEN.svg',transparent=True)\n",
    "# plt.savefig('../figures/forward_designed_aptaswitches.svg',transparent=True)"
   ]
  },
  {
   "cell_type": "code",
   "execution_count": 27,
   "id": "3a623034-6176-47d9-a702-b9b53ae3ae25",
   "metadata": {},
   "outputs": [
    {
     "data": {
      "text/html": [
       "<div>\n",
       "<style scoped>\n",
       "    .dataframe tbody tr th:only-of-type {\n",
       "        vertical-align: middle;\n",
       "    }\n",
       "\n",
       "    .dataframe tbody tr th {\n",
       "        vertical-align: top;\n",
       "    }\n",
       "\n",
       "    .dataframe thead th {\n",
       "        text-align: right;\n",
       "    }\n",
       "</style>\n",
       "<table border=\"1\" class=\"dataframe\">\n",
       "  <thead>\n",
       "    <tr style=\"text-align: right;\">\n",
       "      <th></th>\n",
       "      <th>WELL</th>\n",
       "      <th>SWITCH</th>\n",
       "      <th>TRIGGER</th>\n",
       "      <th>OD260_1</th>\n",
       "      <th>OD260_2</th>\n",
       "      <th>OD260_4</th>\n",
       "      <th>ON_1</th>\n",
       "      <th>ON_2</th>\n",
       "      <th>ON_4</th>\n",
       "      <th>OFF_1</th>\n",
       "      <th>...</th>\n",
       "      <th>ON_OFF_2</th>\n",
       "      <th>ON_OFF_4</th>\n",
       "      <th>BLK</th>\n",
       "      <th>SLOPE_ON</th>\n",
       "      <th>SLOPE_OFF</th>\n",
       "      <th>ADJ_ON</th>\n",
       "      <th>SPEAR_OFF</th>\n",
       "      <th>ADJ_OFF</th>\n",
       "      <th>ADJ_ON_OFF</th>\n",
       "      <th>SLOPE_ON_OFF</th>\n",
       "    </tr>\n",
       "  </thead>\n",
       "  <tbody>\n",
       "    <tr>\n",
       "      <th>0</th>\n",
       "      <td>A1</td>\n",
       "      <td>GCGCTAATACGACTCACTATAGGGCATCTGCTAACAAAGCTTCGCA...</td>\n",
       "      <td>AAACTCTGTGCGAAGCTTTGTTAGCAGATG</td>\n",
       "      <td>2.519250</td>\n",
       "      <td>1.259625</td>\n",
       "      <td>0.629812</td>\n",
       "      <td>6748.75</td>\n",
       "      <td>4029.34</td>\n",
       "      <td>1710.38</td>\n",
       "      <td>68.64</td>\n",
       "      <td>...</td>\n",
       "      <td>62.451023</td>\n",
       "      <td>28.716924</td>\n",
       "      <td>53.8275</td>\n",
       "      <td>74406.670</td>\n",
       "      <td>628.32196</td>\n",
       "      <td>744.06670</td>\n",
       "      <td>1.0</td>\n",
       "      <td>6.283220</td>\n",
       "      <td>118.421249</td>\n",
       "      <td>118.421247</td>\n",
       "    </tr>\n",
       "    <tr>\n",
       "      <th>1</th>\n",
       "      <td>A2</td>\n",
       "      <td>GCGCTAATACGACTCACTATAGGGCAGATCTGATTGACCAGACTGA...</td>\n",
       "      <td>ACAGATTATCAGTCTGGTCAATCAGATCTG</td>\n",
       "      <td>2.224000</td>\n",
       "      <td>1.112000</td>\n",
       "      <td>0.556000</td>\n",
       "      <td>3932.46</td>\n",
       "      <td>3120.18</td>\n",
       "      <td>1712.89</td>\n",
       "      <td>131.74</td>\n",
       "      <td>...</td>\n",
       "      <td>31.223657</td>\n",
       "      <td>20.737167</td>\n",
       "      <td>56.3725</td>\n",
       "      <td>47676.650</td>\n",
       "      <td>1482.55710</td>\n",
       "      <td>476.76648</td>\n",
       "      <td>1.0</td>\n",
       "      <td>14.825571</td>\n",
       "      <td>32.158388</td>\n",
       "      <td>32.158390</td>\n",
       "    </tr>\n",
       "    <tr>\n",
       "      <th>2</th>\n",
       "      <td>A3</td>\n",
       "      <td>GCGCTAATACGACTCACTATAGGGAGGCGTAGTTCTTTTCCTCTTC...</td>\n",
       "      <td>AGTTCATAGAAGAGGAAAAGAACTACGCCT</td>\n",
       "      <td>2.899250</td>\n",
       "      <td>1.449625</td>\n",
       "      <td>0.724812</td>\n",
       "      <td>9320.54</td>\n",
       "      <td>6024.44</td>\n",
       "      <td>3250.97</td>\n",
       "      <td>205.23</td>\n",
       "      <td>...</td>\n",
       "      <td>41.556460</td>\n",
       "      <td>31.142542</td>\n",
       "      <td>53.8275</td>\n",
       "      <td>87411.550</td>\n",
       "      <td>1830.82870</td>\n",
       "      <td>874.11550</td>\n",
       "      <td>1.0</td>\n",
       "      <td>18.308287</td>\n",
       "      <td>47.744252</td>\n",
       "      <td>47.744254</td>\n",
       "    </tr>\n",
       "    <tr>\n",
       "      <th>3</th>\n",
       "      <td>A4</td>\n",
       "      <td>GCGCTAATACGACTCACTATAGGGACCCCCACAGAATTCTTGATTT...</td>\n",
       "      <td>AAGGTATGAAATCAAGAATTCTGTGGGGGT</td>\n",
       "      <td>2.415000</td>\n",
       "      <td>1.207500</td>\n",
       "      <td>0.603750</td>\n",
       "      <td>5571.90</td>\n",
       "      <td>4072.29</td>\n",
       "      <td>2402.11</td>\n",
       "      <td>62.41</td>\n",
       "      <td>...</td>\n",
       "      <td>68.258297</td>\n",
       "      <td>39.948611</td>\n",
       "      <td>56.3725</td>\n",
       "      <td>61975.188</td>\n",
       "      <td>581.37040</td>\n",
       "      <td>619.75183</td>\n",
       "      <td>0.8</td>\n",
       "      <td>60.733333</td>\n",
       "      <td>10.204476</td>\n",
       "      <td>106.601898</td>\n",
       "    </tr>\n",
       "    <tr>\n",
       "      <th>4</th>\n",
       "      <td>A5</td>\n",
       "      <td>GCGCTAATACGACTCACTATAGGGAAACTCCACCACATACTGTATA...</td>\n",
       "      <td>ACAGAAGCTATACAGTATGTGGTGGAGTTT</td>\n",
       "      <td>2.190750</td>\n",
       "      <td>1.095375</td>\n",
       "      <td>0.547687</td>\n",
       "      <td>3247.06</td>\n",
       "      <td>2073.19</td>\n",
       "      <td>1096.94</td>\n",
       "      <td>56.49</td>\n",
       "      <td>...</td>\n",
       "      <td>35.615702</td>\n",
       "      <td>19.459642</td>\n",
       "      <td>53.8275</td>\n",
       "      <td>40883.242</td>\n",
       "      <td>580.57440</td>\n",
       "      <td>408.83243</td>\n",
       "      <td>0.8</td>\n",
       "      <td>57.023333</td>\n",
       "      <td>7.169564</td>\n",
       "      <td>70.418610</td>\n",
       "    </tr>\n",
       "    <tr>\n",
       "      <th>...</th>\n",
       "      <td>...</td>\n",
       "      <td>...</td>\n",
       "      <td>...</td>\n",
       "      <td>...</td>\n",
       "      <td>...</td>\n",
       "      <td>...</td>\n",
       "      <td>...</td>\n",
       "      <td>...</td>\n",
       "      <td>...</td>\n",
       "      <td>...</td>\n",
       "      <td>...</td>\n",
       "      <td>...</td>\n",
       "      <td>...</td>\n",
       "      <td>...</td>\n",
       "      <td>...</td>\n",
       "      <td>...</td>\n",
       "      <td>...</td>\n",
       "      <td>...</td>\n",
       "      <td>...</td>\n",
       "      <td>...</td>\n",
       "      <td>...</td>\n",
       "    </tr>\n",
       "    <tr>\n",
       "      <th>379</th>\n",
       "      <td>P20</td>\n",
       "      <td>GCGCTAATACGACTCACTATAGGGAGGGTCTTCAAACAGCCCTGGG...</td>\n",
       "      <td>GACTTCAGCCCAGGGCTGTTTGAAGACCCT</td>\n",
       "      <td>1.443333</td>\n",
       "      <td>0.721667</td>\n",
       "      <td>0.360833</td>\n",
       "      <td>8907.52</td>\n",
       "      <td>4285.04</td>\n",
       "      <td>2117.08</td>\n",
       "      <td>137.37</td>\n",
       "      <td>...</td>\n",
       "      <td>44.789798</td>\n",
       "      <td>25.770907</td>\n",
       "      <td>59.3875</td>\n",
       "      <td>167779.720</td>\n",
       "      <td>2332.00830</td>\n",
       "      <td>1677.79710</td>\n",
       "      <td>1.0</td>\n",
       "      <td>23.320083</td>\n",
       "      <td>71.946447</td>\n",
       "      <td>71.946451</td>\n",
       "    </tr>\n",
       "    <tr>\n",
       "      <th>380</th>\n",
       "      <td>P21</td>\n",
       "      <td>GCGCTAATACGACTCACTATAGGGAATGTTTACTGGAGAGGAAGAT...</td>\n",
       "      <td>TATTTTCCATCTTCCTCTCCAGTAAACATT</td>\n",
       "      <td>1.440000</td>\n",
       "      <td>0.720000</td>\n",
       "      <td>0.360000</td>\n",
       "      <td>250.29</td>\n",
       "      <td>116.89</td>\n",
       "      <td>72.15</td>\n",
       "      <td>75.16</td>\n",
       "      <td>...</td>\n",
       "      <td>2.115273</td>\n",
       "      <td>1.320461</td>\n",
       "      <td>51.7975</td>\n",
       "      <td>4834.108</td>\n",
       "      <td>1274.22600</td>\n",
       "      <td>48.34108</td>\n",
       "      <td>1.0</td>\n",
       "      <td>12.742260</td>\n",
       "      <td>3.793760</td>\n",
       "      <td>3.793760</td>\n",
       "    </tr>\n",
       "    <tr>\n",
       "      <th>381</th>\n",
       "      <td>P22</td>\n",
       "      <td>GCGCTAATACGACTCACTATAGGGCGAGTCCATTCAACTGGATGAA...</td>\n",
       "      <td>GAACTCTTTTCATCCAGTTGAATGGACTCG</td>\n",
       "      <td>1.522667</td>\n",
       "      <td>0.761333</td>\n",
       "      <td>0.380667</td>\n",
       "      <td>13392.87</td>\n",
       "      <td>6408.66</td>\n",
       "      <td>3811.25</td>\n",
       "      <td>163.54</td>\n",
       "      <td>...</td>\n",
       "      <td>57.235510</td>\n",
       "      <td>42.239277</td>\n",
       "      <td>59.3875</td>\n",
       "      <td>240898.300</td>\n",
       "      <td>2738.56100</td>\n",
       "      <td>2408.98300</td>\n",
       "      <td>1.0</td>\n",
       "      <td>27.385610</td>\n",
       "      <td>87.965281</td>\n",
       "      <td>87.965285</td>\n",
       "    </tr>\n",
       "    <tr>\n",
       "      <th>382</th>\n",
       "      <td>P23</td>\n",
       "      <td>GCGCTAATACGACTCACTATAGGGCCACGGCCAGGAACTTTGTGGG...</td>\n",
       "      <td>AGAATTCACCCACAAAGTTCCTGGCCGTGG</td>\n",
       "      <td>1.446000</td>\n",
       "      <td>0.723000</td>\n",
       "      <td>0.361500</td>\n",
       "      <td>4492.53</td>\n",
       "      <td>749.28</td>\n",
       "      <td>61.47</td>\n",
       "      <td>67.42</td>\n",
       "      <td>...</td>\n",
       "      <td>13.872986</td>\n",
       "      <td>1.179167</td>\n",
       "      <td>51.7975</td>\n",
       "      <td>89775.910</td>\n",
       "      <td>1105.34190</td>\n",
       "      <td>897.75903</td>\n",
       "      <td>1.0</td>\n",
       "      <td>11.053419</td>\n",
       "      <td>81.220030</td>\n",
       "      <td>81.220037</td>\n",
       "    </tr>\n",
       "    <tr>\n",
       "      <th>383</th>\n",
       "      <td>P24</td>\n",
       "      <td>GCGCTAATACGACTCACTATAGGGAAGATCAATGATAATCATAAGA...</td>\n",
       "      <td>AAAGATAATCTTATGATTATCATTGATCTT</td>\n",
       "      <td>1.445667</td>\n",
       "      <td>0.722833</td>\n",
       "      <td>0.361417</td>\n",
       "      <td>8755.02</td>\n",
       "      <td>4390.47</td>\n",
       "      <td>2407.37</td>\n",
       "      <td>189.42</td>\n",
       "      <td>...</td>\n",
       "      <td>33.080696</td>\n",
       "      <td>27.850185</td>\n",
       "      <td>59.3875</td>\n",
       "      <td>171508.480</td>\n",
       "      <td>3562.63650</td>\n",
       "      <td>1715.08480</td>\n",
       "      <td>1.0</td>\n",
       "      <td>35.626365</td>\n",
       "      <td>48.140888</td>\n",
       "      <td>48.140887</td>\n",
       "    </tr>\n",
       "  </tbody>\n",
       "</table>\n",
       "<p>384 rows × 29 columns</p>\n",
       "</div>"
      ],
      "text/plain": [
       "    WELL                                             SWITCH  \\\n",
       "0     A1  GCGCTAATACGACTCACTATAGGGCATCTGCTAACAAAGCTTCGCA...   \n",
       "1     A2  GCGCTAATACGACTCACTATAGGGCAGATCTGATTGACCAGACTGA...   \n",
       "2     A3  GCGCTAATACGACTCACTATAGGGAGGCGTAGTTCTTTTCCTCTTC...   \n",
       "3     A4  GCGCTAATACGACTCACTATAGGGACCCCCACAGAATTCTTGATTT...   \n",
       "4     A5  GCGCTAATACGACTCACTATAGGGAAACTCCACCACATACTGTATA...   \n",
       "..   ...                                                ...   \n",
       "379  P20  GCGCTAATACGACTCACTATAGGGAGGGTCTTCAAACAGCCCTGGG...   \n",
       "380  P21  GCGCTAATACGACTCACTATAGGGAATGTTTACTGGAGAGGAAGAT...   \n",
       "381  P22  GCGCTAATACGACTCACTATAGGGCGAGTCCATTCAACTGGATGAA...   \n",
       "382  P23  GCGCTAATACGACTCACTATAGGGCCACGGCCAGGAACTTTGTGGG...   \n",
       "383  P24  GCGCTAATACGACTCACTATAGGGAAGATCAATGATAATCATAAGA...   \n",
       "\n",
       "                            TRIGGER   OD260_1   OD260_2   OD260_4      ON_1  \\\n",
       "0    AAACTCTGTGCGAAGCTTTGTTAGCAGATG  2.519250  1.259625  0.629812   6748.75   \n",
       "1    ACAGATTATCAGTCTGGTCAATCAGATCTG  2.224000  1.112000  0.556000   3932.46   \n",
       "2    AGTTCATAGAAGAGGAAAAGAACTACGCCT  2.899250  1.449625  0.724812   9320.54   \n",
       "3    AAGGTATGAAATCAAGAATTCTGTGGGGGT  2.415000  1.207500  0.603750   5571.90   \n",
       "4    ACAGAAGCTATACAGTATGTGGTGGAGTTT  2.190750  1.095375  0.547687   3247.06   \n",
       "..                              ...       ...       ...       ...       ...   \n",
       "379  GACTTCAGCCCAGGGCTGTTTGAAGACCCT  1.443333  0.721667  0.360833   8907.52   \n",
       "380  TATTTTCCATCTTCCTCTCCAGTAAACATT  1.440000  0.720000  0.360000    250.29   \n",
       "381  GAACTCTTTTCATCCAGTTGAATGGACTCG  1.522667  0.761333  0.380667  13392.87   \n",
       "382  AGAATTCACCCACAAAGTTCCTGGCCGTGG  1.446000  0.723000  0.361500   4492.53   \n",
       "383  AAAGATAATCTTATGATTATCATTGATCTT  1.445667  0.722833  0.361417   8755.02   \n",
       "\n",
       "        ON_2     ON_4   OFF_1  ...   ON_OFF_2   ON_OFF_4      BLK    SLOPE_ON  \\\n",
       "0    4029.34  1710.38   68.64  ...  62.451023  28.716924  53.8275   74406.670   \n",
       "1    3120.18  1712.89  131.74  ...  31.223657  20.737167  56.3725   47676.650   \n",
       "2    6024.44  3250.97  205.23  ...  41.556460  31.142542  53.8275   87411.550   \n",
       "3    4072.29  2402.11   62.41  ...  68.258297  39.948611  56.3725   61975.188   \n",
       "4    2073.19  1096.94   56.49  ...  35.615702  19.459642  53.8275   40883.242   \n",
       "..       ...      ...     ...  ...        ...        ...      ...         ...   \n",
       "379  4285.04  2117.08  137.37  ...  44.789798  25.770907  59.3875  167779.720   \n",
       "380   116.89    72.15   75.16  ...   2.115273   1.320461  51.7975    4834.108   \n",
       "381  6408.66  3811.25  163.54  ...  57.235510  42.239277  59.3875  240898.300   \n",
       "382   749.28    61.47   67.42  ...  13.872986   1.179167  51.7975   89775.910   \n",
       "383  4390.47  2407.37  189.42  ...  33.080696  27.850185  59.3875  171508.480   \n",
       "\n",
       "      SLOPE_OFF      ADJ_ON  SPEAR_OFF    ADJ_OFF  ADJ_ON_OFF  SLOPE_ON_OFF  \n",
       "0     628.32196   744.06670        1.0   6.283220  118.421249    118.421247  \n",
       "1    1482.55710   476.76648        1.0  14.825571   32.158388     32.158390  \n",
       "2    1830.82870   874.11550        1.0  18.308287   47.744252     47.744254  \n",
       "3     581.37040   619.75183        0.8  60.733333   10.204476    106.601898  \n",
       "4     580.57440   408.83243        0.8  57.023333    7.169564     70.418610  \n",
       "..          ...         ...        ...        ...         ...           ...  \n",
       "379  2332.00830  1677.79710        1.0  23.320083   71.946447     71.946451  \n",
       "380  1274.22600    48.34108        1.0  12.742260    3.793760      3.793760  \n",
       "381  2738.56100  2408.98300        1.0  27.385610   87.965281     87.965285  \n",
       "382  1105.34190   897.75903        1.0  11.053419   81.220030     81.220037  \n",
       "383  3562.63650  1715.08480        1.0  35.626365   48.140888     48.140887  \n",
       "\n",
       "[384 rows x 29 columns]"
      ]
     },
     "execution_count": 27,
     "metadata": {},
     "output_type": "execute_result"
    }
   ],
   "source": [
    "big_screen"
   ]
  },
  {
   "cell_type": "code",
   "execution_count": 64,
   "id": "41484ab9-16d3-4164-8e7c-c62316f522c7",
   "metadata": {},
   "outputs": [
    {
     "name": "stdout",
     "output_type": "stream",
     "text": [
      "WilcoxonResult(statistic=22.0, pvalue=0.101806640625)\n"
     ]
    }
   ],
   "source": [
    "from scipy.stats import ttest_rel\n",
    "\n",
    "x=data[data['GROUP'] == 'pre_93'][TARGET].values\n",
    "# x = big_screen['ADJ_ON_OFF']\n",
    "\n",
    "y=data[data['GROUP'] == 'post_93'][TARGET].values\n",
    "\n",
    "print(wilcoxon(x,y,alternative='less'))\n",
    "# print(ttest_ind(x,y,alternative='two-sided'))"
   ]
  },
  {
   "cell_type": "code",
   "execution_count": 65,
   "id": "0a96cca1-b6c8-4a9c-b3e7-6694f83c1e9d",
   "metadata": {},
   "outputs": [
    {
     "data": {
      "text/plain": [
       "1.4855962695665696"
      ]
     },
     "execution_count": 65,
     "metadata": {},
     "output_type": "execute_result"
    }
   ],
   "source": [
    "test = y/x\n",
    "\n",
    "np.power(np.prod(test),1/12)"
   ]
  },
  {
   "cell_type": "code",
   "execution_count": 66,
   "id": "12db5969-6da6-4b39-a425-b28f84827f73",
   "metadata": {},
   "outputs": [
    {
     "data": {
      "text/plain": [
       "2.463140205636589"
      ]
     },
     "execution_count": 66,
     "metadata": {},
     "output_type": "execute_result"
    }
   ],
   "source": [
    "np.mean(y/x)"
   ]
  },
  {
   "cell_type": "code",
   "execution_count": 67,
   "id": "7f5bda4d-4773-40f9-b3f0-6ecfa2365f0a",
   "metadata": {},
   "outputs": [
    {
     "data": {
      "text/plain": [
       "array([ 23.98306182,  27.54862106,  17.85458014, 161.92992393,\n",
       "       111.31458517,  84.83917274,  69.44367579,  24.47712124,\n",
       "       108.39918463,  74.98164202,  60.49239419,  17.22562976])"
      ]
     },
     "execution_count": 67,
     "metadata": {},
     "output_type": "execute_result"
    }
   ],
   "source": [
    "y"
   ]
  },
  {
   "cell_type": "code",
   "execution_count": 62,
   "id": "dc98bbcd-4908-405b-b15b-0a379d29e68e",
   "metadata": {},
   "outputs": [
    {
     "name": "stdout",
     "output_type": "stream",
     "text": [
      "WilcoxonResult(statistic=16.0, pvalue=0.03857421875)\n"
     ]
    }
   ],
   "source": [
    "from scipy.stats import ttest_rel\n",
    "\n",
    "x=data[data['GROUP'] == 'pre_93_long'][TARGET].values\n",
    "# x = big_screen['ADJ_ON_OFF']\n",
    "\n",
    "y=data[data['GROUP'] == 'post_93_long'][TARGET].values\n",
    "\n",
    "print(wilcoxon(x,y,alternative='less'))\n",
    "# print(ttest_ind(x,y,alternative='two-sided'))"
   ]
  },
  {
   "cell_type": "code",
   "execution_count": 63,
   "id": "d60d0635-814c-4053-a861-3aa6d9112abd",
   "metadata": {},
   "outputs": [
    {
     "data": {
      "text/plain": [
       "array([ 65.6064234 ,  79.72222266, 109.57103519, 158.29373777,\n",
       "        24.04443579,   6.63921119, 113.61896508, 109.97120844,\n",
       "        70.64708846,  17.10753041,  23.65859223, 109.32982459])"
      ]
     },
     "execution_count": 63,
     "metadata": {},
     "output_type": "execute_result"
    }
   ],
   "source": [
    "y"
   ]
  },
  {
   "cell_type": "code",
   "execution_count": 57,
   "id": "e7aae586-8d8f-4b39-9c95-7344a5a8ab2f",
   "metadata": {},
   "outputs": [
    {
     "data": {
      "text/plain": [
       "2.07047592884766"
      ]
     },
     "execution_count": 57,
     "metadata": {},
     "output_type": "execute_result"
    }
   ],
   "source": [
    "test = y/x\n",
    "\n",
    "np.power(np.prod(test),1/12)"
   ]
  },
  {
   "cell_type": "code",
   "execution_count": 58,
   "id": "c8b77d10-8b7d-4a56-8bd7-89807c7a5ba1",
   "metadata": {},
   "outputs": [
    {
     "data": {
      "text/plain": [
       "3.9331828085726657"
      ]
     },
     "execution_count": 58,
     "metadata": {},
     "output_type": "execute_result"
    }
   ],
   "source": [
    "np.mean(y/x)"
   ]
  },
  {
   "cell_type": "code",
   "execution_count": 31,
   "id": "4d7b97f1-23ea-4a81-944c-e86caeb2380f",
   "metadata": {},
   "outputs": [
    {
     "name": "stdout",
     "output_type": "stream",
     "text": [
      "1.4081070656256198\n"
     ]
    },
    {
     "data": {
      "text/plain": [
       "Text(0.5, 0, 'Optimization Pairs')"
      ]
     },
     "execution_count": 31,
     "metadata": {},
     "output_type": "execute_result"
    },
    {
     "data": {
      "image/png": "[encoded data removed]",
      "text/plain": [
       "<Figure size 700x300 with 1 Axes>"
      ]
     },
     "metadata": {},
     "output_type": "display_data"
    }
   ],
   "source": [
    "MODEL = '93_long'\n",
    "TARGET = 'ADJ_ON_OFF'\n",
    "\n",
    "pre = data[data['GROUP'] == 'pre_%s'%MODEL]\n",
    "post = data[data['GROUP'] == 'post_%s'%MODEL]\n",
    "# df = pd.read_csv('sequences/rbs_gardn_sandstorm_10_10_23.csv')\n",
    "tick_1 = 0.2\n",
    "tick_2 = 0.6\n",
    "pre_mean = np.mean(pre[TARGET])\n",
    "post_mean = np.mean(post[TARGET])\n",
    "print(post_mean/pre_mean)\n",
    "\n",
    "plt.figure(figsize=(7,3))\n",
    "plt.title('Model A')\n",
    "plt.rcParams.update({'font.size': 11,'font.family':'Helvetica'})\n",
    "# plt.xticks(ticks=[tick_1,tick_2], labels=['Pre-Optimization ON/OFF','Post-Optimization ON/OFF'])\n",
    "plt.subplot().spines['right'].set_visible(False)\n",
    "plt.subplot().spines['top'].set_visible(False)\n",
    "plt.subplot().spines['left'].set_linewidth(2.5)\n",
    "plt.subplot().spines['bottom'].set_linewidth(2.5)\n",
    "plt.ylabel('Measured ON/OFF Value')\n",
    "\n",
    "plt.xticks(np.arange(0,pre.shape[0])+0.4,labels=[1,2,3,4,5,6,7,8,9,10,11,12])\n",
    "# plt.xticks(np.arange(0,pre.shape[0])+0.4,labels=[1,2,3,4,5,6])\n",
    "\n",
    "for j in range(pre.shape[0]):\n",
    "    plt.bar([j + tick_1, j + tick_2],[pre.iloc[j,:][TARGET],post.iloc[j,:][TARGET]],color=[util.BLUE,util.RED],alpha=1,width=0.4,edgecolor='black',linewidth=2)\n",
    "    plt.text(x=j, y=max(post.iloc[j,:][TARGET],pre.iloc[j,:][TARGET])+5,s='%.2fX'%(post.iloc[j,:][TARGET]/pre.iloc[j,:][TARGET]))\n",
    "\n",
    "# plt.plot([tick_1,tick_2],[pre_mean,post_mean],color='red',alpha=1,marker='o',linewidth=3,label='Average Change: %.2f'%(post_mean/pre_mean))\n",
    "# legend = plt.legend(['Pre-Optimization ON/OFF','Post-Optimization ON/OFF'],loc='center')\n",
    "# legend.legendHandles[0].set_color(util.RED)\n",
    "# legend.legendHandles[1].set_color(util.BLUE)\n",
    "# legend.legendHandles[0].set_edgecolor('black')\n",
    "# legend.legendHandles[1].set_edgecolor('black')\n",
    "plt.xlabel('Optimization Pairs')\n",
    "# plt.savefig('../figures/model_b_individual_long.svg',transparent=True)"
   ]
  },
  {
   "cell_type": "code",
   "execution_count": 46,
   "id": "53fd06f4-1032-43bd-84c8-a2dd9c29f680",
   "metadata": {},
   "outputs": [
    {
     "name": "stdout",
     "output_type": "stream",
     "text": [
      "0.101806640625\n"
     ]
    }
   ],
   "source": [
    "samps_1 = data[data['GROUP'] == 'pre_93'][TARGET]\n",
    "samps_2 =  data[data['GROUP'] == 'post_93'][TARGET]\n",
    "\n",
    "h,p_value = wilcoxon(samps_2,samps_1,alternative='greater')\n",
    "\n",
    "print(p_value)"
   ]
  },
  {
   "cell_type": "code",
   "execution_count": 47,
   "id": "ed2a4c6e-81ec-4cfc-be21-e2bd082d7c8f",
   "metadata": {},
   "outputs": [
    {
     "name": "stdout",
     "output_type": "stream",
     "text": [
      "0.03857421875\n"
     ]
    }
   ],
   "source": [
    "samps_1 = data[data['GROUP'] == 'pre_93_long'][TARGET]\n",
    "samps_2 =  data[data['GROUP'] == 'post_93_long'][TARGET]\n",
    "\n",
    "h,p_value = wilcoxon(samps_2,samps_1,alternative='greater')\n",
    "\n",
    "print(p_value)"
   ]
  },
  {
   "cell_type": "code",
   "execution_count": 36,
   "id": "02c628ee-570b-4bb0-92e9-2fc16b9d824e",
   "metadata": {},
   "outputs": [
    {
     "name": "stdout",
     "output_type": "stream",
     "text": [
      "0.007575757575757576\n"
     ]
    }
   ],
   "source": [
    "samps_1 = data[data['GROUP'] == 'sandstorm_low'][TARGET]\n",
    "samps_2 =  data[data['GROUP'] == 'sandstorm_high'][TARGET]\n",
    "\n",
    "h,p_value = mannwhitneyu(samps_2,samps_1,alternative='greater')\n",
    "\n",
    "print(p_value)"
   ]
  },
  {
   "cell_type": "code",
   "execution_count": null,
   "id": "a862acf9-4286-4aa9-a771-2021c3aa5f6b",
   "metadata": {},
   "outputs": [],
   "source": []
  }
 ],
 "metadata": {
  "kernelspec": {
   "display_name": "Python 3 (ipykernel)",
   "language": "python",
   "name": "python3"
  },
  "language_info": {
   "codemirror_mode": {
    "name": "ipython",
    "version": 3
   },
   "file_extension": ".py",
   "mimetype": "text/x-python",
   "name": "python",
   "nbconvert_exporter": "python",
   "pygments_lexer": "ipython3",
   "version": "3.10.8"
  }
 },
 "nbformat": 4,
 "nbformat_minor": 5
}
