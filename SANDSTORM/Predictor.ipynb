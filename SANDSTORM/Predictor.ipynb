{
 "cells": [
  {
   "cell_type": "code",
   "execution_count": 1,
   "id": "f5d6ef4b-a818-4dda-b302-5480efefc72e",
   "metadata": {},
   "outputs": [
    {
     "name": "stdout",
     "output_type": "stream",
     "text": [
      "loaded tf 2.11.0\n"
     ]
    }
   ],
   "source": [
    "# Trains the structure-sequence hybrid predictor as well as the final CNN from Valeri et al. for comparison\n",
    "\n",
    "\n",
    "# 7/1/22\n",
    "\n",
    "import sys\n",
    "sys.path.insert(1,\"../src\")\n",
    "import pandas as pd\n",
    "import numpy as np\n",
    "import tensorflow as tf\n",
    "import tensorflow.keras\n",
    "import matplotlib.pyplot as plt\n",
    "import util\n",
    "import GA_util\n",
    "import keras.layers\n",
    "print('loaded tf',tf.__version__)\n",
    "from sklearn.model_selection import train_test_split\n",
    "\n",
    "\n",
    "\n",
    "tfk = tensorflow.keras\n",
    "tfkl = tfk.layers"
   ]
  },
  {
   "cell_type": "code",
   "execution_count": 7,
   "id": "f111c668-cdb1-4c7c-95ad-63d2e1cebae7",
   "metadata": {},
   "outputs": [
    {
     "name": "stdout",
     "output_type": "stream",
     "text": [
      "(55390, 4, 59)\n"
     ]
    },
    {
     "data": {
      "text/plain": [
       "(array([ 5036.,  5026.,  5045.,  5035.,  5035.,  5036.,  5035.,  3530.,\n",
       "         6541., 10071.]),\n",
       " array([ 0.,  1.,  2.,  3.,  4.,  5.,  6.,  7.,  8.,  9., 10.]),\n",
       " <BarContainer object of 10 artists>)"
      ]
     },
     "execution_count": 7,
     "metadata": {},
     "output_type": "execute_result"
    },
    {
     "data": {
      "image/png": "[encoded data removed]",
      "text/plain": [
       "<Figure size 640x480 with 1 Axes>"
      ]
     },
     "metadata": {},
     "output_type": "display_data"
    }
   ],
   "source": [
    "#Initial Data Loading for Toehold Switch Regression Analysis\n",
    "\n",
    "from util import one_hot_encode,load_valeri_data\n",
    "\n",
    "\n",
    "\n",
    "valeri_sequences,on,off = load_valeri_data(path='../data/toehold_data/Toehold_Dataset_Final_2019-10-23.csv',threshold=-1)\n",
    "print(valeri_sequences.shape)\n",
    "\n",
    "on = on.values\n",
    "off = off.values\n",
    "\n",
    "# valeri_ppms = GA_util.create_ppms_fast(valeri_sequences)\n",
    "\n",
    "\n",
    "from sklearn.preprocessing import KBinsDiscretizer\n",
    "\n",
    "est =  KBinsDiscretizer(n_bins=11,encode='ordinal',strategy='quantile')\n",
    "bins = est.fit(on.reshape(-1,1))\n",
    "encoded_vals = bins.transform(on.reshape(-1,1))\n",
    "\n",
    "plt.figure()\n",
    "plt.hist(encoded_vals)"
   ]
  },
  {
   "cell_type": "code",
   "execution_count": 8,
   "id": "7ffa2f37-e6a4-480f-b03a-5d845bd24607",
   "metadata": {},
   "outputs": [],
   "source": [
    "from datetime import date\n",
    "\n",
    "today = date.today()\n",
    "\n",
    "# joint_model.save('models/predictor_%s'%today)"
   ]
  },
  {
   "cell_type": "code",
   "execution_count": 56,
   "id": "98d0e385-dc2e-4120-94f1-8eeb4c4e111b",
   "metadata": {},
   "outputs": [
    {
     "name": "stdout",
     "output_type": "stream",
     "text": [
      "Epoch 1/20\n"
     ]
    },
    {
     "name": "stderr",
     "output_type": "stream",
     "text": [
      "2025-03-18 22:01:55.962599: I tensorflow/core/grappler/optimizers/custom_graph_optimizer_registry.cc:114] Plugin optimizer for device_type GPU is enabled.\n"
     ]
    },
    {
     "name": "stdout",
     "output_type": "stream",
     "text": [
      "693/693 [==============================] - ETA: 0s - loss: 0.2945 - prediction_output_0_loss: 0.1652 - prediction_output_1_loss: 0.1293"
     ]
    },
    {
     "name": "stderr",
     "output_type": "stream",
     "text": [
      "2025-03-18 22:02:03.608061: I tensorflow/core/grappler/optimizers/custom_graph_optimizer_registry.cc:114] Plugin optimizer for device_type GPU is enabled.\n"
     ]
    },
    {
     "name": "stdout",
     "output_type": "stream",
     "text": [
      "693/693 [==============================] - 9s 12ms/step - loss: 0.2945 - prediction_output_0_loss: 0.1652 - prediction_output_1_loss: 0.1293 - val_loss: 0.2468 - val_prediction_output_0_loss: 0.1275 - val_prediction_output_1_loss: 0.1193\n",
      "Epoch 2/20\n",
      "693/693 [==============================] - 7s 11ms/step - loss: 0.2164 - prediction_output_0_loss: 0.1071 - prediction_output_1_loss: 0.1094 - val_loss: 0.1890 - val_prediction_output_0_loss: 0.0922 - val_prediction_output_1_loss: 0.0968\n",
      "Epoch 3/20\n",
      "693/693 [==============================] - 8s 11ms/step - loss: 0.1707 - prediction_output_0_loss: 0.0835 - prediction_output_1_loss: 0.0872 - val_loss: 0.1545 - val_prediction_output_0_loss: 0.0778 - val_prediction_output_1_loss: 0.0767\n",
      "Epoch 4/20\n",
      "693/693 [==============================] - 7s 11ms/step - loss: 0.1428 - prediction_output_0_loss: 0.0705 - prediction_output_1_loss: 0.0723 - val_loss: 0.1328 - val_prediction_output_0_loss: 0.0671 - val_prediction_output_1_loss: 0.0657\n",
      "Epoch 5/20\n",
      "693/693 [==============================] - 8s 11ms/step - loss: 0.1233 - prediction_output_0_loss: 0.0622 - prediction_output_1_loss: 0.0611 - val_loss: 0.1171 - val_prediction_output_0_loss: 0.0613 - val_prediction_output_1_loss: 0.0558\n",
      "Epoch 6/20\n",
      "693/693 [==============================] - 8s 11ms/step - loss: 0.1099 - prediction_output_0_loss: 0.0569 - prediction_output_1_loss: 0.0531 - val_loss: 0.1066 - val_prediction_output_0_loss: 0.0577 - val_prediction_output_1_loss: 0.0489\n",
      "Epoch 7/20\n",
      "693/693 [==============================] - 8s 11ms/step - loss: 0.1003 - prediction_output_0_loss: 0.0531 - prediction_output_1_loss: 0.0472 - val_loss: 0.0989 - val_prediction_output_0_loss: 0.0549 - val_prediction_output_1_loss: 0.0441\n",
      "Epoch 8/20\n",
      "693/693 [==============================] - 8s 11ms/step - loss: 0.0932 - prediction_output_0_loss: 0.0503 - prediction_output_1_loss: 0.0430 - val_loss: 0.0931 - val_prediction_output_0_loss: 0.0520 - val_prediction_output_1_loss: 0.0411\n",
      "Epoch 9/20\n",
      "693/693 [==============================] - 8s 12ms/step - loss: 0.0881 - prediction_output_0_loss: 0.0482 - prediction_output_1_loss: 0.0399 - val_loss: 0.0892 - val_prediction_output_0_loss: 0.0505 - val_prediction_output_1_loss: 0.0387\n",
      "Epoch 10/20\n",
      "693/693 [==============================] - 8s 11ms/step - loss: 0.0842 - prediction_output_0_loss: 0.0466 - prediction_output_1_loss: 0.0376 - val_loss: 0.0863 - val_prediction_output_0_loss: 0.0496 - val_prediction_output_1_loss: 0.0367\n",
      "Epoch 11/20\n",
      "693/693 [==============================] - 7s 10ms/step - loss: 0.0814 - prediction_output_0_loss: 0.0454 - prediction_output_1_loss: 0.0360 - val_loss: 0.0837 - val_prediction_output_0_loss: 0.0480 - val_prediction_output_1_loss: 0.0357\n",
      "Epoch 12/20\n",
      "693/693 [==============================] - 7s 10ms/step - loss: 0.0789 - prediction_output_0_loss: 0.0442 - prediction_output_1_loss: 0.0347 - val_loss: 0.0816 - val_prediction_output_0_loss: 0.0471 - val_prediction_output_1_loss: 0.0345\n",
      "Epoch 13/20\n",
      "693/693 [==============================] - 7s 10ms/step - loss: 0.0768 - prediction_output_0_loss: 0.0432 - prediction_output_1_loss: 0.0336 - val_loss: 0.0802 - val_prediction_output_0_loss: 0.0464 - val_prediction_output_1_loss: 0.0337\n",
      "Epoch 14/20\n",
      "693/693 [==============================] - 8s 11ms/step - loss: 0.0753 - prediction_output_0_loss: 0.0424 - prediction_output_1_loss: 0.0329 - val_loss: 0.0794 - val_prediction_output_0_loss: 0.0460 - val_prediction_output_1_loss: 0.0334\n",
      "Epoch 15/20\n",
      "693/693 [==============================] - 8s 12ms/step - loss: 0.0739 - prediction_output_0_loss: 0.0417 - prediction_output_1_loss: 0.0322 - val_loss: 0.0779 - val_prediction_output_0_loss: 0.0452 - val_prediction_output_1_loss: 0.0327\n",
      "Epoch 16/20\n",
      "693/693 [==============================] - 8s 12ms/step - loss: 0.0725 - prediction_output_0_loss: 0.0409 - prediction_output_1_loss: 0.0316 - val_loss: 0.0767 - val_prediction_output_0_loss: 0.0447 - val_prediction_output_1_loss: 0.0320\n",
      "Epoch 17/20\n",
      "693/693 [==============================] - 8s 11ms/step - loss: 0.0714 - prediction_output_0_loss: 0.0403 - prediction_output_1_loss: 0.0310 - val_loss: 0.0762 - val_prediction_output_0_loss: 0.0446 - val_prediction_output_1_loss: 0.0316\n",
      "Epoch 18/20\n",
      "693/693 [==============================] - 7s 11ms/step - loss: 0.0704 - prediction_output_0_loss: 0.0399 - prediction_output_1_loss: 0.0306 - val_loss: 0.0750 - val_prediction_output_0_loss: 0.0438 - val_prediction_output_1_loss: 0.0313\n",
      "Epoch 19/20\n",
      "693/693 [==============================] - 7s 11ms/step - loss: 0.0694 - prediction_output_0_loss: 0.0393 - prediction_output_1_loss: 0.0302 - val_loss: 0.0740 - val_prediction_output_0_loss: 0.0433 - val_prediction_output_1_loss: 0.0308\n",
      "Epoch 20/20\n",
      "693/693 [==============================] - 7s 11ms/step - loss: 0.0687 - prediction_output_0_loss: 0.0389 - prediction_output_1_loss: 0.0298 - val_loss: 0.0733 - val_prediction_output_0_loss: 0.0428 - val_prediction_output_1_loss: 0.0305\n",
      " 39/347 [==>...........................] - ETA: 0s"
     ]
    },
    {
     "name": "stderr",
     "output_type": "stream",
     "text": [
      "2025-03-18 22:04:29.073924: I tensorflow/core/grappler/optimizers/custom_graph_optimizer_registry.cc:114] Plugin optimizer for device_type GPU is enabled.\n"
     ]
    },
    {
     "name": "stdout",
     "output_type": "stream",
     "text": [
      "347/347 [==============================] - 1s 3ms/step\n",
      "347/347 [==============================] - 1s 3ms/step\n",
      "Epoch 1/20\n"
     ]
    },
    {
     "name": "stderr",
     "output_type": "stream",
     "text": [
      "2025-03-18 22:04:31.855964: I tensorflow/core/grappler/optimizers/custom_graph_optimizer_registry.cc:114] Plugin optimizer for device_type GPU is enabled.\n"
     ]
    },
    {
     "name": "stdout",
     "output_type": "stream",
     "text": [
      "347/347 [==============================] - ETA: 0s - loss: 0.1246 - on_output_loss: 0.0795 - off_output_loss: 0.0451"
     ]
    },
    {
     "name": "stderr",
     "output_type": "stream",
     "text": [
      "2025-03-18 22:04:35.136925: I tensorflow/core/grappler/optimizers/custom_graph_optimizer_registry.cc:114] Plugin optimizer for device_type GPU is enabled.\n"
     ]
    },
    {
     "name": "stdout",
     "output_type": "stream",
     "text": [
      "347/347 [==============================] - 4s 10ms/step - loss: 0.1246 - on_output_loss: 0.0795 - off_output_loss: 0.0451 - val_loss: 0.1041 - val_on_output_loss: 0.0675 - val_off_output_loss: 0.0365\n",
      "Epoch 2/20\n",
      "347/347 [==============================] - 3s 9ms/step - loss: 0.1039 - on_output_loss: 0.0665 - off_output_loss: 0.0374 - val_loss: 0.1016 - val_on_output_loss: 0.0658 - val_off_output_loss: 0.0358\n",
      "Epoch 3/20\n",
      "347/347 [==============================] - 3s 9ms/step - loss: 0.1002 - on_output_loss: 0.0640 - off_output_loss: 0.0362 - val_loss: 0.0968 - val_on_output_loss: 0.0622 - val_off_output_loss: 0.0346\n",
      "Epoch 4/20\n",
      "347/347 [==============================] - 3s 9ms/step - loss: 0.0975 - on_output_loss: 0.0622 - off_output_loss: 0.0353 - val_loss: 0.0950 - val_on_output_loss: 0.0611 - val_off_output_loss: 0.0339\n",
      "Epoch 5/20\n",
      "347/347 [==============================] - 3s 9ms/step - loss: 0.0954 - on_output_loss: 0.0608 - off_output_loss: 0.0345 - val_loss: 0.0924 - val_on_output_loss: 0.0592 - val_off_output_loss: 0.0332\n",
      "Epoch 6/20\n",
      "347/347 [==============================] - 3s 9ms/step - loss: 0.0929 - on_output_loss: 0.0592 - off_output_loss: 0.0337 - val_loss: 0.0916 - val_on_output_loss: 0.0588 - val_off_output_loss: 0.0328\n",
      "Epoch 7/20\n",
      "347/347 [==============================] - 3s 9ms/step - loss: 0.0909 - on_output_loss: 0.0577 - off_output_loss: 0.0332 - val_loss: 0.0882 - val_on_output_loss: 0.0563 - val_off_output_loss: 0.0319\n",
      "Epoch 8/20\n",
      "347/347 [==============================] - 3s 9ms/step - loss: 0.0888 - on_output_loss: 0.0562 - off_output_loss: 0.0326 - val_loss: 0.0857 - val_on_output_loss: 0.0545 - val_off_output_loss: 0.0312\n",
      "Epoch 9/20\n",
      "347/347 [==============================] - 3s 9ms/step - loss: 0.0863 - on_output_loss: 0.0544 - off_output_loss: 0.0319 - val_loss: 0.0845 - val_on_output_loss: 0.0537 - val_off_output_loss: 0.0308\n",
      "Epoch 10/20\n",
      "347/347 [==============================] - 3s 9ms/step - loss: 0.0845 - on_output_loss: 0.0530 - off_output_loss: 0.0315 - val_loss: 0.0822 - val_on_output_loss: 0.0518 - val_off_output_loss: 0.0304\n",
      "Epoch 11/20\n",
      "347/347 [==============================] - 3s 9ms/step - loss: 0.0824 - on_output_loss: 0.0515 - off_output_loss: 0.0309 - val_loss: 0.0802 - val_on_output_loss: 0.0505 - val_off_output_loss: 0.0298\n",
      "Epoch 12/20\n",
      "347/347 [==============================] - 3s 9ms/step - loss: 0.0810 - on_output_loss: 0.0505 - off_output_loss: 0.0304 - val_loss: 0.0792 - val_on_output_loss: 0.0496 - val_off_output_loss: 0.0296\n",
      "Epoch 13/20\n",
      "347/347 [==============================] - 3s 9ms/step - loss: 0.0790 - on_output_loss: 0.0491 - off_output_loss: 0.0299 - val_loss: 0.0777 - val_on_output_loss: 0.0486 - val_off_output_loss: 0.0291\n",
      "Epoch 14/20\n",
      "347/347 [==============================] - 3s 9ms/step - loss: 0.0773 - on_output_loss: 0.0477 - off_output_loss: 0.0296 - val_loss: 0.0764 - val_on_output_loss: 0.0476 - val_off_output_loss: 0.0288\n",
      "Epoch 15/20\n",
      "347/347 [==============================] - 3s 10ms/step - loss: 0.0760 - on_output_loss: 0.0469 - off_output_loss: 0.0291 - val_loss: 0.0742 - val_on_output_loss: 0.0460 - val_off_output_loss: 0.0282\n",
      "Epoch 16/20\n",
      "347/347 [==============================] - 3s 9ms/step - loss: 0.0749 - on_output_loss: 0.0460 - off_output_loss: 0.0289 - val_loss: 0.0729 - val_on_output_loss: 0.0451 - val_off_output_loss: 0.0278\n",
      "Epoch 17/20\n",
      "347/347 [==============================] - 3s 9ms/step - loss: 0.0735 - on_output_loss: 0.0449 - off_output_loss: 0.0285 - val_loss: 0.0717 - val_on_output_loss: 0.0442 - val_off_output_loss: 0.0276\n",
      "Epoch 18/20\n",
      "347/347 [==============================] - 3s 9ms/step - loss: 0.0728 - on_output_loss: 0.0446 - off_output_loss: 0.0283 - val_loss: 0.0714 - val_on_output_loss: 0.0440 - val_off_output_loss: 0.0274\n",
      "Epoch 19/20\n",
      "347/347 [==============================] - 3s 9ms/step - loss: 0.0714 - on_output_loss: 0.0436 - off_output_loss: 0.0279 - val_loss: 0.0702 - val_on_output_loss: 0.0430 - val_off_output_loss: 0.0271\n",
      "Epoch 20/20\n",
      "347/347 [==============================] - 3s 9ms/step - loss: 0.0707 - on_output_loss: 0.0430 - off_output_loss: 0.0277 - val_loss: 0.0691 - val_on_output_loss: 0.0421 - val_off_output_loss: 0.0269\n",
      "Epoch 1/20\n"
     ]
    },
    {
     "name": "stderr",
     "output_type": "stream",
     "text": [
      "2025-03-18 22:05:41.029233: I tensorflow/core/grappler/optimizers/custom_graph_optimizer_registry.cc:114] Plugin optimizer for device_type GPU is enabled.\n"
     ]
    },
    {
     "name": "stdout",
     "output_type": "stream",
     "text": [
      "693/693 [==============================] - ETA: 0s - loss: 0.1087 - prediction_output_0_loss: 0.0697 - prediction_output_1_loss: 0.0390"
     ]
    },
    {
     "name": "stderr",
     "output_type": "stream",
     "text": [
      "2025-03-18 22:05:48.833016: I tensorflow/core/grappler/optimizers/custom_graph_optimizer_registry.cc:114] Plugin optimizer for device_type GPU is enabled.\n"
     ]
    },
    {
     "name": "stdout",
     "output_type": "stream",
     "text": [
      "693/693 [==============================] - 9s 12ms/step - loss: 0.1087 - prediction_output_0_loss: 0.0697 - prediction_output_1_loss: 0.0390 - val_loss: 0.0960 - val_prediction_output_0_loss: 0.0610 - val_prediction_output_1_loss: 0.0350\n",
      "Epoch 2/20\n",
      "693/693 [==============================] - 8s 11ms/step - loss: 0.0930 - prediction_output_0_loss: 0.0587 - prediction_output_1_loss: 0.0343 - val_loss: 0.0913 - val_prediction_output_0_loss: 0.0573 - val_prediction_output_1_loss: 0.0340\n",
      "Epoch 3/20\n",
      "693/693 [==============================] - 7s 11ms/step - loss: 0.0888 - prediction_output_0_loss: 0.0557 - prediction_output_1_loss: 0.0331 - val_loss: 0.0883 - val_prediction_output_0_loss: 0.0550 - val_prediction_output_1_loss: 0.0333\n",
      "Epoch 4/20\n",
      "693/693 [==============================] - 7s 11ms/step - loss: 0.0855 - prediction_output_0_loss: 0.0533 - prediction_output_1_loss: 0.0322 - val_loss: 0.0858 - val_prediction_output_0_loss: 0.0532 - val_prediction_output_1_loss: 0.0326\n",
      "Epoch 5/20\n",
      "693/693 [==============================] - 7s 10ms/step - loss: 0.0828 - prediction_output_0_loss: 0.0512 - prediction_output_1_loss: 0.0315 - val_loss: 0.0837 - val_prediction_output_0_loss: 0.0515 - val_prediction_output_1_loss: 0.0322\n",
      "Epoch 6/20\n",
      "693/693 [==============================] - 7s 10ms/step - loss: 0.0800 - prediction_output_0_loss: 0.0491 - prediction_output_1_loss: 0.0309 - val_loss: 0.0818 - val_prediction_output_0_loss: 0.0499 - val_prediction_output_1_loss: 0.0319\n",
      "Epoch 7/20\n",
      "693/693 [==============================] - 7s 11ms/step - loss: 0.0773 - prediction_output_0_loss: 0.0471 - prediction_output_1_loss: 0.0302 - val_loss: 0.0787 - val_prediction_output_0_loss: 0.0477 - val_prediction_output_1_loss: 0.0311\n",
      "Epoch 8/20\n",
      "693/693 [==============================] - 7s 11ms/step - loss: 0.0750 - prediction_output_0_loss: 0.0453 - prediction_output_1_loss: 0.0297 - val_loss: 0.0775 - val_prediction_output_0_loss: 0.0464 - val_prediction_output_1_loss: 0.0312\n",
      "Epoch 9/20\n",
      "693/693 [==============================] - 8s 11ms/step - loss: 0.0729 - prediction_output_0_loss: 0.0437 - prediction_output_1_loss: 0.0292 - val_loss: 0.0752 - val_prediction_output_0_loss: 0.0449 - val_prediction_output_1_loss: 0.0303\n",
      "Epoch 10/20\n",
      "693/693 [==============================] - 8s 11ms/step - loss: 0.0712 - prediction_output_0_loss: 0.0425 - prediction_output_1_loss: 0.0287 - val_loss: 0.0735 - val_prediction_output_0_loss: 0.0439 - val_prediction_output_1_loss: 0.0297\n",
      "Epoch 11/20\n",
      "693/693 [==============================] - 7s 11ms/step - loss: 0.0699 - prediction_output_0_loss: 0.0416 - prediction_output_1_loss: 0.0282 - val_loss: 0.0725 - val_prediction_output_0_loss: 0.0432 - val_prediction_output_1_loss: 0.0293\n",
      "Epoch 12/20\n",
      "693/693 [==============================] - 7s 11ms/step - loss: 0.0684 - prediction_output_0_loss: 0.0406 - prediction_output_1_loss: 0.0278 - val_loss: 0.0711 - val_prediction_output_0_loss: 0.0423 - val_prediction_output_1_loss: 0.0288\n",
      "Epoch 13/20\n",
      "693/693 [==============================] - 7s 11ms/step - loss: 0.0673 - prediction_output_0_loss: 0.0398 - prediction_output_1_loss: 0.0275 - val_loss: 0.0700 - val_prediction_output_0_loss: 0.0416 - val_prediction_output_1_loss: 0.0284\n",
      "Epoch 14/20\n",
      "693/693 [==============================] - 7s 11ms/step - loss: 0.0663 - prediction_output_0_loss: 0.0391 - prediction_output_1_loss: 0.0272 - val_loss: 0.0691 - val_prediction_output_0_loss: 0.0409 - val_prediction_output_1_loss: 0.0282\n",
      "Epoch 15/20\n",
      "693/693 [==============================] - 7s 11ms/step - loss: 0.0654 - prediction_output_0_loss: 0.0384 - prediction_output_1_loss: 0.0269 - val_loss: 0.0691 - val_prediction_output_0_loss: 0.0412 - val_prediction_output_1_loss: 0.0280\n",
      "Epoch 16/20\n",
      "693/693 [==============================] - 7s 11ms/step - loss: 0.0647 - prediction_output_0_loss: 0.0380 - prediction_output_1_loss: 0.0267 - val_loss: 0.0679 - val_prediction_output_0_loss: 0.0401 - val_prediction_output_1_loss: 0.0278\n",
      "Epoch 17/20\n",
      "693/693 [==============================] - 7s 11ms/step - loss: 0.0639 - prediction_output_0_loss: 0.0375 - prediction_output_1_loss: 0.0264 - val_loss: 0.0671 - val_prediction_output_0_loss: 0.0396 - val_prediction_output_1_loss: 0.0275\n",
      "Epoch 18/20\n",
      "693/693 [==============================] - 7s 11ms/step - loss: 0.0632 - prediction_output_0_loss: 0.0370 - prediction_output_1_loss: 0.0262 - val_loss: 0.0669 - val_prediction_output_0_loss: 0.0394 - val_prediction_output_1_loss: 0.0274\n",
      "Epoch 19/20\n",
      "693/693 [==============================] - 7s 11ms/step - loss: 0.0626 - prediction_output_0_loss: 0.0366 - prediction_output_1_loss: 0.0260 - val_loss: 0.0664 - val_prediction_output_0_loss: 0.0392 - val_prediction_output_1_loss: 0.0272\n",
      "Epoch 20/20\n",
      "693/693 [==============================] - 7s 11ms/step - loss: 0.0620 - prediction_output_0_loss: 0.0362 - prediction_output_1_loss: 0.0258 - val_loss: 0.0661 - val_prediction_output_0_loss: 0.0389 - val_prediction_output_1_loss: 0.0271\n",
      " 40/347 [==>...........................] - ETA: 0s"
     ]
    },
    {
     "name": "stderr",
     "output_type": "stream",
     "text": [
      "2025-03-18 22:08:10.827033: I tensorflow/core/grappler/optimizers/custom_graph_optimizer_registry.cc:114] Plugin optimizer for device_type GPU is enabled.\n"
     ]
    },
    {
     "name": "stdout",
     "output_type": "stream",
     "text": [
      "347/347 [==============================] - 1s 3ms/step\n",
      "347/347 [==============================] - 1s 3ms/step\n",
      "Epoch 1/20\n"
     ]
    },
    {
     "name": "stderr",
     "output_type": "stream",
     "text": [
      "2025-03-18 22:08:13.261169: I tensorflow/core/grappler/optimizers/custom_graph_optimizer_registry.cc:114] Plugin optimizer for device_type GPU is enabled.\n"
     ]
    },
    {
     "name": "stdout",
     "output_type": "stream",
     "text": [
      "347/347 [==============================] - ETA: 0s - loss: 0.1199 - on_output_loss: 0.0774 - off_output_loss: 0.0424"
     ]
    },
    {
     "name": "stderr",
     "output_type": "stream",
     "text": [
      "2025-03-18 22:08:16.534239: I tensorflow/core/grappler/optimizers/custom_graph_optimizer_registry.cc:114] Plugin optimizer for device_type GPU is enabled.\n"
     ]
    },
    {
     "name": "stdout",
     "output_type": "stream",
     "text": [
      "347/347 [==============================] - 4s 10ms/step - loss: 0.1199 - on_output_loss: 0.0774 - off_output_loss: 0.0424 - val_loss: 0.0982 - val_on_output_loss: 0.0632 - val_off_output_loss: 0.0350\n",
      "Epoch 2/20\n",
      "347/347 [==============================] - 3s 9ms/step - loss: 0.0999 - on_output_loss: 0.0640 - off_output_loss: 0.0359 - val_loss: 0.0939 - val_on_output_loss: 0.0601 - val_off_output_loss: 0.0337\n",
      "Epoch 3/20\n",
      "347/347 [==============================] - 3s 9ms/step - loss: 0.0964 - on_output_loss: 0.0617 - off_output_loss: 0.0347 - val_loss: 0.0908 - val_on_output_loss: 0.0579 - val_off_output_loss: 0.0329\n",
      "Epoch 4/20\n",
      "347/347 [==============================] - 3s 9ms/step - loss: 0.0933 - on_output_loss: 0.0597 - off_output_loss: 0.0336 - val_loss: 0.0894 - val_on_output_loss: 0.0571 - val_off_output_loss: 0.0323\n",
      "Epoch 5/20\n",
      "347/347 [==============================] - 3s 9ms/step - loss: 0.0907 - on_output_loss: 0.0579 - off_output_loss: 0.0328 - val_loss: 0.0863 - val_on_output_loss: 0.0545 - val_off_output_loss: 0.0318\n",
      "Epoch 6/20\n",
      "347/347 [==============================] - 3s 9ms/step - loss: 0.0887 - on_output_loss: 0.0564 - off_output_loss: 0.0324 - val_loss: 0.0859 - val_on_output_loss: 0.0548 - val_off_output_loss: 0.0311\n",
      "Epoch 7/20\n",
      "347/347 [==============================] - 3s 9ms/step - loss: 0.0866 - on_output_loss: 0.0549 - off_output_loss: 0.0317 - val_loss: 0.0817 - val_on_output_loss: 0.0514 - val_off_output_loss: 0.0303\n",
      "Epoch 8/20\n",
      "347/347 [==============================] - 3s 9ms/step - loss: 0.0845 - on_output_loss: 0.0534 - off_output_loss: 0.0311 - val_loss: 0.0810 - val_on_output_loss: 0.0509 - val_off_output_loss: 0.0301\n",
      "Epoch 9/20\n",
      "347/347 [==============================] - 3s 9ms/step - loss: 0.0821 - on_output_loss: 0.0517 - off_output_loss: 0.0304 - val_loss: 0.0796 - val_on_output_loss: 0.0500 - val_off_output_loss: 0.0297\n",
      "Epoch 10/20\n",
      "347/347 [==============================] - 3s 9ms/step - loss: 0.0805 - on_output_loss: 0.0504 - off_output_loss: 0.0301 - val_loss: 0.0769 - val_on_output_loss: 0.0478 - val_off_output_loss: 0.0291\n",
      "Epoch 11/20\n",
      "347/347 [==============================] - 3s 9ms/step - loss: 0.0794 - on_output_loss: 0.0496 - off_output_loss: 0.0297 - val_loss: 0.0754 - val_on_output_loss: 0.0466 - val_off_output_loss: 0.0288\n",
      "Epoch 12/20\n",
      "347/347 [==============================] - 3s 9ms/step - loss: 0.0776 - on_output_loss: 0.0483 - off_output_loss: 0.0293 - val_loss: 0.0749 - val_on_output_loss: 0.0462 - val_off_output_loss: 0.0286\n",
      "Epoch 13/20\n",
      "347/347 [==============================] - 3s 9ms/step - loss: 0.0760 - on_output_loss: 0.0472 - off_output_loss: 0.0288 - val_loss: 0.0731 - val_on_output_loss: 0.0450 - val_off_output_loss: 0.0282\n",
      "Epoch 14/20\n",
      "347/347 [==============================] - 3s 9ms/step - loss: 0.0748 - on_output_loss: 0.0462 - off_output_loss: 0.0286 - val_loss: 0.0726 - val_on_output_loss: 0.0448 - val_off_output_loss: 0.0278\n",
      "Epoch 15/20\n",
      "347/347 [==============================] - 3s 9ms/step - loss: 0.0737 - on_output_loss: 0.0454 - off_output_loss: 0.0284 - val_loss: 0.0711 - val_on_output_loss: 0.0436 - val_off_output_loss: 0.0275\n",
      "Epoch 16/20\n",
      "347/347 [==============================] - 3s 9ms/step - loss: 0.0724 - on_output_loss: 0.0444 - off_output_loss: 0.0280 - val_loss: 0.0700 - val_on_output_loss: 0.0427 - val_off_output_loss: 0.0273\n",
      "Epoch 17/20\n",
      "347/347 [==============================] - 3s 9ms/step - loss: 0.0716 - on_output_loss: 0.0438 - off_output_loss: 0.0278 - val_loss: 0.0696 - val_on_output_loss: 0.0425 - val_off_output_loss: 0.0271\n",
      "Epoch 18/20\n",
      "347/347 [==============================] - 3s 9ms/step - loss: 0.0708 - on_output_loss: 0.0433 - off_output_loss: 0.0275 - val_loss: 0.0690 - val_on_output_loss: 0.0421 - val_off_output_loss: 0.0270\n",
      "Epoch 19/20\n",
      "347/347 [==============================] - 3s 9ms/step - loss: 0.0700 - on_output_loss: 0.0428 - off_output_loss: 0.0273 - val_loss: 0.0691 - val_on_output_loss: 0.0421 - val_off_output_loss: 0.0271\n",
      "Epoch 20/20\n",
      "347/347 [==============================] - 3s 9ms/step - loss: 0.0692 - on_output_loss: 0.0421 - off_output_loss: 0.0271 - val_loss: 0.0682 - val_on_output_loss: 0.0416 - val_off_output_loss: 0.0266\n",
      "Epoch 1/20\n"
     ]
    },
    {
     "name": "stderr",
     "output_type": "stream",
     "text": [
      "2025-03-18 22:09:19.572347: I tensorflow/core/grappler/optimizers/custom_graph_optimizer_registry.cc:114] Plugin optimizer for device_type GPU is enabled.\n"
     ]
    },
    {
     "name": "stdout",
     "output_type": "stream",
     "text": [
      "693/693 [==============================] - ETA: 0s - loss: 0.2668 - prediction_output_0_loss: 0.1888 - prediction_output_1_loss: 0.0780"
     ]
    },
    {
     "name": "stderr",
     "output_type": "stream",
     "text": [
      "2025-03-18 22:09:27.152693: I tensorflow/core/grappler/optimizers/custom_graph_optimizer_registry.cc:114] Plugin optimizer for device_type GPU is enabled.\n"
     ]
    },
    {
     "name": "stdout",
     "output_type": "stream",
     "text": [
      "693/693 [==============================] - 9s 12ms/step - loss: 0.2668 - prediction_output_0_loss: 0.1888 - prediction_output_1_loss: 0.0780 - val_loss: 0.1976 - val_prediction_output_0_loss: 0.1186 - val_prediction_output_1_loss: 0.0790\n",
      "Epoch 2/20\n",
      "693/693 [==============================] - 7s 11ms/step - loss: 0.1724 - prediction_output_0_loss: 0.0961 - prediction_output_1_loss: 0.0763 - val_loss: 0.1533 - val_prediction_output_0_loss: 0.0821 - val_prediction_output_1_loss: 0.0712\n",
      "Epoch 3/20\n",
      "693/693 [==============================] - 7s 11ms/step - loss: 0.1439 - prediction_output_0_loss: 0.0769 - prediction_output_1_loss: 0.0670 - val_loss: 0.1360 - val_prediction_output_0_loss: 0.0735 - val_prediction_output_1_loss: 0.0625\n",
      "Epoch 4/20\n",
      "693/693 [==============================] - 7s 10ms/step - loss: 0.1243 - prediction_output_0_loss: 0.0667 - prediction_output_1_loss: 0.0576 - val_loss: 0.1147 - val_prediction_output_0_loss: 0.0644 - val_prediction_output_1_loss: 0.0503\n",
      "Epoch 5/20\n",
      "693/693 [==============================] - 7s 10ms/step - loss: 0.1083 - prediction_output_0_loss: 0.0594 - prediction_output_1_loss: 0.0489 - val_loss: 0.1031 - val_prediction_output_0_loss: 0.0577 - val_prediction_output_1_loss: 0.0454\n",
      "Epoch 6/20\n",
      "693/693 [==============================] - 7s 10ms/step - loss: 0.0990 - prediction_output_0_loss: 0.0557 - prediction_output_1_loss: 0.0434 - val_loss: 0.0958 - val_prediction_output_0_loss: 0.0553 - val_prediction_output_1_loss: 0.0406\n",
      "Epoch 7/20\n",
      "693/693 [==============================] - 7s 10ms/step - loss: 0.0926 - prediction_output_0_loss: 0.0528 - prediction_output_1_loss: 0.0397 - val_loss: 0.0907 - val_prediction_output_0_loss: 0.0533 - val_prediction_output_1_loss: 0.0374\n",
      "Epoch 8/20\n",
      "693/693 [==============================] - 7s 10ms/step - loss: 0.0878 - prediction_output_0_loss: 0.0506 - prediction_output_1_loss: 0.0372 - val_loss: 0.0866 - val_prediction_output_0_loss: 0.0509 - val_prediction_output_1_loss: 0.0357\n",
      "Epoch 9/20\n",
      "693/693 [==============================] - 7s 11ms/step - loss: 0.0840 - prediction_output_0_loss: 0.0487 - prediction_output_1_loss: 0.0353 - val_loss: 0.0834 - val_prediction_output_0_loss: 0.0491 - val_prediction_output_1_loss: 0.0343\n",
      "Epoch 10/20\n",
      "693/693 [==============================] - 7s 11ms/step - loss: 0.0807 - prediction_output_0_loss: 0.0469 - prediction_output_1_loss: 0.0339 - val_loss: 0.0803 - val_prediction_output_0_loss: 0.0473 - val_prediction_output_1_loss: 0.0330\n",
      "Epoch 11/20\n",
      "693/693 [==============================] - 7s 11ms/step - loss: 0.0777 - prediction_output_0_loss: 0.0451 - prediction_output_1_loss: 0.0327 - val_loss: 0.0781 - val_prediction_output_0_loss: 0.0462 - val_prediction_output_1_loss: 0.0320\n",
      "Epoch 12/20\n",
      "693/693 [==============================] - 7s 10ms/step - loss: 0.0752 - prediction_output_0_loss: 0.0435 - prediction_output_1_loss: 0.0317 - val_loss: 0.0755 - val_prediction_output_0_loss: 0.0443 - val_prediction_output_1_loss: 0.0312\n",
      "Epoch 13/20\n",
      "693/693 [==============================] - 7s 10ms/step - loss: 0.0728 - prediction_output_0_loss: 0.0419 - prediction_output_1_loss: 0.0309 - val_loss: 0.0745 - val_prediction_output_0_loss: 0.0442 - val_prediction_output_1_loss: 0.0303\n",
      "Epoch 14/20\n",
      "693/693 [==============================] - 7s 11ms/step - loss: 0.0707 - prediction_output_0_loss: 0.0406 - prediction_output_1_loss: 0.0301 - val_loss: 0.0712 - val_prediction_output_0_loss: 0.0416 - val_prediction_output_1_loss: 0.0297\n",
      "Epoch 15/20\n",
      "693/693 [==============================] - 7s 10ms/step - loss: 0.0689 - prediction_output_0_loss: 0.0394 - prediction_output_1_loss: 0.0295 - val_loss: 0.0695 - val_prediction_output_0_loss: 0.0404 - val_prediction_output_1_loss: 0.0291\n",
      "Epoch 16/20\n",
      "693/693 [==============================] - 7s 11ms/step - loss: 0.0677 - prediction_output_0_loss: 0.0387 - prediction_output_1_loss: 0.0290 - val_loss: 0.0686 - val_prediction_output_0_loss: 0.0398 - val_prediction_output_1_loss: 0.0288\n",
      "Epoch 17/20\n",
      "693/693 [==============================] - 7s 11ms/step - loss: 0.0666 - prediction_output_0_loss: 0.0380 - prediction_output_1_loss: 0.0286 - val_loss: 0.0677 - val_prediction_output_0_loss: 0.0394 - val_prediction_output_1_loss: 0.0283\n",
      "Epoch 18/20\n",
      "693/693 [==============================] - 7s 11ms/step - loss: 0.0658 - prediction_output_0_loss: 0.0375 - prediction_output_1_loss: 0.0282 - val_loss: 0.0672 - val_prediction_output_0_loss: 0.0392 - val_prediction_output_1_loss: 0.0280\n",
      "Epoch 19/20\n",
      "693/693 [==============================] - 7s 11ms/step - loss: 0.0650 - prediction_output_0_loss: 0.0371 - prediction_output_1_loss: 0.0279 - val_loss: 0.0666 - val_prediction_output_0_loss: 0.0388 - val_prediction_output_1_loss: 0.0278\n",
      "Epoch 20/20\n",
      "693/693 [==============================] - 7s 10ms/step - loss: 0.0644 - prediction_output_0_loss: 0.0367 - prediction_output_1_loss: 0.0277 - val_loss: 0.0673 - val_prediction_output_0_loss: 0.0397 - val_prediction_output_1_loss: 0.0276\n",
      " 38/347 [==>...........................] - ETA: 0s"
     ]
    },
    {
     "name": "stderr",
     "output_type": "stream",
     "text": [
      "2025-03-18 22:11:46.593669: I tensorflow/core/grappler/optimizers/custom_graph_optimizer_registry.cc:114] Plugin optimizer for device_type GPU is enabled.\n"
     ]
    },
    {
     "name": "stdout",
     "output_type": "stream",
     "text": [
      "347/347 [==============================] - 1s 3ms/step\n",
      "347/347 [==============================] - 1s 3ms/step\n",
      "Epoch 1/20\n"
     ]
    },
    {
     "name": "stderr",
     "output_type": "stream",
     "text": [
      "2025-03-18 22:11:49.013184: I tensorflow/core/grappler/optimizers/custom_graph_optimizer_registry.cc:114] Plugin optimizer for device_type GPU is enabled.\n"
     ]
    },
    {
     "name": "stdout",
     "output_type": "stream",
     "text": [
      "347/347 [==============================] - ETA: 0s - loss: 0.1401 - on_output_loss: 0.0937 - off_output_loss: 0.0464"
     ]
    },
    {
     "name": "stderr",
     "output_type": "stream",
     "text": [
      "2025-03-18 22:11:52.292293: I tensorflow/core/grappler/optimizers/custom_graph_optimizer_registry.cc:114] Plugin optimizer for device_type GPU is enabled.\n"
     ]
    },
    {
     "name": "stdout",
     "output_type": "stream",
     "text": [
      "347/347 [==============================] - 4s 10ms/step - loss: 0.1401 - on_output_loss: 0.0937 - off_output_loss: 0.0464 - val_loss: 0.1014 - val_on_output_loss: 0.0659 - val_off_output_loss: 0.0355\n",
      "Epoch 2/20\n",
      "347/347 [==============================] - 3s 9ms/step - loss: 0.1059 - on_output_loss: 0.0683 - off_output_loss: 0.0376 - val_loss: 0.0983 - val_on_output_loss: 0.0637 - val_off_output_loss: 0.0346\n",
      "Epoch 3/20\n",
      "347/347 [==============================] - 3s 9ms/step - loss: 0.1018 - on_output_loss: 0.0655 - off_output_loss: 0.0363 - val_loss: 0.0953 - val_on_output_loss: 0.0616 - val_off_output_loss: 0.0337\n",
      "Epoch 4/20\n",
      "347/347 [==============================] - 3s 9ms/step - loss: 0.0997 - on_output_loss: 0.0643 - off_output_loss: 0.0354 - val_loss: 0.0965 - val_on_output_loss: 0.0631 - val_off_output_loss: 0.0335\n",
      "Epoch 5/20\n",
      "347/347 [==============================] - 3s 9ms/step - loss: 0.0980 - on_output_loss: 0.0631 - off_output_loss: 0.0349 - val_loss: 0.0938 - val_on_output_loss: 0.0608 - val_off_output_loss: 0.0330\n",
      "Epoch 6/20\n",
      "347/347 [==============================] - 3s 9ms/step - loss: 0.0963 - on_output_loss: 0.0621 - off_output_loss: 0.0342 - val_loss: 0.0921 - val_on_output_loss: 0.0597 - val_off_output_loss: 0.0324\n",
      "Epoch 7/20\n",
      "347/347 [==============================] - 61s 176ms/step - loss: 0.0946 - on_output_loss: 0.0609 - off_output_loss: 0.0337 - val_loss: 0.0916 - val_on_output_loss: 0.0594 - val_off_output_loss: 0.0322\n",
      "Epoch 8/20\n",
      "347/347 [==============================] - 4s 11ms/step - loss: 0.0933 - on_output_loss: 0.0599 - off_output_loss: 0.0334 - val_loss: 0.0901 - val_on_output_loss: 0.0585 - val_off_output_loss: 0.0316\n",
      "Epoch 9/20\n",
      "347/347 [==============================] - 3s 9ms/step - loss: 0.0918 - on_output_loss: 0.0589 - off_output_loss: 0.0329 - val_loss: 0.0878 - val_on_output_loss: 0.0567 - val_off_output_loss: 0.0311\n",
      "Epoch 10/20\n",
      "347/347 [==============================] - 3s 10ms/step - loss: 0.0901 - on_output_loss: 0.0575 - off_output_loss: 0.0325 - val_loss: 0.0875 - val_on_output_loss: 0.0564 - val_off_output_loss: 0.0312\n",
      "Epoch 11/20\n",
      "347/347 [==============================] - 3s 9ms/step - loss: 0.0882 - on_output_loss: 0.0562 - off_output_loss: 0.0320 - val_loss: 0.0854 - val_on_output_loss: 0.0549 - val_off_output_loss: 0.0305\n",
      "Epoch 12/20\n",
      "347/347 [==============================] - 3s 9ms/step - loss: 0.0875 - on_output_loss: 0.0557 - off_output_loss: 0.0319 - val_loss: 0.0853 - val_on_output_loss: 0.0547 - val_off_output_loss: 0.0307\n",
      "Epoch 13/20\n",
      "347/347 [==============================] - 3s 9ms/step - loss: 0.0864 - on_output_loss: 0.0548 - off_output_loss: 0.0316 - val_loss: 0.0840 - val_on_output_loss: 0.0541 - val_off_output_loss: 0.0298\n",
      "Epoch 14/20\n",
      "347/347 [==============================] - 3s 9ms/step - loss: 0.0846 - on_output_loss: 0.0536 - off_output_loss: 0.0311 - val_loss: 0.0821 - val_on_output_loss: 0.0526 - val_off_output_loss: 0.0294\n",
      "Epoch 15/20\n",
      "347/347 [==============================] - 3s 9ms/step - loss: 0.0836 - on_output_loss: 0.0528 - off_output_loss: 0.0309 - val_loss: 0.0813 - val_on_output_loss: 0.0521 - val_off_output_loss: 0.0291\n",
      "Epoch 16/20\n",
      "347/347 [==============================] - 3s 9ms/step - loss: 0.0824 - on_output_loss: 0.0519 - off_output_loss: 0.0305 - val_loss: 0.0797 - val_on_output_loss: 0.0508 - val_off_output_loss: 0.0289\n",
      "Epoch 17/20\n",
      "347/347 [==============================] - 3s 9ms/step - loss: 0.0810 - on_output_loss: 0.0508 - off_output_loss: 0.0302 - val_loss: 0.0786 - val_on_output_loss: 0.0500 - val_off_output_loss: 0.0286\n",
      "Epoch 18/20\n",
      "347/347 [==============================] - 3s 9ms/step - loss: 0.0803 - on_output_loss: 0.0505 - off_output_loss: 0.0298 - val_loss: 0.0791 - val_on_output_loss: 0.0505 - val_off_output_loss: 0.0286\n",
      "Epoch 19/20\n",
      "347/347 [==============================] - 3s 9ms/step - loss: 0.0787 - on_output_loss: 0.0492 - off_output_loss: 0.0296 - val_loss: 0.0774 - val_on_output_loss: 0.0492 - val_off_output_loss: 0.0282\n",
      "Epoch 20/20\n",
      "347/347 [==============================] - 3s 9ms/step - loss: 0.0781 - on_output_loss: 0.0488 - off_output_loss: 0.0293 - val_loss: 0.0767 - val_on_output_loss: 0.0487 - val_off_output_loss: 0.0280\n"
     ]
    }
   ],
   "source": [
    "from sklearn.metrics import r2_score\n",
    "from scipy.stats import spearmanr\n",
    "\n",
    "#Cross Validation \n",
    "\n",
    "fold = 3\n",
    "\n",
    "\n",
    "joint_mse_save = []\n",
    "joint_on_r2_save = []\n",
    "joint_off_r2_save = []\n",
    "joint_on_spearman_save = []\n",
    "joint_off_spearman_save = []\n",
    "\n",
    "valeri_mse_save = []\n",
    "valeri_on_r2_save = []\n",
    "valeri_off_r2_save = []\n",
    "valeri_on_spearman_save = []\n",
    "valeri_off_spearman_save = []\n",
    "\n",
    "\n",
    "optimizer = keras.optimizers.Adam(learning_rate=0.0001)\n",
    "\n",
    "for i in range(fold):\n",
    "    #Have to reset weights\n",
    "    joint_model = GA_util.create_SANDSTORM(latent_dim=64,output_nodes=2)\n",
    "    valeri_model = GA_util.create_valeri_model()\n",
    "    \n",
    "    #Split w.r.t. ON value distribution, as off is uniform\n",
    "    switch_train,switch_test,on_train,on_test,off_train,off_test= train_test_split(valeri_sequences,on,off,test_size=0.20,stratify=encoded_vals) \n",
    "   \n",
    "    #Valeri model takes the transpose of the sequences as inputs relative to our model\n",
    "    valeri_switch_train = tf.transpose(switch_train,(0,2,1))\n",
    "    valeri_switch_test = tf.transpose(switch_test,(0,2,1))\n",
    "\n",
    "    #Joint model takes inputs with one more nucleotide in the 5' direction (C) for a total length of 60\n",
    "    #This step adds the C to our sequences while respecting the same train/test split\n",
    "    c = np.array([[0.0],[0.0],[1.0],[0.0]])\n",
    "    c_train_stack = np.stack((c,) * switch_train.shape[0], axis=0)\n",
    "    c_test_stack = np.stack((c,) * switch_test.shape[0],axis=0)\n",
    "    switch_train = np.concatenate((c_train_stack,switch_train),axis=2)\n",
    "    switch_test = np.concatenate((c_test_stack,switch_test),axis = 2)\n",
    "    ppm_train = GA_util.prototype_ppms_fast(switch_train)\n",
    "    ppm_test = GA_util.prototype_ppms_fast(switch_test)\n",
    "    \n",
    "\n",
    "\n",
    "    \n",
    "\n",
    "    #Fit the joint model and save metrics\n",
    "    joint_model.compile(optimizer=optimizer,loss='mse')\n",
    "    epochs=20\n",
    "    hist = joint_model.fit(\n",
    "        [switch_train,ppm_train],[on_train,off_train],batch_size=64,validation_data=[[switch_test,ppm_test],[on_test,off_test]],epochs=epochs)\n",
    "\n",
    "    # joint_model.save('tmp_models/sandstorm_len_%i'%sizes[i])\n",
    "    mse = hist.history['val_loss'][-1]\n",
    "    joint_mse_save.append(mse)\n",
    "    \n",
    "    on_predictions = joint_model.predict([switch_test,ppm_test])[0]\n",
    "    off_predictions = joint_model.predict([switch_test,ppm_test])[1]\n",
    "\n",
    "    on_r2 = r2_score(on_test,on_predictions)\n",
    "    off_r2 = r2_score(off_test,off_predictions)\n",
    "    \n",
    "    joint_on_r2_save.append(on_r2)\n",
    "    joint_off_r2_save.append(off_r2)\n",
    "\n",
    "    on_spearman = spearmanr(on_test,on_predictions)\n",
    "    off_spearman = spearmanr(off_test,off_predictions)\n",
    "\n",
    "    joint_on_spearman_save.append(on_spearman)\n",
    "    joint_off_spearman_save.append(off_spearman)\n",
    "    \n",
    "    \n",
    "    \n",
    "    #####Running Valeri et al. Model\n",
    "    valeri_model.compile(optimizer=optimizer,loss='mse')\n",
    "    epochs=20\n",
    "    valeri_hist = valeri_model.fit(valeri_switch_train,\n",
    "                                   [on_train,off_train],\n",
    "                                   batch_size=128,\n",
    "                                   validation_data=[valeri_switch_test,[on_test,off_test]],\n",
    "                                   epochs=epochs)\n",
    "    \n",
    "    valeri_mse = valeri_hist.history['val_loss'][-1]\n",
    "    valeri_mse_save.append(valeri_mse)\n",
    "    \n",
    "    valeri_on_predictions = valeri_model(valeri_switch_test)[0]\n",
    "    valeri_off_predictions = valeri_model(valeri_switch_test)[1]\n",
    "\n",
    "    valeri_on_r2 = r2_score(on_test,valeri_on_predictions)\n",
    "    valeri_off_r2 = r2_score(off_test,valeri_off_predictions)\n",
    "    \n",
    "    valeri_on_r2_save.append(valeri_on_r2)\n",
    "    valeri_off_r2_save.append(valeri_off_r2)\n",
    "\n",
    "    valeri_on_spearman = spearmanr(on_test,valeri_on_predictions) \n",
    "    valeri_off_spearman = spearmanr(off_test,valeri_off_predictions)\n",
    "    \n",
    "    valeri_on_spearman_save.append(valeri_on_spearman)\n",
    "    valeri_off_spearman_save.append(valeri_off_spearman)\n",
    "    \n"
   ]
  },
  {
   "cell_type": "code",
   "execution_count": 57,
   "id": "82cbb48d-cb52-4fd7-8554-acd7be2b940c",
   "metadata": {},
   "outputs": [
    {
     "name": "stdout",
     "output_type": "stream",
     "text": [
      "15118\n",
      "54772\n"
     ]
    }
   ],
   "source": [
    "our_params = np.sum([np.prod(v.get_shape()) for v in joint_model.trainable_weights])\n",
    "print(our_params)\n",
    "\n",
    "\n",
    "valeri_params = np.sum([np.prod(v.get_shape()) for v in valeri_model.trainable_weights])\n",
    "print(valeri_params)"
   ]
  },
  {
   "cell_type": "code",
   "execution_count": 58,
   "id": "6410a9e8-eb86-43ed-aa1a-47c1ca0187c2",
   "metadata": {},
   "outputs": [],
   "source": [
    "joint_on_spearman_save = [i[0] for i in joint_on_spearman_save]\n",
    "joint_off_spearman_save = [i[0] for i in joint_off_spearman_save]\n",
    "\n",
    "valeri_on_spearman_save = [i[0] for i in valeri_on_spearman_save]\n",
    "valeri_off_spearman_save = [i[0] for i in valeri_off_spearman_save]"
   ]
  },
  {
   "cell_type": "code",
   "execution_count": 59,
   "id": "7bea7d2b-aab3-4510-a81a-f5a27664d003",
   "metadata": {},
   "outputs": [],
   "source": [
    "# # mse, r2_on, r2_off, spearman_on, spearman_off, parameters\n",
    "joint_model_bars = [np.mean(joint_mse_save),\n",
    "                    np.mean(joint_on_r2_save),\n",
    "                    np.mean(joint_off_r2_save),\n",
    "                    np.mean(joint_on_spearman_save),\n",
    "                    np.mean(joint_off_spearman_save),\n",
    "                    our_params/valeri_params]\n",
    "\n",
    "\n",
    "joint_model_variances = [np.std(joint_mse_save),\n",
    "                         np.std(joint_on_r2_save),\n",
    "                         np.std(joint_off_r2_save),\n",
    "                         np.std(joint_on_spearman_save),\n",
    "                         np.std(joint_off_spearman_save),\n",
    "                        0]\n",
    "\n",
    "valeri_model_bars = [np.mean(valeri_mse_save),\n",
    "                    np.mean(valeri_on_r2_save),\n",
    "                    np.mean(valeri_off_r2_save),\n",
    "                    np.mean(valeri_on_spearman_save),\n",
    "                    np.mean(valeri_off_spearman_save),\n",
    "                    valeri_params/valeri_params]\n",
    "\n",
    "valeri_model_variances = [np.std(valeri_mse_save),\n",
    "                         np.std(valeri_on_r2_save),\n",
    "                         np.std(valeri_off_r2_save),\n",
    "                         np.std(valeri_on_spearman_save),\n",
    "                         np.std(valeri_off_spearman_save),\n",
    "                         0]"
   ]
  },
  {
   "cell_type": "code",
   "execution_count": 62,
   "id": "86d811ec-68c7-4fa4-8dd8-60a84d75ba91",
   "metadata": {},
   "outputs": [],
   "source": [
    "import scipy\n",
    "joint_model_bars\n",
    "joint_model_variances\n",
    "\n",
    "save = []\n",
    "for i in range(len(joint_model_bars)-1):\n",
    "    save.append(scipy.stats.ttest_ind_from_stats(joint_model_bars[i], \n",
    "                                     joint_model_variances[i], \n",
    "                                     3,\n",
    "                                     valeri_model_bars[i],\n",
    "                                     valeri_model_variances[i],\n",
    "                                     3, equal_var=True, alternative='two-sided'))"
   ]
  },
  {
   "cell_type": "code",
   "execution_count": 64,
   "id": "a493da8c-d36a-4c6d-b39f-7862a6db773f",
   "metadata": {},
   "outputs": [
    {
     "data": {
      "text/plain": [
       "<matplotlib.legend.Legend at 0x394e71f00>"
      ]
     },
     "execution_count": 64,
     "metadata": {},
     "output_type": "execute_result"
    },
    {
     "data": {
      "image/png": "[encoded data removed]",
      "text/plain": [
       "<Figure size 875x300 with 1 Axes>"
      ]
     },
     "metadata": {},
     "output_type": "display_data"
    }
   ],
   "source": [
    "RED = '#C62626'\n",
    "BLUE = '#2E9AD6'\n",
    "\n",
    "\n",
    "barwidth = 0.3\n",
    "#Changing math font and standard font\n",
    "plt.rcParams.update({'font.size': 10,'font.family':'Helvetica'})\n",
    "plt.rcParams['mathtext.fontset'] = 'custom'\n",
    "plt.rcParams['mathtext.rm'] = 'Helvetica'\n",
    "plt.rcParams['mathtext.it'] = 'Helvetica:italic'\n",
    "plt.rcParams['mathtext.bf'] = 'Helvetica:bold'\n",
    "\n",
    "r1 = np.arange(len(joint_model_bars))\n",
    "r2 = [x + barwidth for x in r1]\n",
    "\n",
    "plt.figure(figsize=(8.75,3))\n",
    "\n",
    "plt.title('Toehold Switch ON/OFF Predictions')\n",
    "plt.bar(x=r1, height=valeri_model_bars, width = barwidth,yerr=valeri_model_variances, color = BLUE,alpha=1, capsize=5, label='NuSpeak/STORM',edgecolor='black',linewidth=2)\n",
    "plt.bar(x=r2, height=joint_model_bars, width = barwidth,yerr=joint_model_variances, color = RED,alpha=1,  capsize=5, label='SANDSTORM',edgecolor='black',linewidth=2)\n",
    "\n",
    "\n",
    "\n",
    "\n",
    "plt.xticks([r + (barwidth/2) for r in range(len(joint_model_bars))], [r'MSE$^{\\rm }$', r'R$^{\\rm 2}$ ON', r'R$^{\\rm 2}$ OFF',r' Spearman$^{\\rm }$ ON',r'Spearman$^{\\rm }$ OFF',r'Parameter Fraction$^{\\rm }$'])\n",
    "plt.subplot().spines['right'].set_visible(False)\n",
    "plt.subplot().spines['top'].set_visible(False)\n",
    "plt.subplot().spines['left'].set_linewidth(2.0)\n",
    "plt.subplot().spines['bottom'].set_linewidth(2.0)\n",
    "\n",
    "plt.subplot().xaxis.set_tick_params(width=1.5)\n",
    "plt.subplot().yaxis.set_tick_params(width=1.5)\n",
    "plt.legend(loc='upper center', bbox_to_anchor=(1.12, 0.5),\n",
    "          fancybox=True, shadow=True, ncol=1)\n",
    "# plt.savefig('../figures/Toehold Predictor',dpi=500,bbox_inches='tight',pad_inches=0.5)\n",
    "# plt.savefig('../figures/Toehold Predictor.svg',transparent=True,bbox_inches='tight',pad_inches=0.5)\n",
    "\n",
    "\n",
    "\n",
    "\n",
    "\n"
   ]
  },
  {
   "cell_type": "code",
   "execution_count": 32,
   "id": "8e9f6465-b8be-494f-ae05-0e78741638a8",
   "metadata": {},
   "outputs": [
    {
     "name": "stderr",
     "output_type": "stream",
     "text": [
      "WARNING:absl:Found untraced functions such as _jit_compiled_convolution_op, _jit_compiled_convolution_op, _jit_compiled_convolution_op, _jit_compiled_convolution_op, _jit_compiled_convolution_op while saving (showing 5 of 6). These functions will not be directly callable after loading.\n"
     ]
    },
    {
     "name": "stdout",
     "output_type": "stream",
     "text": [
      "INFO:tensorflow:Assets written to: ../models/predictor_12_3/assets\n"
     ]
    },
    {
     "name": "stderr",
     "output_type": "stream",
     "text": [
      "INFO:tensorflow:Assets written to: ../models/predictor_12_3/assets\n"
     ]
    }
   ],
   "source": [
    "# joint_model.save('../models/predictor_12_3')"
   ]
  },
  {
   "cell_type": "code",
   "execution_count": 29,
   "id": "169991d6-7ef9-44ef-ba95-ec1c6bd1cc50",
   "metadata": {},
   "outputs": [],
   "source": [
    "np.save('stat_tests/joint_model_metrics_12_3.npy',joint_model_bars)\n",
    "np.save('stat_tests/joint_model_variances_12_3.npy',joint_model_variances)\n",
    "\n",
    "# joint_model_bars = np.load('stat_tests/joint_model_metrics.npy')\n",
    "# joint_model_variances = np.load('stat_tests/joint_model_variances.npy')\n",
    "\n",
    "np.save('stat_tests/valeri_model_metrics_12_3.npy',valeri_model_bars)\n",
    "np.save('stat_tests/valeri_model_variances_12_3.npy',valeri_model_variances)\n",
    "\n",
    "# valeri_model_bars = np.load('stat_tests/valeri_model_metrics.npy')\n",
    "# valeri_model_variances = np.load('stat_tests/valeri_model_variances.npy')"
   ]
  },
  {
   "cell_type": "code",
   "execution_count": null,
   "id": "fb8fb155-f60e-4182-87b7-b3c96d795598",
   "metadata": {},
   "outputs": [],
   "source": []
  }
 ],
 "metadata": {
  "kernelspec": {
   "display_name": "Python 3 (ipykernel)",
   "language": "python",
   "name": "python3"
  },
  "language_info": {
   "codemirror_mode": {
    "name": "ipython",
    "version": 3
   },
   "file_extension": ".py",
   "mimetype": "text/x-python",
   "name": "python",
   "nbconvert_exporter": "python",
   "pygments_lexer": "ipython3",
   "version": "3.10.8"
  }
 },
 "nbformat": 4,
 "nbformat_minor": 5
}
