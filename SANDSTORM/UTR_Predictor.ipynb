{
 "cells": [
  {
   "cell_type": "code",
   "execution_count": 1,
   "id": "4efadc65-2592-4785-8bf0-587b93a520ea",
   "metadata": {},
   "outputs": [
    {
     "name": "stdout",
     "output_type": "stream",
     "text": [
      "loaded modules\n"
     ]
    }
   ],
   "source": [
    "import sys\n",
    "sys.path.insert(1,\"../src\")\n",
    "import tensorflow as tf\n",
    "import keras as tfk\n",
    "tfkl = tf.keras.layers\n",
    "import matplotlib.pyplot as plt\n",
    "import util\n",
    "import GA_util\n",
    "import pandas as pd\n",
    "import os\n",
    "import numpy as np\n",
    "print('loaded modules')"
   ]
  },
  {
   "cell_type": "code",
   "execution_count": 2,
   "id": "7d6c8aad-3063-48bd-870a-5c705b8f6211",
   "metadata": {},
   "outputs": [
    {
     "name": "stderr",
     "output_type": "stream",
     "text": [
      "/var/folders/4j/njj9l0k14bxb_81mvyh1xxf40000gn/T/ipykernel_86818/2892836914.py:1: DtypeWarning: Columns (33,34,35,36,37) have mixed types. Specify dtype option on import or set low_memory=False.\n",
      "  data = pd.read_csv('../data/UTR_data/designed_library.csv')\n"
     ]
    }
   ],
   "source": [
    "data = pd.read_csv('../data/UTR_data/designed_library.csv')\n",
    "\n",
    "\n",
    "y = data['rl'].values\n",
    "\n",
    "\n",
    "designed = np.load('../data/UTR_data/UTR_encoded.npy')\n",
    "designed_ppms = GA_util.prototype_ppms_fast(designed)\n",
    "\n",
    "indices = np.arange(0,designed.shape[0])\n",
    "\n"
   ]
  },
  {
   "cell_type": "code",
   "execution_count": 3,
   "id": "92a264d8-133c-4bce-9077-e99435756338",
   "metadata": {},
   "outputs": [
    {
     "name": "stdout",
     "output_type": "stream",
     "text": [
      "(100017, 1)\n"
     ]
    },
    {
     "data": {
      "image/png": "[encoded data removed]",
      "text/plain": [
       "<Figure size 640x480 with 1 Axes>"
      ]
     },
     "metadata": {},
     "output_type": "display_data"
    }
   ],
   "source": [
    "from sklearn.preprocessing import KBinsDiscretizer\n",
    "from sklearn.preprocessing import StandardScaler\n",
    "\n",
    "\n",
    "stand = StandardScaler()\n",
    "\n",
    "stand.fit(y.reshape(-1,1))\n",
    "y_transformed = stand.transform(y.reshape(-1,1))\n",
    "\n",
    "plt.hist(y_transformed)\n",
    "\n",
    "\n",
    "est =  KBinsDiscretizer(n_bins=10,encode='ordinal') #Quantile transform\n",
    "encoded_vals =est.fit_transform(y.reshape(-1,1))\n",
    "print(encoded_vals.shape)\n",
    "\n",
    "\n",
    "\n",
    "from sklearn.model_selection import train_test_split"
   ]
  },
  {
   "cell_type": "code",
   "execution_count": 4,
   "id": "6826aea3-612f-4b8a-996b-b3263f1fbaee",
   "metadata": {},
   "outputs": [],
   "source": [
    "# Optimus 5' Code\n",
    "\n",
    "from keras.layers import Conv1D, Dropout,Flatten,Dense,Activation\n",
    "import keras\n",
    "\n",
    "def train_optimus_model(x_train,y_train,val, border_mode='same', inp_len=50, nodes=40, layers=3, filter_len=8, nbr_filters=120,\n",
    "                dropout1=0, dropout2=0, dropout3=0, nb_epoch=3):\n",
    "    ''' Build model archicture and fit.'''\n",
    "    model = keras.Sequential()\n",
    "    if layers >= 1:\n",
    "        model.add(Conv1D(activation=\"relu\", input_shape=(inp_len, 4), padding=border_mode, filters=nbr_filters, kernel_size=filter_len))\n",
    "    if layers >= 2:\n",
    "        model.add(Conv1D(activation=\"relu\", input_shape=(inp_len, 1), padding=border_mode, filters=nbr_filters, kernel_size=filter_len))\n",
    "        model.add(Dropout(dropout1))\n",
    "    if layers >= 3:\n",
    "        model.add(Conv1D(activation=\"relu\", input_shape=(inp_len, 1), padding=border_mode, filters=nbr_filters, kernel_size=filter_len))\n",
    "        model.add(Dropout(dropout2))\n",
    "    model.add(Flatten())\n",
    "\n",
    "    model.add(Dense(nodes))\n",
    "    model.add(Activation('relu'))\n",
    "    model.add(Dropout(dropout3))\n",
    "    \n",
    "    model.add(Dense(1))\n",
    "    model.add(Activation('linear'))\n",
    "\n",
    "    #compile the model\n",
    "    optimizer = tfk.optimizers.Adam(learning_rate=0.001, beta_1=0.9, beta_2=0.999, epsilon=1e-08)\n",
    "    # optimizer = keras.optimizers.Adam(learning_rate=0.0001)\n",
    "    model.compile(loss='mean_squared_error', optimizer=optimizer)\n",
    "\n",
    "    hist = model.fit(x_train, y_train, batch_size=128, epochs=nb_epoch, verbose=1,validation_data=val)\n",
    "    return model,hist\n",
    "\n",
    "\n",
    "\n",
    "# model = train_model(seq_e_train, e_train['scaled_rl'], nb_epoch=3,border_mode='same',\n",
    "#                    inp_len=50, nodes=40, layers=3, nbr_filters=120, filter_len=8, dropout1=0,\n",
    "#                    dropout2=0,dropout3=0.2)"
   ]
  },
  {
   "cell_type": "code",
   "execution_count": 5,
   "id": "8725bdf2-a013-45cd-ba94-bbdf7d0ab5e8",
   "metadata": {
    "tags": []
   },
   "outputs": [
    {
     "name": "stdout",
     "output_type": "stream",
     "text": [
      "Metal device set to: Apple M1 Max\n",
      "Epoch 1/3\n"
     ]
    },
    {
     "name": "stderr",
     "output_type": "stream",
     "text": [
      "2024-11-30 14:38:13.703129: W tensorflow/tsl/platform/profile_utils/cpu_utils.cc:128] Failed to get CPU frequency: 0 Hz\n"
     ]
    },
    {
     "name": "stdout",
     "output_type": "stream",
     "text": [
      "626/626 [==============================] - 7s 11ms/step - loss: 0.3813 - val_loss: 0.2525\n",
      "Epoch 2/3\n",
      "626/626 [==============================] - 7s 11ms/step - loss: 0.2234 - val_loss: 0.2072\n",
      "Epoch 3/3\n",
      "626/626 [==============================] - 7s 11ms/step - loss: 0.1907 - val_loss: 0.1914\n",
      "Epoch 1/20\n",
      "1251/1251 [==============================] - 16s 12ms/step - loss: 0.4276 - val_loss: 0.2851\n",
      "Epoch 2/20\n",
      "1251/1251 [==============================] - 15s 12ms/step - loss: 0.2684 - val_loss: 0.2583\n",
      "Epoch 3/20\n",
      "1251/1251 [==============================] - 15s 12ms/step - loss: 0.2480 - val_loss: 0.2397\n",
      "Epoch 4/20\n",
      "1251/1251 [==============================] - 14s 11ms/step - loss: 0.2355 - val_loss: 0.2337\n",
      "Epoch 5/20\n",
      "1251/1251 [==============================] - 14s 11ms/step - loss: 0.2286 - val_loss: 0.2332\n",
      "Epoch 6/20\n",
      "1251/1251 [==============================] - 14s 11ms/step - loss: 0.2209 - val_loss: 0.2352\n",
      "Epoch 7/20\n",
      "1251/1251 [==============================] - 15s 12ms/step - loss: 0.2159 - val_loss: 0.2406\n",
      "Epoch 8/20\n",
      "1251/1251 [==============================] - 15s 12ms/step - loss: 0.2096 - val_loss: 0.2436\n",
      "Epoch 9/20\n",
      "1251/1251 [==============================] - 15s 12ms/step - loss: 0.2049 - val_loss: 0.2172\n",
      "Epoch 10/20\n",
      "1251/1251 [==============================] - 15s 12ms/step - loss: 0.1993 - val_loss: 0.2203\n",
      "Epoch 11/20\n",
      "1251/1251 [==============================] - 15s 12ms/step - loss: 0.1955 - val_loss: 0.2083\n",
      "Epoch 12/20\n",
      "1251/1251 [==============================] - 15s 12ms/step - loss: 0.1927 - val_loss: 0.2160\n",
      "Epoch 13/20\n",
      "1251/1251 [==============================] - 15s 12ms/step - loss: 0.1889 - val_loss: 0.2015\n",
      "Epoch 14/20\n",
      "1251/1251 [==============================] - 15s 12ms/step - loss: 0.1863 - val_loss: 0.2102\n",
      "Epoch 15/20\n",
      "1251/1251 [==============================] - 15s 12ms/step - loss: 0.1838 - val_loss: 0.2045\n",
      "Epoch 16/20\n",
      "1251/1251 [==============================] - 15s 12ms/step - loss: 0.1807 - val_loss: 0.2033\n",
      "Epoch 17/20\n",
      "1251/1251 [==============================] - 15s 12ms/step - loss: 0.1786 - val_loss: 0.1958\n",
      "Epoch 18/20\n",
      "1251/1251 [==============================] - 15s 12ms/step - loss: 0.1768 - val_loss: 0.1956\n",
      "Epoch 19/20\n",
      "1251/1251 [==============================] - 15s 12ms/step - loss: 0.1753 - val_loss: 0.1985\n",
      "Epoch 20/20\n",
      "1251/1251 [==============================] - 15s 12ms/step - loss: 0.1731 - val_loss: 0.1969\n"
     ]
    }
   ],
   "source": [
    "from GA_util import create_joint_model\n",
    "from sklearn.metrics import r2_score\n",
    "from scipy.stats import spearmanr\n",
    "\n",
    "\n",
    "fold = 1\n",
    "\n",
    "joint_mse_save = []\n",
    "joint_r2_save = []\n",
    "joint_spearman_save = []\n",
    "\n",
    "\n",
    "optimus_mse_save = []\n",
    "optimus_r2_save = []\n",
    "optimus_spearman_save = []\n",
    "\n",
    "seq_mse_save = []\n",
    "seq_r2_save = []\n",
    "seq_spearman_save = []\n",
    "\n",
    "\n",
    "\n",
    "\n",
    "\n",
    "for i in range(fold):\n",
    "\n",
    "    utr_train,utr_test,y_train,y_test,indices_train,indices_test = train_test_split(designed,\n",
    "                                                                                    y_transformed,\n",
    "                                                                                    indices,\n",
    "                                                                                    test_size=0.20,\n",
    "                                                                                    stratify=encoded_vals)\n",
    "    ppm_train = designed_ppms[indices_train,:,:]\n",
    "    ppm_test = designed_ppms[indices_test,:,:]\n",
    "\n",
    "    #Trian optimus model first\n",
    "    optimus_model,optimus_hist = train_optimus_model(tf.transpose(utr_train,(0,2,1)),\n",
    "                                                     y_train,val = [tf.transpose(utr_test,(0,2,1)),y_test])\n",
    "\n",
    "    #Append the metrics to the save list\n",
    "    optimus_mse = optimus_hist.history['val_loss'][-1]\n",
    "    optimus_mse_save.append(optimus_mse)\n",
    "\n",
    "    optimus_predictions = optimus_model(tf.transpose(utr_test,(0,2,1)))\n",
    "\n",
    "    optimus_r2 = r2_score(y_test,optimus_predictions)\n",
    "    optimus_r2_save.append(optimus_r2)\n",
    "\n",
    "    optimus_spearman = spearmanr(y_test,optimus_predictions)[0]\n",
    "    optimus_spearman_save.append(optimus_spearman)\n",
    "\n",
    "\n",
    "    optimizer = keras.optimizers.Adam(learning_rate=0.001)\n",
    "    # optimizer = keras.optimizers.Adam(learning_rate=0.001, beta_1=0.9, beta_2=0.999, epsilon=1e-08)\n",
    "\n",
    "    joint_model = GA_util.create_SANDSTORM(seq_len=50,\n",
    "                                           ppm_len=50,\n",
    "                                           latent_dim=64,\n",
    "                                           internal_activation='relu')\n",
    "    \n",
    "    joint_model.compile(optimizer=optimizer,loss='mse')\n",
    "    epochs=20\n",
    "    \n",
    "    hist = joint_model.fit(\n",
    "        [utr_train,ppm_train],y_train,batch_size=64,validation_data=[[utr_test,ppm_test],y_test],epochs=epochs)\n",
    "\n",
    "\n",
    "    mse = np.min(hist.history['val_loss'])\n",
    "    joint_mse_save.append(mse)\n",
    "\n",
    "    joint_predictions = joint_model([utr_test,ppm_test])\n",
    "\n",
    "    joint_r2 = r2_score(y_test,joint_predictions)\n",
    "    joint_r2_save.append(joint_r2)\n",
    "\n",
    "\n",
    "    joint_spearman = spearmanr(y_test,joint_predictions)[0]\n",
    "    joint_spearman_save.append(joint_spearman)\n",
    "    "
   ]
  },
  {
   "cell_type": "code",
   "execution_count": 8,
   "id": "7a163c03-8bb8-49ad-8154-85726941f443",
   "metadata": {},
   "outputs": [
    {
     "name": "stderr",
     "output_type": "stream",
     "text": [
      "WARNING:absl:Found untraced functions such as _jit_compiled_convolution_op, _jit_compiled_convolution_op, _jit_compiled_convolution_op, _jit_compiled_convolution_op, _jit_compiled_convolution_op while saving (showing 5 of 6). These functions will not be directly callable after loading.\n"
     ]
    },
    {
     "name": "stdout",
     "output_type": "stream",
     "text": [
      "INFO:tensorflow:Assets written to: models/SADNSTORM_5UTR_11_30/assets\n"
     ]
    },
    {
     "name": "stderr",
     "output_type": "stream",
     "text": [
      "INFO:tensorflow:Assets written to: models/SADNSTORM_5UTR_11_30/assets\n"
     ]
    }
   ],
   "source": [
    "# joint_model.save(\"models/SADNSTORM_5UTR_11_30\")\n"
   ]
  },
  {
   "cell_type": "code",
   "execution_count": 11,
   "id": "82d307ea-0e73-4083-b47b-0be8e3b2832d",
   "metadata": {},
   "outputs": [
    {
     "name": "stdout",
     "output_type": "stream",
     "text": [
      "14473\n",
      "474681\n"
     ]
    }
   ],
   "source": [
    "joint_params = np.sum([np.prod(v.get_shape()) for v in joint_model.trainable_weights])\n",
    "print(joint_params)\n",
    "\n",
    "optimus_params = np.sum([np.prod(v.get_shape()) for v in optimus_model.trainable_weights])\n",
    "print(optimus_params)\n",
    "\n",
    "optimus_params = np.sum([np.prod(v.get_shape()) for v in optimus_model.trainable_weights])"
   ]
  },
  {
   "cell_type": "code",
   "execution_count": 12,
   "id": "a2d3c03b-c706-4034-831f-30c0fa34f847",
   "metadata": {},
   "outputs": [
    {
     "name": "stderr",
     "output_type": "stream",
     "text": [
      "/opt/homebrew/Caskroom/miniforge/base/envs/GARDN/lib/python3.10/site-packages/numpy/core/fromnumeric.py:3432: RuntimeWarning: Mean of empty slice.\n",
      "  return _methods._mean(a, axis=axis, dtype=dtype,\n",
      "/opt/homebrew/Caskroom/miniforge/base/envs/GARDN/lib/python3.10/site-packages/numpy/core/_methods.py:190: RuntimeWarning: invalid value encountered in double_scalars\n",
      "  ret = ret.dtype.type(ret / rcount)\n",
      "/opt/homebrew/Caskroom/miniforge/base/envs/GARDN/lib/python3.10/site-packages/numpy/core/_methods.py:265: RuntimeWarning: Degrees of freedom <= 0 for slice\n",
      "  ret = _var(a, axis=axis, dtype=dtype, out=out, ddof=ddof,\n",
      "/opt/homebrew/Caskroom/miniforge/base/envs/GARDN/lib/python3.10/site-packages/numpy/core/_methods.py:223: RuntimeWarning: invalid value encountered in divide\n",
      "  arrmean = um.true_divide(arrmean, div, out=arrmean, casting='unsafe',\n",
      "/opt/homebrew/Caskroom/miniforge/base/envs/GARDN/lib/python3.10/site-packages/numpy/core/_methods.py:257: RuntimeWarning: invalid value encountered in double_scalars\n",
      "  ret = ret.dtype.type(ret / rcount)\n"
     ]
    }
   ],
   "source": [
    "joint_model_bars = [np.mean(joint_mse_save),\n",
    "                    np.mean(joint_r2_save),\n",
    "                    np.mean(joint_spearman_save),\n",
    "                    joint_params/optimus_params]\n",
    "\n",
    "\n",
    "joint_model_variances = [np.std(joint_mse_save),\n",
    "                         np.std(joint_r2_save),\n",
    "                         np.std(joint_spearman_save),\n",
    "                        0]\n",
    "\n",
    "optimus_model_bars = [np.mean(optimus_mse_save),\n",
    "                    np.mean(optimus_r2_save),\n",
    "                    np.mean(optimus_spearman_save),\n",
    "                    optimus_params/optimus_params]\n",
    "\n",
    "optimus_model_variances = [np.std(optimus_mse_save),\n",
    "                         np.std(optimus_r2_save),\n",
    "                         np.std(optimus_spearman_save),\n",
    "                         0]\n",
    "\n",
    "seq_model_bars = [np.mean(seq_mse_save),\n",
    "                 np.mean(seq_r2_save),\n",
    "                 np.mean(seq_spearman_save)]\n",
    "\n",
    "seq_model_variances = [np.std(seq_mse_save),\n",
    "                      np.std(seq_r2_save),\n",
    "                      np.std(seq_spearman_save)]"
   ]
  },
  {
   "cell_type": "code",
   "execution_count": 24,
   "id": "2a725138-7d28-420f-aaef-d878883def83",
   "metadata": {},
   "outputs": [],
   "source": [
    "# np.save('stat_tests/SANDSTORM_UTR_means_11_08.npy',joint_model_bars)\n",
    "# np.save('stat_tests/optimus_model_means_11_08.npy',optimus_model_bars)\n",
    "# np.save('stat_tests/seq_model_means_11_08.npy',seq_model_bars)\n",
    "\n",
    "# np.save('stat_tests/SANDSTORM_UTR_std_11_08.npy',joint_model_variances)\n",
    "# np.save('stat_tests/optimus_model_std_11_08.npy',optimus_model_variances)\n",
    "# np.save('stat_tests/seq_model_std_11_08.npy',seq_model_variances)"
   ]
  },
  {
   "cell_type": "code",
   "execution_count": 14,
   "id": "2d05d923-f55a-4498-b95c-72a789e2696a",
   "metadata": {},
   "outputs": [
    {
     "data": {
      "text/plain": [
       "<matplotlib.legend.Legend at 0x3fdcb39d0>"
      ]
     },
     "execution_count": 14,
     "metadata": {},
     "output_type": "execute_result"
    },
    {
     "data": {
      "image/png": "[encoded data removed]",
      "text/plain": [
       "<Figure size 675x300 with 1 Axes>"
      ]
     },
     "metadata": {},
     "output_type": "display_data"
    }
   ],
   "source": [
    "# joint_model_bars = np.load('stat_tests/joint_utr_model_metrics.npy')\n",
    "# joint_model_variances = np.load('stat_tests/joint_utr_model_variances.npy')\n",
    "\n",
    "# optimus_model_bars = np.load('stat_tests/optimus_model_metrics.npy')\n",
    "# optimus_model_variances = np.load('stat_tests/optimus_model_variances.npy')\n",
    "\n",
    "\n",
    "\n",
    "RED = '#C62626'\n",
    "BLUE = '#2E9AD6'\n",
    "\n",
    "barwidth = 0.3\n",
    "plt.rcParams.update({'font.size': 10,'font.family':'Helvetica'})\n",
    "plt.rcParams['mathtext.fontset'] = 'custom'\n",
    "plt.rcParams['mathtext.rm'] = 'Helvetica'\n",
    "plt.rcParams['mathtext.it'] = 'Helvetica:italic'\n",
    "plt.rcParams['mathtext.bf'] = 'Helvetica:bold'\n",
    "r1 = np.arange(len(joint_model_bars))\n",
    "r2 = [x + barwidth for x in r1]\n",
    "\n",
    "plt.figure(figsize=(6.75,3))\n",
    "plt.title(\"5-Prime UTR Mean Ribosome Loading Predictions\")\n",
    "plt.bar(r1, optimus_model_bars, width = barwidth, color = BLUE,alpha=1, yerr=optimus_model_variances, capsize=5, label='Optimus 5-Prime',edgecolor='black',linewidth=2)\n",
    "plt.bar(r2, joint_model_bars, width = barwidth, color = RED,alpha=1, yerr=joint_model_variances, capsize=5, label='SANDSTORM',edgecolor='black',linewidth=2)\n",
    "plt.xticks([r + (barwidth/2) for r in range(len(joint_model_bars))], ['MSE', r'R$^{\\rm 2}$','Spearman','Parameter Fraction'])\n",
    "plt.subplot().spines['right'].set_visible(False)\n",
    "plt.subplot().spines['top'].set_visible(False)\n",
    "plt.subplot().spines['left'].set_linewidth(2.0)\n",
    "plt.subplot().spines['bottom'].set_linewidth(2.0)\n",
    "plt.subplot().xaxis.set_tick_params(width=1.5)\n",
    "plt.subplot().yaxis.set_tick_params(width=1.5)\n",
    "plt.legend(loc='upper center', bbox_to_anchor=(1.12, 0.5),\n",
    "          fancybox=True, shadow=True, ncol=1)\n",
    "# plt.savefig('../figures/UTR Predictor.png',dpi=500,pad_inches=0.5,bbox_inches='tight')\n",
    "# plt.savefig('../figures/UTR Predictor.svg',transparent=True,pad_inches=0.5)\n",
    "\n",
    "\n",
    "\n"
   ]
  },
  {
   "cell_type": "code",
   "execution_count": 19,
   "id": "bb5cbf7c-028b-4fbb-baa5-601ff6349c9b",
   "metadata": {},
   "outputs": [
    {
     "data": {
      "text/plain": [
       "[Ttest_indResult(statistic=nan, pvalue=nan),\n",
       " Ttest_indResult(statistic=nan, pvalue=nan),\n",
       " Ttest_indResult(statistic=nan, pvalue=nan)]"
      ]
     },
     "execution_count": 19,
     "metadata": {},
     "output_type": "execute_result"
    }
   ],
   "source": [
    "import scipy\n",
    "joint_model_bars\n",
    "joint_model_variances\n",
    "\n",
    "save = []\n",
    "for i in range(len(joint_model_bars)-1):\n",
    "    save.append(scipy.stats.ttest_ind_from_stats(joint_model_bars[i], \n",
    "                                     joint_model_variances[i], \n",
    "                                     3,\n",
    "                                     seq_model_bars[i],\n",
    "                                     seq_model_variances[i],\n",
    "                                     3, equal_var=True, alternative='two-sided'))\n",
    "    \n",
    "    \n",
    "save"
   ]
  },
  {
   "cell_type": "code",
   "execution_count": 20,
   "id": "83c8b4e5-5918-4765-91d3-128093f91ba6",
   "metadata": {},
   "outputs": [
    {
     "data": {
      "text/plain": [
       "[0.7892041423757765, 0.803089030186767, 0.788220532492397]"
      ]
     },
     "execution_count": 20,
     "metadata": {},
     "output_type": "execute_result"
    }
   ],
   "source": [
    "joint_r2_save"
   ]
  },
  {
   "cell_type": "code",
   "execution_count": 21,
   "id": "9047b2b7-15e5-4759-a5d1-d31e659ca2f0",
   "metadata": {},
   "outputs": [
    {
     "data": {
      "text/plain": [
       "[0.6975590213796459, 0.6424154091959497, 0.7464788064198355]"
      ]
     },
     "execution_count": 21,
     "metadata": {},
     "output_type": "execute_result"
    }
   ],
   "source": [
    "optimus_r2_save"
   ]
  },
  {
   "cell_type": "code",
   "execution_count": 32,
   "id": "7a76ac2e-a98e-4173-9bc9-83472d08eee5",
   "metadata": {},
   "outputs": [
    {
     "data": {
      "text/plain": [
       "[0.7991415518592063, 0.8006767601101572, 0.7830772877790682]"
      ]
     },
     "execution_count": 32,
     "metadata": {},
     "output_type": "execute_result"
    }
   ],
   "source": [
    "seq_r2_save"
   ]
  },
  {
   "cell_type": "code",
   "execution_count": 33,
   "id": "8d8eb392-a02b-4a63-8ca6-be26ddde3007",
   "metadata": {},
   "outputs": [
    {
     "data": {
      "text/plain": [
       "[0.8800989180447899, 0.8782138641698715, 0.8789483021763719]"
      ]
     },
     "execution_count": 33,
     "metadata": {},
     "output_type": "execute_result"
    }
   ],
   "source": [
    "joint_spearman_save"
   ]
  },
  {
   "cell_type": "code",
   "execution_count": 34,
   "id": "7a4bf055-e3e4-4c56-ae37-7e21ec4af0a3",
   "metadata": {},
   "outputs": [
    {
     "data": {
      "text/plain": [
       "[SignificanceResult(statistic=0.8733191039995697, pvalue=0.0),\n",
       " SignificanceResult(statistic=0.8744689585901669, pvalue=0.0),\n",
       " SignificanceResult(statistic=0.8646275825358265, pvalue=0.0)]"
      ]
     },
     "execution_count": 34,
     "metadata": {},
     "output_type": "execute_result"
    }
   ],
   "source": [
    "seq_spearman_save"
   ]
  },
  {
   "cell_type": "code",
   "execution_count": 36,
   "id": "79f7bb64-f9f8-4b05-92f4-128ffccd0864",
   "metadata": {},
   "outputs": [
    {
     "data": {
      "text/plain": [
       "[0.8861356428249472, 0.888178668077588, 0.8816059111014719]"
      ]
     },
     "execution_count": 36,
     "metadata": {},
     "output_type": "execute_result"
    }
   ],
   "source": [
    "optimus_spearman_save"
   ]
  },
  {
   "cell_type": "code",
   "execution_count": null,
   "id": "d3904480-aa50-49bd-97f2-8f9cbb9d5240",
   "metadata": {},
   "outputs": [],
   "source": []
  }
 ],
 "metadata": {
  "kernelspec": {
   "display_name": "Python 3 (ipykernel)",
   "language": "python",
   "name": "python3"
  },
  "language_info": {
   "codemirror_mode": {
    "name": "ipython",
    "version": 3
   },
   "file_extension": ".py",
   "mimetype": "text/x-python",
   "name": "python",
   "nbconvert_exporter": "python",
   "pygments_lexer": "ipython3",
   "version": "3.10.8"
  }
 },
 "nbformat": 4,
 "nbformat_minor": 5
}
