{
 "cells": [
  {
   "cell_type": "code",
   "execution_count": 1,
   "id": "fb03f8a2-f3c2-4332-8662-63623621f8f3",
   "metadata": {},
   "outputs": [
    {
     "name": "stdout",
     "output_type": "stream",
     "text": [
      "loaded modules\n"
     ]
    }
   ],
   "source": [
    "import sys\n",
    "sys.path.insert(1,\"../src\")\n",
    "import matplotlib.pyplot as plt\n",
    "import tensorflow as tf\n",
    "import keras\n",
    "import keras.layers\n",
    "import pandas as pd\n",
    "import numpy as np\n",
    "import util\n",
    "import GA_util\n",
    "print('loaded modules')"
   ]
  },
  {
   "cell_type": "code",
   "execution_count": 2,
   "id": "21b85e14-05db-45a7-a065-4cba76e1dbf6",
   "metadata": {},
   "outputs": [
    {
     "name": "stdout",
     "output_type": "stream",
     "text": [
      "(275849,)\n",
      "(27654,)\n"
     ]
    }
   ],
   "source": [
    "seq_train = np.load('../data/RBS_Data/sequences_train_validation.npy')\n",
    "seq_test = np.load('../data/RBS_Data/sequences_test.npy')\n",
    "print(seq_train.shape)\n",
    "print(seq_test.shape)"
   ]
  },
  {
   "cell_type": "code",
   "execution_count": 3,
   "id": "dd0c2158-c70a-42a6-8852-77d53e12f694",
   "metadata": {},
   "outputs": [
    {
     "name": "stdout",
     "output_type": "stream",
     "text": [
      "(275849,)\n",
      "(27654,)\n"
     ]
    },
    {
     "data": {
      "image/png": "[encoded data removed]",
      "text/plain": [
       "<Figure size 640x480 with 1 Axes>"
      ]
     },
     "metadata": {},
     "output_type": "display_data"
    }
   ],
   "source": [
    "y_train = np.load('../data/RBS_Data/targets_train_validation.npy')\n",
    "print(y_train.shape)\n",
    "\n",
    "y_test = np.load('../data/RBS_Data/targets_test.npy')\n",
    "print(y_test.shape)\n",
    "\n",
    "plt.figure()\n",
    "plt.title('RBS Usage Distribution')\n",
    "plt.hist(y_train,color='cyan',density=True,alpha=0.5)\n",
    "plt.hist(y_test,color='firebrick',density=True,alpha=0.5)\n",
    "plt.subplot().spines['right'].set_visible(False)\n",
    "plt.subplot().spines['top'].set_visible(False)\n",
    "plt.subplot().spines['left'].set_linewidth(2.0)\n",
    "plt.subplot().spines['bottom'].set_linewidth(2.0)\n",
    "plt.subplot().xaxis.set_tick_params(width=1.5)\n",
    "plt.subplot().yaxis.set_tick_params(width=1.5)"
   ]
  },
  {
   "cell_type": "code",
   "execution_count": 4,
   "id": "3b3a0a3b-4316-4f23-af8b-17b99fae5ab2",
   "metadata": {},
   "outputs": [
    {
     "data": {
      "image/png": "[encoded data removed]",
      "text/plain": [
       "<Figure size 640x480 with 1 Axes>"
      ]
     },
     "metadata": {},
     "output_type": "display_data"
    }
   ],
   "source": [
    "from sklearn.preprocessing import KBinsDiscretizer\n",
    "\n",
    "#Binning into 0.05 sized bins like the original paper\n",
    "# kbins = KBinsDiscretizer(n_bins=20, encode='ordinal', strategy='uniform')\n",
    "# kbins.fit(y_train.reshape(-1,1))\n",
    "\n",
    "# y_train = kbins.transform(y_train.reshape(-1,1)) * 0.05\n",
    "# y_test = kbins.transform(y_test.reshape(-1,1)) * 0.05\n",
    "\n",
    "plt.figure()\n",
    "plt.title('RBS Discretized Distribution')\n",
    "plt.hist(y_train,color='cyan',density=True,alpha=0.5,bins=40)\n",
    "plt.hist(y_test,color='firebrick',density=True,alpha=0.5,bins=40)\n",
    "plt.subplot().spines['right'].set_visible(False)\n",
    "plt.subplot().spines['top'].set_visible(False)\n",
    "plt.subplot().spines['left'].set_linewidth(2.0)\n",
    "plt.subplot().spines['bottom'].set_linewidth(2.0)\n",
    "plt.subplot().xaxis.set_tick_params(width=1.5)\n",
    "plt.subplot().yaxis.set_tick_params(width=1.5)\n"
   ]
  },
  {
   "cell_type": "code",
   "execution_count": 5,
   "id": "cc9200e9-0788-40e2-9c75-60a6b4b18e22",
   "metadata": {},
   "outputs": [
    {
     "data": {
      "text/html": [
       "<div>\n",
       "<style scoped>\n",
       "    .dataframe tbody tr th:only-of-type {\n",
       "        vertical-align: middle;\n",
       "    }\n",
       "\n",
       "    .dataframe tbody tr th {\n",
       "        vertical-align: top;\n",
       "    }\n",
       "\n",
       "    .dataframe thead th {\n",
       "        text-align: right;\n",
       "    }\n",
       "</style>\n",
       "<table border=\"1\" class=\"dataframe\">\n",
       "  <thead>\n",
       "    <tr style=\"text-align: right;\">\n",
       "      <th></th>\n",
       "      <th>Sequences</th>\n",
       "    </tr>\n",
       "  </thead>\n",
       "  <tbody>\n",
       "    <tr>\n",
       "      <th>0</th>\n",
       "      <td>AAAAAACAGTCTAGATT</td>\n",
       "    </tr>\n",
       "    <tr>\n",
       "      <th>1</th>\n",
       "      <td>AAAAAACGATGAGTCGG</td>\n",
       "    </tr>\n",
       "    <tr>\n",
       "      <th>2</th>\n",
       "      <td>AAAAAAGAAAAAAACAT</td>\n",
       "    </tr>\n",
       "    <tr>\n",
       "      <th>3</th>\n",
       "      <td>AAAAAAGAAAACTTCCC</td>\n",
       "    </tr>\n",
       "    <tr>\n",
       "      <th>4</th>\n",
       "      <td>AAAAAAGAGAAAAATCT</td>\n",
       "    </tr>\n",
       "  </tbody>\n",
       "</table>\n",
       "</div>"
      ],
      "text/plain": [
       "           Sequences\n",
       "0  AAAAAACAGTCTAGATT\n",
       "1  AAAAAACGATGAGTCGG\n",
       "2  AAAAAAGAAAAAAACAT\n",
       "3  AAAAAAGAAAACTTCCC\n",
       "4  AAAAAAGAGAAAAATCT"
      ]
     },
     "execution_count": 5,
     "metadata": {},
     "output_type": "execute_result"
    }
   ],
   "source": [
    "seq_train = pd.DataFrame(data=seq_train,columns=['Sequences'])\n",
    "seq_train.head()\n",
    "\n",
    "seq_test = pd.DataFrame(data=seq_test,columns=['Sequences'])\n",
    "\n",
    "seq_test.head()"
   ]
  },
  {
   "cell_type": "code",
   "execution_count": 10,
   "id": "dbf3eef7-95ef-4ffe-af41-c6ba8dc32188",
   "metadata": {},
   "outputs": [],
   "source": [
    "seq_df = pd.concat((seq_train,seq_test),axis=0)\n",
    "\n",
    "seq_df.shape\n",
    "\n",
    "y = np.concatenate((y_train,y_test),axis=0)"
   ]
  },
  {
   "cell_type": "code",
   "execution_count": 11,
   "id": "1c82e807-b2c1-4239-a6af-016c9698a51f",
   "metadata": {},
   "outputs": [],
   "source": [
    "seqs = util.one_hot_encode(seq_df)\n",
    "ppms = GA_util.prototype_ppms_fast(seqs)"
   ]
  },
  {
   "cell_type": "code",
   "execution_count": null,
   "id": "85ec8841-b52a-4be7-bcbd-acf78ab44423",
   "metadata": {},
   "outputs": [],
   "source": [
    "FOLDS = 3\n",
    "BATCH_SIZE=64"
   ]
  },
  {
   "cell_type": "code",
   "execution_count": 12,
   "id": "d66de9d0-e1c3-458a-9d65-cec3f1cfdcce",
   "metadata": {},
   "outputs": [
    {
     "name": "stdout",
     "output_type": "stream",
     "text": [
      "Metal device set to: Apple M1 Ultra\n"
     ]
    },
    {
     "name": "stderr",
     "output_type": "stream",
     "text": [
      "2024-11-20 10:29:07.038509: I tensorflow/core/common_runtime/pluggable_device/pluggable_device_factory.cc:306] Could not identify NUMA node of platform GPU ID 0, defaulting to 0. Your kernel may not have been built with NUMA support.\n",
      "2024-11-20 10:29:07.038533: I tensorflow/core/common_runtime/pluggable_device/pluggable_device_factory.cc:272] Created TensorFlow device (/job:localhost/replica:0/task:0/device:GPU:0 with 0 MB memory) -> physical PluggableDevice (device: 0, name: METAL, pci bus id: <undefined>)\n"
     ]
    },
    {
     "name": "stdout",
     "output_type": "stream",
     "text": [
      "Epoch 1/20\n"
     ]
    },
    {
     "name": "stderr",
     "output_type": "stream",
     "text": [
      "2024-11-20 10:29:07.432244: W tensorflow/tsl/platform/profile_utils/cpu_utils.cc:128] Failed to get CPU frequency: 0 Hz\n",
      "2024-11-20 10:29:07.725744: I tensorflow/core/grappler/optimizers/custom_graph_optimizer_registry.cc:114] Plugin optimizer for device_type GPU is enabled.\n"
     ]
    },
    {
     "name": "stdout",
     "output_type": "stream",
     "text": [
      "3794/3794 [==============================] - ETA: 0s - loss: 0.0191"
     ]
    },
    {
     "name": "stderr",
     "output_type": "stream",
     "text": [
      "2024-11-20 10:29:40.990849: I tensorflow/core/grappler/optimizers/custom_graph_optimizer_registry.cc:114] Plugin optimizer for device_type GPU is enabled.\n"
     ]
    },
    {
     "name": "stdout",
     "output_type": "stream",
     "text": [
      "3794/3794 [==============================] - 37s 9ms/step - loss: 0.0191 - val_loss: 0.0143\n",
      "Epoch 2/20\n",
      "3794/3794 [==============================] - 35s 9ms/step - loss: 0.0135 - val_loss: 0.0124\n",
      "Epoch 3/20\n",
      "3794/3794 [==============================] - 34s 9ms/step - loss: 0.0120 - val_loss: 0.0113\n",
      "Epoch 4/20\n",
      "3794/3794 [==============================] - 30s 8ms/step - loss: 0.0112 - val_loss: 0.0108\n",
      "Epoch 5/20\n",
      "3794/3794 [==============================] - 30s 8ms/step - loss: 0.0107 - val_loss: 0.0102\n",
      "Epoch 6/20\n",
      "3794/3794 [==============================] - 30s 8ms/step - loss: 0.0102 - val_loss: 0.0098\n",
      "Epoch 7/20\n",
      "3794/3794 [==============================] - 30s 8ms/step - loss: 0.0098 - val_loss: 0.0096\n",
      "Epoch 8/20\n",
      "3794/3794 [==============================] - 30s 8ms/step - loss: 0.0095 - val_loss: 0.0094\n",
      "Epoch 9/20\n",
      "3794/3794 [==============================] - 31s 8ms/step - loss: 0.0093 - val_loss: 0.0091\n",
      "Epoch 10/20\n",
      "3794/3794 [==============================] - 31s 8ms/step - loss: 0.0091 - val_loss: 0.0090\n",
      "Epoch 11/20\n",
      "3794/3794 [==============================] - 31s 8ms/step - loss: 0.0090 - val_loss: 0.0089\n",
      "Epoch 12/20\n",
      "3794/3794 [==============================] - 31s 8ms/step - loss: 0.0089 - val_loss: 0.0089\n",
      "Epoch 13/20\n",
      "3794/3794 [==============================] - 31s 8ms/step - loss: 0.0088 - val_loss: 0.0087\n",
      "Epoch 14/20\n",
      "3794/3794 [==============================] - 30s 8ms/step - loss: 0.0087 - val_loss: 0.0088\n",
      "Epoch 15/20\n",
      "3794/3794 [==============================] - 30s 8ms/step - loss: 0.0087 - val_loss: 0.0086\n",
      "Epoch 16/20\n",
      "3794/3794 [==============================] - 31s 8ms/step - loss: 0.0086 - val_loss: 0.0085\n",
      "Epoch 17/20\n",
      "3794/3794 [==============================] - 31s 8ms/step - loss: 0.0085 - val_loss: 0.0085\n",
      "Epoch 18/20\n",
      "3794/3794 [==============================] - 30s 8ms/step - loss: 0.0085 - val_loss: 0.0085\n",
      "Epoch 19/20\n",
      "3794/3794 [==============================] - 31s 8ms/step - loss: 0.0084 - val_loss: 0.0085\n",
      "Epoch 20/20\n",
      "3794/3794 [==============================] - 31s 8ms/step - loss: 0.0083 - val_loss: 0.0084\n",
      "  37/1897 [..............................] - ETA: 5s"
     ]
    },
    {
     "name": "stderr",
     "output_type": "stream",
     "text": [
      "2024-11-20 10:39:33.471238: I tensorflow/core/grappler/optimizers/custom_graph_optimizer_registry.cc:114] Plugin optimizer for device_type GPU is enabled.\n"
     ]
    },
    {
     "name": "stdout",
     "output_type": "stream",
     "text": [
      "1897/1897 [==============================] - 5s 3ms/step\n",
      "0.8800468551430317\n",
      "Epoch 1/20\n"
     ]
    },
    {
     "name": "stderr",
     "output_type": "stream",
     "text": [
      "2024-11-20 10:39:39.342101: I tensorflow/core/grappler/optimizers/custom_graph_optimizer_registry.cc:114] Plugin optimizer for device_type GPU is enabled.\n"
     ]
    },
    {
     "name": "stdout",
     "output_type": "stream",
     "text": [
      "3794/3794 [==============================] - ETA: 0s - loss: 0.0249"
     ]
    },
    {
     "name": "stderr",
     "output_type": "stream",
     "text": [
      "2024-11-20 10:40:07.630718: I tensorflow/core/grappler/optimizers/custom_graph_optimizer_registry.cc:114] Plugin optimizer for device_type GPU is enabled.\n"
     ]
    },
    {
     "name": "stdout",
     "output_type": "stream",
     "text": [
      "3794/3794 [==============================] - 32s 8ms/step - loss: 0.0249 - val_loss: 0.0151\n",
      "Epoch 2/20\n",
      "3794/3794 [==============================] - 31s 8ms/step - loss: 0.0138 - val_loss: 0.0127\n",
      "Epoch 3/20\n",
      "3794/3794 [==============================] - 30s 8ms/step - loss: 0.0121 - val_loss: 0.0114\n",
      "Epoch 4/20\n",
      "3794/3794 [==============================] - 30s 8ms/step - loss: 0.0112 - val_loss: 0.0107\n",
      "Epoch 5/20\n",
      "3794/3794 [==============================] - 31s 8ms/step - loss: 0.0105 - val_loss: 0.0102\n",
      "Epoch 6/20\n",
      "3794/3794 [==============================] - 31s 8ms/step - loss: 0.0101 - val_loss: 0.0098\n",
      "Epoch 7/20\n",
      "3794/3794 [==============================] - 31s 8ms/step - loss: 0.0098 - val_loss: 0.0097\n",
      "Epoch 8/20\n",
      "3794/3794 [==============================] - 31s 8ms/step - loss: 0.0096 - val_loss: 0.0094\n",
      "Epoch 9/20\n",
      "3794/3794 [==============================] - 31s 8ms/step - loss: 0.0094 - val_loss: 0.0093\n",
      "Epoch 10/20\n",
      "3794/3794 [==============================] - 31s 8ms/step - loss: 0.0093 - val_loss: 0.0092\n",
      "Epoch 11/20\n",
      "3794/3794 [==============================] - 303s 80ms/step - loss: 0.0091 - val_loss: 0.0091\n",
      "Epoch 12/20\n",
      "3794/3794 [==============================] - 32s 8ms/step - loss: 0.0090 - val_loss: 0.0091\n",
      "Epoch 13/20\n",
      "3794/3794 [==============================] - 32s 8ms/step - loss: 0.0089 - val_loss: 0.0090\n",
      "Epoch 14/20\n",
      "3794/3794 [==============================] - 32s 8ms/step - loss: 0.0089 - val_loss: 0.0088\n",
      "Epoch 15/20\n",
      "3794/3794 [==============================] - 32s 8ms/step - loss: 0.0088 - val_loss: 0.0088\n",
      "Epoch 16/20\n",
      "3794/3794 [==============================] - 32s 8ms/step - loss: 0.0087 - val_loss: 0.0087\n",
      "Epoch 17/20\n",
      "3794/3794 [==============================] - 32s 8ms/step - loss: 0.0087 - val_loss: 0.0087\n",
      "Epoch 18/20\n",
      "3794/3794 [==============================] - 32s 8ms/step - loss: 0.0086 - val_loss: 0.0087\n",
      "Epoch 19/20\n",
      "3794/3794 [==============================] - 32s 8ms/step - loss: 0.0085 - val_loss: 0.0086\n",
      "Epoch 20/20\n",
      "3794/3794 [==============================] - 32s 8ms/step - loss: 0.0085 - val_loss: 0.0086\n",
      "  33/1897 [..............................] - ETA: 6s"
     ]
    },
    {
     "name": "stderr",
     "output_type": "stream",
     "text": [
      "2024-11-20 10:54:37.961938: I tensorflow/core/grappler/optimizers/custom_graph_optimizer_registry.cc:114] Plugin optimizer for device_type GPU is enabled.\n"
     ]
    },
    {
     "name": "stdout",
     "output_type": "stream",
     "text": [
      "1897/1897 [==============================] - 6s 3ms/step\n",
      "0.878462642988311\n",
      "Epoch 1/20\n"
     ]
    },
    {
     "name": "stderr",
     "output_type": "stream",
     "text": [
      "2024-11-20 10:54:44.306340: I tensorflow/core/grappler/optimizers/custom_graph_optimizer_registry.cc:114] Plugin optimizer for device_type GPU is enabled.\n"
     ]
    },
    {
     "name": "stdout",
     "output_type": "stream",
     "text": [
      "3794/3794 [==============================] - ETA: 0s - loss: 0.0183"
     ]
    },
    {
     "name": "stderr",
     "output_type": "stream",
     "text": [
      "2024-11-20 10:55:13.554728: I tensorflow/core/grappler/optimizers/custom_graph_optimizer_registry.cc:114] Plugin optimizer for device_type GPU is enabled.\n"
     ]
    },
    {
     "name": "stdout",
     "output_type": "stream",
     "text": [
      "3794/3794 [==============================] - 33s 8ms/step - loss: 0.0183 - val_loss: 0.0137\n",
      "Epoch 2/20\n",
      "3794/3794 [==============================] - 32s 8ms/step - loss: 0.0128 - val_loss: 0.0115\n",
      "Epoch 3/20\n",
      "3794/3794 [==============================] - 34s 9ms/step - loss: 0.0115 - val_loss: 0.0107\n",
      "Epoch 4/20\n",
      "3794/3794 [==============================] - 35s 9ms/step - loss: 0.0107 - val_loss: 0.0103\n",
      "Epoch 5/20\n",
      "3794/3794 [==============================] - 35s 9ms/step - loss: 0.0102 - val_loss: 0.0098\n",
      "Epoch 6/20\n",
      "3794/3794 [==============================] - 35s 9ms/step - loss: 0.0099 - val_loss: 0.0095\n",
      "Epoch 7/20\n",
      "3794/3794 [==============================] - 34s 9ms/step - loss: 0.0096 - val_loss: 0.0093\n",
      "Epoch 8/20\n",
      "3794/3794 [==============================] - 32s 9ms/step - loss: 0.0094 - val_loss: 0.0092\n",
      "Epoch 9/20\n",
      "3794/3794 [==============================] - 32s 8ms/step - loss: 0.0093 - val_loss: 0.0091\n",
      "Epoch 10/20\n",
      "3794/3794 [==============================] - 32s 8ms/step - loss: 0.0091 - val_loss: 0.0089\n",
      "Epoch 11/20\n",
      "3794/3794 [==============================] - 32s 8ms/step - loss: 0.0090 - val_loss: 0.0088\n",
      "Epoch 12/20\n",
      "3794/3794 [==============================] - 32s 8ms/step - loss: 0.0089 - val_loss: 0.0087\n",
      "Epoch 13/20\n",
      "3794/3794 [==============================] - 32s 8ms/step - loss: 0.0088 - val_loss: 0.0087\n",
      "Epoch 14/20\n",
      "3794/3794 [==============================] - 32s 8ms/step - loss: 0.0087 - val_loss: 0.0086\n",
      "Epoch 15/20\n",
      "3794/3794 [==============================] - 33s 9ms/step - loss: 0.0086 - val_loss: 0.0085\n",
      "Epoch 16/20\n",
      "3794/3794 [==============================] - 34s 9ms/step - loss: 0.0085 - val_loss: 0.0084\n",
      "Epoch 17/20\n",
      "3794/3794 [==============================] - 32s 8ms/step - loss: 0.0084 - val_loss: 0.0084\n",
      "Epoch 18/20\n",
      "3794/3794 [==============================] - 33s 9ms/step - loss: 0.0084 - val_loss: 0.0083\n",
      "Epoch 19/20\n",
      "3794/3794 [==============================] - 32s 8ms/step - loss: 0.0083 - val_loss: 0.0082\n",
      "Epoch 20/20\n",
      "3794/3794 [==============================] - 32s 8ms/step - loss: 0.0083 - val_loss: 0.0082\n",
      "  12/1897 [..............................] - ETA: 8s  "
     ]
    },
    {
     "name": "stderr",
     "output_type": "stream",
     "text": [
      "2024-11-20 11:05:41.733347: I tensorflow/core/grappler/optimizers/custom_graph_optimizer_registry.cc:114] Plugin optimizer for device_type GPU is enabled.\n"
     ]
    },
    {
     "name": "stdout",
     "output_type": "stream",
     "text": [
      "1897/1897 [==============================] - 6s 3ms/step\n",
      "0.8835811799606132\n"
     ]
    }
   ],
   "source": [
    "from sklearn.model_selection import train_test_split\n",
    "from sklearn.metrics import r2_score\n",
    "from scipy.stats import spearmanr\n",
    "\n",
    "loss = 'mse'\n",
    "lr = 0.0001\n",
    "batch_size = 64\n",
    "epochs = 20\n",
    "folds = 3\n",
    "\n",
    "\n",
    "joint_r2_save = []\n",
    "joint_spearman_save = []\n",
    "joint_mse_save = []\n",
    "\n",
    "\n",
    "\n",
    "for i in range(folds):\n",
    "    \n",
    "    seq_train,seq_test,ppm_train,ppm_test,y_train,y_test = train_test_split(seqs,ppms,y,test_size=0.2)\n",
    "    \n",
    "    joint_model = GA_util.create_SANDSTORM(seq_len = 17,ppm_len=17,internal_activation='relu',latent_dim=64,output_activation='linear')\n",
    "    optimizer = keras.optimizers.Adam(learning_rate=lr)\n",
    "    joint_model.compile(optimizer=optimizer,loss='mse')\n",
    "    epochs=20\n",
    "    hist = joint_model.fit(\n",
    "        [seq_train,ppm_train],y_train,batch_size=64,validation_data=[[seq_test,ppm_test],y_test],epochs=epochs)\n",
    " \n",
    "    y_preds = joint_model.predict([seq_test,ppm_test])\n",
    "    joint_mse = hist.history['val_loss'][-1]\n",
    "    joint_r2 = r2_score(y_test,y_preds)\n",
    "    joint_spearman = spearmanr(y_test,y_preds)[0]\n",
    "    \n",
    "    joint_mse_save.append(joint_mse)\n",
    "    joint_r2_save.append(joint_r2)\n",
    "    joint_spearman_save.append(joint_spearman)\n",
    "    print(r2_score(y_test,y_preds))"
   ]
  },
  {
   "cell_type": "code",
   "execution_count": 13,
   "id": "0487b559-2997-4b14-9039-b12872fe1136",
   "metadata": {},
   "outputs": [
    {
     "name": "stdout",
     "output_type": "stream",
     "text": [
      "1897/1897 [==============================] - 5s 3ms/step\n"
     ]
    },
    {
     "data": {
      "text/plain": [
       "Text(0.5, 1.0, 'RBS Efficiency: R2 Score 0.8835811799606132')"
      ]
     },
     "execution_count": 13,
     "metadata": {},
     "output_type": "execute_result"
    },
    {
     "data": {
      "image/png": "[encoded data removed]",
      "text/plain": [
       "<Figure size 640x480 with 1 Axes>"
      ]
     },
     "metadata": {},
     "output_type": "display_data"
    }
   ],
   "source": [
    "from sklearn.metrics import mean_absolute_error, r2_score, roc_auc_score, mean_squared_error\n",
    "\n",
    "y_hat = joint_model.predict([seq_test,ppm_test])\n",
    "# y_hat = np.reshape(y_hat, y_hat.shape[0]\n",
    "\n",
    "# #Plot the fit of real and predicted values|\n",
    "r2 = r2_score(y_test,y_hat)\n",
    "\n",
    "plt.figure()\n",
    "plt.scatter(y_test,y_hat,color='firebrick',alpha=0.2)\n",
    "plt.subplot().spines['right'].set_visible(False)\n",
    "plt.subplot().spines['top'].set_visible(False)\n",
    "plt.subplot().spines['left'].set_linewidth(2.0)\n",
    "plt.subplot().spines['bottom'].set_linewidth(2.0)\n",
    "plt.subplot().xaxis.set_tick_params(width=1.5)\n",
    "plt.subplot().yaxis.set_tick_params(width=1.5)\n",
    "plt.xlabel('True On Target')\n",
    "plt.ylabel('Predicted On Target')\n",
    "plt.title('RBS Efficiency: R2 Score %s'%r2)\n",
    "# plt.xlim([0,1])\n",
    "# plt.ylim([0,1])\n",
    "# plt.savefig('figures/Training Validation')\n",
    "\n"
   ]
  },
  {
   "cell_type": "code",
   "execution_count": 16,
   "id": "e44e9de9-25c0-4379-8887-141ede88a45c",
   "metadata": {},
   "outputs": [],
   "source": [
    "class BetaLayer(tf.keras.layers.Layer):\n",
    "    \"\"\"Tranform the shape parameters into mean and variance of the beta\n",
    "    distributions\"\"\"\n",
    "    def __init__(self, **kwargs):\n",
    "        super(BetaLayer, self).__init__(**kwargs)\n",
    "    \n",
    "    def build(self, input_shape):\n",
    "        super(BetaLayer, self).build(input_shape)\n",
    "    \n",
    "    def call(self, x):\n",
    "        a, b = tf.split(tf.stack(x), 2, axis=2)  # a, b are n_models x n_samples\n",
    "        a_plus_b = a + b\n",
    "\n",
    "        # mu, sigma2 are n_models x n_samples\n",
    "        mu = a / a_plus_b\n",
    "        sigma2 = (a * b) / (K.square(a_plus_b) * (a_plus_b + 1))\n",
    "             \n",
    "        predictive_mean = K.mean(mu, axis=0)\n",
    "        predictive_var = K.mean(sigma2, axis=0) + K.var(mu, axis=0)\n",
    "        out = [predictive_mean, predictive_var]\n",
    "        return out"
   ]
  },
  {
   "cell_type": "code",
   "execution_count": 17,
   "id": "da6dfcf7-ac58-4fcd-8cf7-1bccd1477950",
   "metadata": {},
   "outputs": [],
   "source": [
    "input_shape = np.zeros((1, 17, 4))  # input size\n",
    "model_number = [1, 2]  # set of hyperparameters\n",
    "epoch_number = [52, 52]  # epoch (divided by 5) chosen after early stopping\n",
    "seed_ensemble = [10, 20, 30, 40, 50]  # seeds of the elements of the ensemble\n",
    "\n",
    "def beta2mean_var(output_beta):\n",
    "    \"\"\"Calculate the mean and variance of the beta distribution from the \n",
    "    shape parameters\"\"\"\n",
    "    mean = output_beta[:, 0] / (output_beta[:, 1] + output_beta[:, 0])\n",
    "    variance = (output_beta[:, 0] * output_beta[:, 1]) / (\n",
    "\t\t\t(output_beta[:, 0] + output_beta[:, 1])**2\n",
    "                        * (output_beta[:, 0] + output_beta[:, 1] + 1))\n",
    "    return mean, variance"
   ]
  },
  {
   "cell_type": "code",
   "execution_count": 11,
   "id": "564a389d-b57c-4c83-964e-024eb64e941b",
   "metadata": {},
   "outputs": [],
   "source": [
    "import numpy as np\n",
    "import matplotlib.pyplot as plt\n",
    "\n",
    "\n",
    "size_bin = 0.05\n",
    "percent_outlier = 0.5\n",
    "\n",
    "def adjacent_values(vals, q1, q3):\n",
    "    upper_adjacent_value = q3 + (q3 - q1) * 1.5\n",
    "    upper_adjacent_value = np.clip(upper_adjacent_value, q3, vals[-1])\n",
    "\n",
    "    lower_adjacent_value = q1 - (q3 - q1) * 1.5\n",
    "    lower_adjacent_value = np.clip(lower_adjacent_value, vals[0], q1)\n",
    "    return lower_adjacent_value, upper_adjacent_value\n",
    "\n",
    "def violinplot(ground_truth_targets, predicted_targets):\n",
    "\n",
    "    # Bin the samples according to their ground truth target values.\n",
    "    target_binned = []\n",
    "    idx_outliers_per_bin = []\n",
    "    target_binned_outliers = []\n",
    "    for bins in np.arange(0, 1, size_bin):\n",
    "        if bins == 1 - size_bin:\n",
    "            idx = np.logical_and(ground_truth_targets >= bins, \n",
    "                                 ground_truth_targets <= bins + size_bin)\n",
    "        else:\n",
    "            idx = np.logical_and(ground_truth_targets >= bins, \n",
    "                                 ground_truth_targets < bins + size_bin)\n",
    "        low_perc = np.percentile(predicted_targets[idx], percent_outlier)\n",
    "        up_perc = np.percentile(predicted_targets[idx], 100 - percent_outlier)\n",
    "        idx_outliers_per_bin.append(np.where(idx)[0][np.logical_or(\n",
    "                                            predicted_targets[idx] < low_perc, \n",
    "                                            predicted_targets[idx] > up_perc)])\n",
    "        idx_nonoutliers_per_bin = np.logical_and(predicted_targets[idx] >= low_perc, \n",
    "                                                 predicted_targets[idx] <= up_perc)\n",
    "        idx_to_keep_per_bin = np.where(idx)[0][idx_nonoutliers_per_bin]\n",
    "\n",
    "        target_binned.append(predicted_targets[idx_to_keep_per_bin])\n",
    "    target_binned_outliers = [predicted_targets[idx] for idx in idx_outliers_per_bin]\n",
    "    \n",
    "    # Get summary statistics of the predicted values, per bin.\n",
    "    percentile_info = np.array([\n",
    "        np.percentile(target_binned[i], [25, 50, 75]) \n",
    "        for i in range(len(target_binned))])\n",
    "    whiskers = np.array([\n",
    "        adjacent_values(np.sort(bin_array), q1, q3)\n",
    "        for bin_array, q1, q3 \n",
    "        in zip(target_binned, percentile_info[:, 0], percentile_info[:, 2])])\n",
    "    whiskersMin, whiskersMax = whiskers[:, 0], whiskers[:, 1]\n",
    "    \n",
    "    # Create the violin plot figure.\n",
    "    fig = plt.figure(figsize=(18, 11.1255))\n",
    "    # Plot violins.\n",
    "    print(len(target_binned))\n",
    "    print(target_binned)\n",
    "    parts = plt.violinplot(target_binned, \n",
    "                           showmeans=False, \n",
    "                           showmedians=False, \n",
    "                           showextrema=False, \n",
    "                           widths=size_bin * 0.8, \n",
    "                           positions=np.arange(size_bin / 2, 1, size_bin), \n",
    "                           points=300,  \n",
    "                           bw_method=None)\n",
    "    # Set parameters of the plot.\n",
    "    for pc in parts['bodies']:\n",
    "        pc.set_facecolor('firebrick')\n",
    "        pc.set_alpha(0.7)\n",
    "    # Plot the outliers (scatter plot).\n",
    "    for it, bin_id in enumerate(np.arange(0, 1, size_bin)):\n",
    "        plt.scatter([bin_id + 0.025]*len(target_binned_outliers[it]), \n",
    "                    target_binned_outliers[it], color='blue', s=0.5)\n",
    "    # Plot the summary statisics of predicted values, per bin.\n",
    "    inds = np.arange(0, 1, size_bin) + 0.025\n",
    "    plt.scatter(inds, percentile_info[:, 1], marker='o', \n",
    "                color='white', s=30, zorder=3)\n",
    "    plt.vlines(inds, percentile_info[:, 0], percentile_info[:, 2], \n",
    "               color='k', linestyle='-', lw=5)\n",
    "    plt.vlines(inds, whiskersMin, whiskersMax, \n",
    "               color='k', linestyle='-', lw=1)\n",
    "    plt.plot([0, 1],[0, 1],'k')\n",
    "\n",
    "    plt.xlabel('Ground truth $IFP_{0-480min}$ (bins of size 0.05)', fontsize=25)\n",
    "    plt.ylabel('Predicted  $IFP_{0-480min}$', fontsize=25)\n",
    "\n",
    "    plt.xticks(np.arange(size_bin / 2, 1, size_bin), \n",
    "               ['{:.2f}\\n-\\n{:.2f}'.format(i * size_bin, (i + 1) * size_bin) \n",
    "                for i in range(len(target_binned))], fontsize=12)\n",
    "    plt.yticks(fontsize=16)\n",
    "    plt.xlim(0, 1)\n",
    "    plt.ylim(-0.01, 1.01)\n",
    "\n",
    "    plt.savefig('Violin_plot.pdf')\n",
    "    plt.show()\n",
    "    \n",
    "# preds = joint_model.predict([seq_test,ppm_test])\n",
    " \n",
    "# violinplot(y_test,preds)"
   ]
  },
  {
   "cell_type": "code",
   "execution_count": 12,
   "id": "d8fb8ec2-6ebf-4ea9-ae1a-319774e5a63a",
   "metadata": {},
   "outputs": [],
   "source": [
    "import tensorflow_probability as tfp\n",
    "eps_ = 10**-6\n",
    "eps = 10**-9\n",
    "\n",
    "class UncerEstim():\n",
    "    #Changing args to a dictionary\n",
    "    def __init__(self, args):\n",
    "        self.args = args\n",
    "        self.loss_func = self.custom_objective()\n",
    "    \n",
    "    def nll_score(self, alpha_beta_groundtruth):\n",
    "        \"\"\" Calculates the average negative log-likelihood over input samples\"\"\"\n",
    "        dst = tfp.distributions.Beta(alpha_beta_groundtruth[0], \n",
    "                                    alpha_beta_groundtruth[1])\n",
    "        target = K.clip(alpha_beta_groundtruth[2], eps_, 1 - eps_)\n",
    "        return K.mean(-dst.log_prob(target))\n",
    "\n",
    "    def residual_block(self, y, n_in, n_out, kmer_size=[3,3], stride=1):\n",
    "        \"\"\" Defines the residual block, composed of two convolutional layers\"\"\"\n",
    "        shortcut_in = y  \n",
    "        \n",
    "        conv1D_1 = layers.Conv1D(\n",
    "\t        n_in, \n",
    "\t        kernel_size=kmer_size[0], \n",
    "\t        strides=stride, \n",
    "\t        kernel_regularizer=regularizers.l2(self.args['weight_decay']), \n",
    "\t        padding='same')\n",
    "        BN_1 = layers.BatchNormalization()\n",
    "        y_in = conv1D_1(y)\n",
    "        y_in = BN_1(y_in)\n",
    "        y_in = layers.LeakyReLU()(y_in)\n",
    "        \n",
    "        conv1D_2 = layers.Conv1D(\n",
    "\t\tn_out, \n",
    "\t\tkernel_size=kmer_size[1],  \n",
    "\t\tstrides=1, \n",
    "                kernel_regularizer=regularizers.l2(self.args['weight_decay']), \n",
    "\t\tpadding='same')\n",
    "        BN_2 = layers.BatchNormalization()\n",
    "        y_in = conv1D_2(y_in)\n",
    "        y_in = BN_2(y_in)                   \n",
    "\n",
    "        if shortcut_in.shape[2] != n_out:\n",
    "            conv1D_sh = layers.Conv1D(\n",
    "\t\tn_out, \n",
    "\t\tkernel_size=1,  \n",
    "\t\tstrides=stride, \n",
    "                kernel_regularizer=regularizers.l2(self.args['weight_decay']), \n",
    "\t\tpadding='same')\n",
    "            BN_sh = layers.BatchNormalization()\n",
    "            shortcut_in = conv1D_sh(shortcut_in)\n",
    "            shortcut_in = BN_sh(shortcut_in)              \n",
    "\n",
    "        y_in = layers.add([shortcut_in, y_in])\n",
    "        y_in = layers.LeakyReLU()(y_in)\n",
    "        return y_in\n",
    "    \n",
    "    def core_model(self, x_in):\n",
    "        \"\"\"Defines the deep learning model\"\"\"\n",
    "        n_modules = len(self.args['n_blocks_res'])\n",
    "        # Implements the sequence of residual blocks.  \n",
    "        for module in range(n_modules):\n",
    "            for block in range(self.args['n_blocks_res'][module]):\n",
    "                stride = 1\n",
    "                x_in = self.residual_block(\n",
    "\t\t\tx_in, \n",
    "\t\t\tint(self.args['n_filters_res'][module * 2]), \n",
    "\t\t\tint(self.args['n_filters_res'][module * 2 + 1]), \n",
    "                        kmer_size=[int(self.args['kmer_sizes_res'][module * 2]),\n",
    "\t\t\t\t   int(self.args['kmer_sizes_res'][module * 2 + 1])], \n",
    "\t\t\tstride=stride)\n",
    "        # Flattens the last convolutional layer's output.\n",
    "        x_in = layers.Flatten()(x_in)\n",
    "        \n",
    "\t# Implements the two first fully-connected layers.\n",
    "        dense_alpha = layers.Dense(\n",
    "\t\tself.args['n_units_mlp'], \n",
    "\t\tkernel_regularizer=regularizers.l2(self.args['weight_decay']))\n",
    "        BN_alpha = layers.BatchNormalization() \n",
    "        alpha_hidden = dense_alpha(x_in)\n",
    "        alpha_hidden = BN_alpha(alpha_hidden)\n",
    "        alpha_hidden = layers.LeakyReLU()(alpha_hidden)\n",
    "\n",
    "        dense_beta = layers.Dense(\n",
    "\t\tself.args['n_units_mlp'], \n",
    "\t\tkernel_regularizer=regularizers.l2(self.args['weight_decay']))\n",
    "        BN_beta = layers.BatchNormalization()\n",
    "        beta_hidden = dense_beta(x_in)\n",
    "        beta_hidden = BN_beta(beta_hidden)\n",
    "        beta_hidden = layers.LeakyReLU()(beta_hidden)\n",
    "        \n",
    "        # Implements the two fully-connected layers that lead to the two output values.\n",
    "        dense_output_alpha = layers.Dense(1, activation='softplus')\n",
    "        dense_output_beta = layers.Dense(1, activation='softplus') \n",
    "        alpha = dense_output_alpha(alpha_hidden)\n",
    "        beta = dense_output_beta(beta_hidden)\n",
    "        add_epsilon = layers.Lambda(lambda x: x + eps)\n",
    "        self.alpha = add_epsilon(alpha)\n",
    "        self.beta = add_epsilon(beta)\n",
    "            \n",
    "        \n",
    "    def sequence_model(self, inputs, targets):\n",
    "        \"\"\"Computes output\"\"\"\n",
    "        self.core_model(x_in=inputs)\n",
    "        self.nll = layers.Lambda(self.nll_score)(\n",
    "\t\t[self.alpha, self.beta, targets])\n",
    "        return layers.Concatenate()([self.alpha, self.beta]) \n",
    "        \n",
    "    def custom_objective(self):\n",
    "        \"\"\"Computes cost function\"\"\"\n",
    "        nll_loss = self.nll_score\n",
    "        def loss_function_in(y_true, y_pred):\n",
    "            value_alpha, value_beta = layers.Lambda(\n",
    "\t\tlambda x: tf.split(x, 2, axis=1))(y_pred)\n",
    "            loss = nll_loss(\n",
    "\t\t[value_alpha, value_beta, y_true])\n",
    "            return loss\n",
    "        return loss_function_in"
   ]
  },
  {
   "cell_type": "code",
   "execution_count": 13,
   "id": "176aecdb-eda6-4ca6-9332-9eb5cdfb421b",
   "metadata": {},
   "outputs": [],
   "source": [
    "from keras import backend as K\n",
    "import random\n",
    "\n",
    "\n",
    "random.seed(19847)\n",
    "\n",
    "hyperparameters = {\n",
    "         'n_blocks_res': [1, 1, 1],\n",
    "         'n_filters_res': [64, 64, 64, 64, 64, 64],\n",
    "         'kmer_sizes_res': [9, 1, 9, 1, 9, 1],\n",
    "         'n_units_mlp': 64,\n",
    "         'learning_rate': 0.01,\n",
    "         'batch_size': 512,\n",
    "         'weight_decay': 10**(-6)\n",
    "         }    "
   ]
  },
  {
   "cell_type": "code",
   "execution_count": 14,
   "id": "aa9881c5-1da0-40c0-993f-cd1d3b955255",
   "metadata": {},
   "outputs": [
    {
     "name": "stdout",
     "output_type": "stream",
     "text": [
      "Model: \"model\"\n",
      "__________________________________________________________________________________________________\n",
      " Layer (type)                   Output Shape         Param #     Connected to                     \n",
      "==================================================================================================\n",
      " input_1 (InputLayer)           [(None, 17, 4)]      0           []                               \n",
      "                                                                                                  \n",
      " conv1d (Conv1D)                (None, 17, 64)       2368        ['input_1[0][0]']                \n",
      "                                                                                                  \n",
      " batch_normalization (BatchNorm  (None, 17, 64)      256         ['conv1d[0][0]']                 \n",
      " alization)                                                                                       \n",
      "                                                                                                  \n",
      " leaky_re_lu (LeakyReLU)        (None, 17, 64)       0           ['batch_normalization[0][0]']    \n",
      "                                                                                                  \n",
      " conv1d_2 (Conv1D)              (None, 17, 64)       320         ['input_1[0][0]']                \n",
      "                                                                                                  \n",
      " conv1d_1 (Conv1D)              (None, 17, 64)       4160        ['leaky_re_lu[0][0]']            \n",
      "                                                                                                  \n",
      " batch_normalization_2 (BatchNo  (None, 17, 64)      256         ['conv1d_2[0][0]']               \n",
      " rmalization)                                                                                     \n",
      "                                                                                                  \n",
      " batch_normalization_1 (BatchNo  (None, 17, 64)      256         ['conv1d_1[0][0]']               \n",
      " rmalization)                                                                                     \n",
      "                                                                                                  \n",
      " add (Add)                      (None, 17, 64)       0           ['batch_normalization_2[0][0]',  \n",
      "                                                                  'batch_normalization_1[0][0]']  \n",
      "                                                                                                  \n",
      " leaky_re_lu_1 (LeakyReLU)      (None, 17, 64)       0           ['add[0][0]']                    \n",
      "                                                                                                  \n",
      " conv1d_3 (Conv1D)              (None, 17, 64)       36928       ['leaky_re_lu_1[0][0]']          \n",
      "                                                                                                  \n",
      " batch_normalization_3 (BatchNo  (None, 17, 64)      256         ['conv1d_3[0][0]']               \n",
      " rmalization)                                                                                     \n",
      "                                                                                                  \n",
      " leaky_re_lu_2 (LeakyReLU)      (None, 17, 64)       0           ['batch_normalization_3[0][0]']  \n",
      "                                                                                                  \n",
      " conv1d_4 (Conv1D)              (None, 17, 64)       4160        ['leaky_re_lu_2[0][0]']          \n",
      "                                                                                                  \n",
      " batch_normalization_4 (BatchNo  (None, 17, 64)      256         ['conv1d_4[0][0]']               \n",
      " rmalization)                                                                                     \n",
      "                                                                                                  \n",
      " add_1 (Add)                    (None, 17, 64)       0           ['leaky_re_lu_1[0][0]',          \n",
      "                                                                  'batch_normalization_4[0][0]']  \n",
      "                                                                                                  \n",
      " leaky_re_lu_3 (LeakyReLU)      (None, 17, 64)       0           ['add_1[0][0]']                  \n",
      "                                                                                                  \n",
      " conv1d_5 (Conv1D)              (None, 17, 64)       36928       ['leaky_re_lu_3[0][0]']          \n",
      "                                                                                                  \n",
      " batch_normalization_5 (BatchNo  (None, 17, 64)      256         ['conv1d_5[0][0]']               \n",
      " rmalization)                                                                                     \n",
      "                                                                                                  \n",
      " leaky_re_lu_4 (LeakyReLU)      (None, 17, 64)       0           ['batch_normalization_5[0][0]']  \n",
      "                                                                                                  \n",
      " conv1d_6 (Conv1D)              (None, 17, 64)       4160        ['leaky_re_lu_4[0][0]']          \n",
      "                                                                                                  \n",
      " batch_normalization_6 (BatchNo  (None, 17, 64)      256         ['conv1d_6[0][0]']               \n",
      " rmalization)                                                                                     \n",
      "                                                                                                  \n",
      " add_2 (Add)                    (None, 17, 64)       0           ['leaky_re_lu_3[0][0]',          \n",
      "                                                                  'batch_normalization_6[0][0]']  \n",
      "                                                                                                  \n",
      " leaky_re_lu_5 (LeakyReLU)      (None, 17, 64)       0           ['add_2[0][0]']                  \n",
      "                                                                                                  \n",
      " flatten (Flatten)              (None, 1088)         0           ['leaky_re_lu_5[0][0]']          \n",
      "                                                                                                  \n",
      " dense (Dense)                  (None, 64)           69696       ['flatten[0][0]']                \n",
      "                                                                                                  \n",
      " dense_1 (Dense)                (None, 64)           69696       ['flatten[0][0]']                \n",
      "                                                                                                  \n",
      " batch_normalization_7 (BatchNo  (None, 64)          256         ['dense[0][0]']                  \n",
      " rmalization)                                                                                     \n",
      "                                                                                                  \n",
      " batch_normalization_8 (BatchNo  (None, 64)          256         ['dense_1[0][0]']                \n",
      " rmalization)                                                                                     \n",
      "                                                                                                  \n",
      " leaky_re_lu_6 (LeakyReLU)      (None, 64)           0           ['batch_normalization_7[0][0]']  \n",
      "                                                                                                  \n",
      " leaky_re_lu_7 (LeakyReLU)      (None, 64)           0           ['batch_normalization_8[0][0]']  \n",
      "                                                                                                  \n",
      " dense_2 (Dense)                (None, 1)            65          ['leaky_re_lu_6[0][0]']          \n",
      "                                                                                                  \n",
      " dense_3 (Dense)                (None, 1)            65          ['leaky_re_lu_7[0][0]']          \n",
      "                                                                                                  \n",
      " lambda (Lambda)                (None, 1)            0           ['dense_2[0][0]',                \n",
      "                                                                  'dense_3[0][0]']                \n",
      "                                                                                                  \n",
      " concatenate (Concatenate)      (None, 2)            0           ['lambda[0][0]',                 \n",
      "                                                                  'lambda[1][0]']                 \n",
      "                                                                                                  \n",
      "==================================================================================================\n",
      "Total params: 230,850\n",
      "Trainable params: 229,698\n",
      "Non-trainable params: 1,152\n",
      "__________________________________________________________________________________________________\n"
     ]
    },
    {
     "name": "stderr",
     "output_type": "stream",
     "text": [
      "/opt/homebrew/Caskroom/miniforge/base/envs/GARDN/lib/python3.10/site-packages/keras/optimizers/optimizer_v2/adam.py:114: UserWarning: The `lr` argument is deprecated, use `learning_rate` instead.\n",
      "  super().__init__(name, **kwargs)\n"
     ]
    }
   ],
   "source": [
    "from keras import activations, layers, models, optimizers, regularizers\n",
    "\n",
    "\n",
    "#Format data for SAPIEN Model\n",
    "sapien_seq_train = tf.transpose(seq_train,(0,2,1))\n",
    "sapien_seq_test = tf.transpose(seq_test,(0,2,1))\n",
    "\n",
    "\n",
    "# Initialise the lists that will save the output of the model.\n",
    "shape_parameters_val_to_save = []\n",
    "shape_parameters_tst_to_save = []\n",
    "mean_and_variance_val_to_save = []\n",
    "mean_and_variance_tst_to_save = []\n",
    "\n",
    "# Build the model. \n",
    "US = UncerEstim(hyperparameters)  \n",
    "network_input = layers.Input(shape=(sapien_seq_train.shape[1], \n",
    "\t\t\t            sapien_seq_train.shape[2]))\n",
    "network_target = layers.Input(shape=(1,))  \n",
    "network_output = US.sequence_model(inputs=network_input, \n",
    "\t\t\t\t   targets=network_target)\n",
    "sapien_model = models.Model(inputs=[network_input], \n",
    "                     outputs=[network_output])\n",
    "loss_func = US.custom_objective()\n",
    "sapien_model.compile(optimizer=optimizers.Adam(lr=0.01), loss=loss_func) \n",
    "sapien_model.summary()"
   ]
  },
  {
   "cell_type": "code",
   "execution_count": null,
   "id": "eccb787a-257f-493d-9271-7ee4f8d36c2d",
   "metadata": {},
   "outputs": [
    {
     "name": "stdout",
     "output_type": "stream",
     "text": [
      "Epoch 1/52\n"
     ]
    },
    {
     "name": "stderr",
     "output_type": "stream",
     "text": [
      "2023-08-31 14:03:36.068355: W tensorflow/core/platform/profile_utils/cpu_utils.cc:128] Failed to get CPU frequency: 0 Hz\n",
      "2023-08-31 14:03:36.865040: I tensorflow/core/grappler/optimizers/custom_graph_optimizer_registry.cc:114] Plugin optimizer for device_type GPU is enabled.\n"
     ]
    },
    {
     "name": "stdout",
     "output_type": "stream",
     "text": [
      "4311/4311 [==============================] - ETA: 0s - loss: -1.4397"
     ]
    },
    {
     "name": "stderr",
     "output_type": "stream",
     "text": [
      "2023-08-31 14:07:37.634541: I tensorflow/core/grappler/optimizers/custom_graph_optimizer_registry.cc:114] Plugin optimizer for device_type GPU is enabled.\n"
     ]
    },
    {
     "name": "stdout",
     "output_type": "stream",
     "text": [
      "4311/4311 [==============================] - 256s 59ms/step - loss: -1.4397 - val_loss: -1.4335\n",
      "Epoch 2/52\n",
      "4311/4311 [==============================] - 260s 60ms/step - loss: -1.5113 - val_loss: -1.5336\n",
      "Epoch 3/52\n",
      "4311/4311 [==============================] - 260s 60ms/step - loss: -1.5283 - val_loss: -1.4983\n",
      "Epoch 4/52\n",
      "4311/4311 [==============================] - 263s 61ms/step - loss: -1.5440 - val_loss: -1.5632\n",
      "Epoch 5/52\n",
      "4311/4311 [==============================] - 268s 62ms/step - loss: -1.5553 - val_loss: -1.5467\n",
      "Epoch 6/52\n",
      "4311/4311 [==============================] - 267s 62ms/step - loss: -1.5637 - val_loss: -1.5716\n",
      "Epoch 7/52\n",
      "4311/4311 [==============================] - 268s 62ms/step - loss: -1.5717 - val_loss: -1.5550\n",
      "Epoch 8/52\n",
      "4311/4311 [==============================] - 262s 61ms/step - loss: -1.5769 - val_loss: -1.3015\n",
      "Epoch 9/52\n",
      "4311/4311 [==============================] - 262s 61ms/step - loss: -1.5817 - val_loss: -1.5550\n",
      "Epoch 10/52\n",
      "4311/4311 [==============================] - 265s 61ms/step - loss: -1.5849 - val_loss: -1.5499\n",
      "Epoch 11/52\n",
      "4311/4311 [==============================] - 265s 62ms/step - loss: -1.5864 - val_loss: -1.5409\n",
      "Epoch 12/52\n",
      "4311/4311 [==============================] - 264s 61ms/step - loss: -1.5913 - val_loss: -1.5542\n",
      "Epoch 13/52\n",
      "4311/4311 [==============================] - 260s 60ms/step - loss: -1.5941 - val_loss: -1.5671\n",
      "Epoch 14/52\n",
      "4311/4311 [==============================] - 259s 60ms/step - loss: -1.5924 - val_loss: -1.5911\n",
      "Epoch 15/52\n",
      "4311/4311 [==============================] - 259s 60ms/step - loss: -1.5997 - val_loss: -1.5588\n",
      "Epoch 16/52\n",
      "4311/4311 [==============================] - 259s 60ms/step - loss: -1.6012 - val_loss: -1.5689\n",
      "Epoch 17/52\n",
      "4311/4311 [==============================] - 259s 60ms/step - loss: -1.5991 - val_loss: -1.5660\n",
      "Epoch 18/52\n",
      "4311/4311 [==============================] - 258s 60ms/step - loss: -1.6013 - val_loss: -1.5494\n",
      "Epoch 19/52\n",
      "4311/4311 [==============================] - 260s 60ms/step - loss: -1.6041 - val_loss: -1.5734\n",
      "Epoch 20/52\n",
      "4311/4311 [==============================] - 267s 62ms/step - loss: -1.6027 - val_loss: -1.5691\n",
      "Epoch 21/52\n",
      "4311/4311 [==============================] - 267s 62ms/step - loss: -1.6020 - val_loss: -1.5769\n",
      "Epoch 22/52\n",
      "4311/4311 [==============================] - 266s 62ms/step - loss: -1.6054 - val_loss: -1.5667\n",
      "Epoch 23/52\n",
      "4311/4311 [==============================] - 272s 63ms/step - loss: -1.6099 - val_loss: -1.5256\n",
      "Epoch 24/52\n",
      "4311/4311 [==============================] - 284s 66ms/step - loss: -1.6056 - val_loss: -1.5669\n",
      "Epoch 25/52\n",
      "4311/4311 [==============================] - 277s 64ms/step - loss: -1.6062 - val_loss: -1.5948\n",
      "Epoch 26/52\n",
      "4311/4311 [==============================] - 276s 64ms/step - loss: -1.6114 - val_loss: -1.5373\n",
      "Epoch 27/52\n",
      "4311/4311 [==============================] - 280s 65ms/step - loss: -1.6113 - val_loss: -1.5732\n",
      "Epoch 28/52\n",
      "4311/4311 [==============================] - 270s 63ms/step - loss: -1.6098 - val_loss: -1.5852\n",
      "Epoch 29/52\n",
      "4311/4311 [==============================] - 268s 62ms/step - loss: -1.6147 - val_loss: -1.5400\n",
      "Epoch 30/52\n",
      "4311/4311 [==============================] - 767s 178ms/step - loss: -1.6130 - val_loss: -1.5705\n",
      "Epoch 31/52\n",
      "4311/4311 [==============================] - 265s 62ms/step - loss: -1.6153 - val_loss: -1.5706\n",
      "Epoch 32/52\n",
      "4311/4311 [==============================] - 266s 62ms/step - loss: -1.6155 - val_loss: -1.5112\n",
      "Epoch 33/52\n",
      "4311/4311 [==============================] - 265s 61ms/step - loss: -1.6166 - val_loss: -1.5460\n",
      "Epoch 34/52\n",
      "3235/4311 [=====================>........] - ETA: 1:03 - loss: -1.6188"
     ]
    }
   ],
   "source": [
    "epochs = 52\n",
    "sapien_hist = sapien_model.fit(\n",
    "    sapien_seq_train,y_train,batch_size=64,validation_data=[sapien_seq_test,y_test],epochs=epochs)"
   ]
  },
  {
   "cell_type": "code",
   "execution_count": null,
   "id": "47ac1099-d623-46a4-b388-359c76381ec2",
   "metadata": {},
   "outputs": [],
   "source": [
    "print('loaded')"
   ]
  },
  {
   "cell_type": "code",
   "execution_count": 15,
   "id": "0cd6bae8-31c2-4bc7-b5f5-324eec1931b9",
   "metadata": {},
   "outputs": [
    {
     "name": "stdout",
     "output_type": "stream",
     "text": [
      "11321\n",
      "229698\n"
     ]
    }
   ],
   "source": [
    "our_params = np.sum([np.prod(v.get_shape()) for v in joint_model.trainable_weights])\n",
    "print(our_params)\n",
    "\n",
    "sapien_params = np.sum([np.prod(v.get_shape()) for v in sapien_model.trainable_weights])\n",
    "print(sapien_params)"
   ]
  },
  {
   "cell_type": "code",
   "execution_count": 22,
   "id": "b7a8960d-7d90-4413-b1ed-e5de3858d9ba",
   "metadata": {},
   "outputs": [],
   "source": [
    "#Saved these runs individually as sapiens model would crash kernel if ran more than once consecutively\n",
    "\n",
    "joint_one = np.load('stat_tests/joint_rbs_r2.npy')\n",
    "joint_two = np.load('stat_tests/joint_rbs_r2_2.npy')\n",
    "joint_three = np.load('stat_tests/joint_rbs_r2_3.npy')\n",
    "\n",
    "joint_r2 = [joint_one,joint_two,joint_three]\n",
    "\n",
    "joint_spearman_one = np.load('stat_tests/joint_rbs_spearman.npy')\n",
    "joint_spearman_two = np.load('stat_tests/joint_rbs_spearman_2.npy')\n",
    "joint_spearman_three = np.load('stat_tests/joint_rbs_spearman_3.npy')\n",
    "\n",
    "\n",
    "joint_spearman = [joint_spearman_one[0],joint_spearman_two[0],joint_spearman_three[0]]\n",
    "\n",
    "\n",
    "sapien_one = np.load('stat_tests/sapien_model_r2_1.npy')\n",
    "sapien_two = np.load('stat_tests/sapien_model_r2_2.npy')\n",
    "sapien_three = np.load('stat_tests/sapien_model_r2_3.npy')\n",
    "\n",
    "sapien_r2 = [sapien_one,sapien_two,sapien_three]\n",
    "\n",
    "sapien_spearman_one = np.load('stat_tests/sapien_model_spearman_1.npy')\n",
    "sapien_spearman_two = np.load('stat_tests/sapien_model_spearman_2.npy')\n",
    "sapien_spearman_three = np.load('stat_tests/sapien_model_spearman_3.npy')\n",
    "\n",
    "sapien_spearman = [sapien_spearman_one[0],sapien_spearman_two[0],sapien_spearman_three[0]]"
   ]
  },
  {
   "cell_type": "code",
   "execution_count": 23,
   "id": "b5a4bce7-9efc-4a35-845d-a13eb0952d2a",
   "metadata": {},
   "outputs": [],
   "source": [
    "joint_model_bars = [np.mean(joint_r2),\n",
    "                    np.mean(joint_spearman),\n",
    "                    our_params/sapien_params]\n",
    "\n",
    "\n",
    "joint_model_variances = [np.std(joint_r2),\n",
    "                         np.std(joint_spearman),\n",
    "                         0]\n",
    "                \n",
    "\n",
    "sapien_model_bars = [np.mean(sapien_r2),\n",
    "                    np.mean(sapien_spearman),\n",
    "                    sapien_params/sapien_params]\n",
    "\n",
    "sapien_model_variances = [np.std(sapien_r2),\n",
    "                         np.std(sapien_spearman),\n",
    "                         0]"
   ]
  },
  {
   "cell_type": "code",
   "execution_count": 20,
   "id": "34f1e094-ec42-4fc1-b732-e301b3bb8c86",
   "metadata": {},
   "outputs": [
    {
     "data": {
      "image/png": "[encoded data removed]",
      "text/plain": [
       "<Figure size 675x300 with 1 Axes>"
      ]
     },
     "metadata": {},
     "output_type": "display_data"
    }
   ],
   "source": [
    "RED = '#C62626'\n",
    "BLUE = '#2E9AD6'\n",
    "\n",
    "barwidth = 0.3\n",
    "plt.rcParams.update({'font.size': 10,'font.family':'Helvetica'})\n",
    "r1 = np.arange(len(joint_model_bars))\n",
    "r2 = [x + barwidth for x in r1]\n",
    "\n",
    "plt.figure(figsize=(6.75,3))\n",
    "\n",
    "plt.title('RBS-Flanking Sequence Predictions')\n",
    "plt.bar(r1, sapien_model_bars, width = barwidth, color = BLUE,alpha=1, yerr=sapien_model_variances, capsize=5,edgecolor='black',linewidth=2, label='SAPIENS')\n",
    "\n",
    "plt.bar(r2, joint_model_bars, width = barwidth, color = RED,alpha=1, yerr=joint_model_variances, capsize=5,edgecolor='black',linewidth=2, label='SANDSTORM')\n",
    "plt.xticks([r + (barwidth/2) for r in range(len(joint_model_bars))], [r'R$_{\\rm 2}$','Spearman','Parameter Fraction'])\n",
    "plt.subplot().spines['right'].set_visible(False)\n",
    "plt.subplot().spines['top'].set_visible(False)\n",
    "plt.subplot().spines['left'].set_linewidth(2.0)\n",
    "plt.subplot().spines['bottom'].set_linewidth(2.0)\n",
    "plt.subplot().xaxis.set_tick_params(width=1.5)\n",
    "plt.subplot().yaxis.set_tick_params(width=1.5)\n",
    "plt.legend(loc='upper center', bbox_to_anchor=(1.12, 0.5),\n",
    "          fancybox=False, shadow=True, ncol=1)\n",
    "# plt.savefig('../figures/RBS Predictor.png',dpi=500,bbox_inches='tight',pad_inches=0.5)\n",
    "plt.savefig('../figures/RBS Predictor.svg',transparent=True,bbox_inches='tight',pad_inches=0.5)"
   ]
  },
  {
   "cell_type": "code",
   "execution_count": 24,
   "id": "a4a3fedb-d284-4d35-833e-58884882dec5",
   "metadata": {},
   "outputs": [],
   "source": [
    "import scipy\n",
    "joint_model_bars\n",
    "joint_model_variances\n",
    "\n",
    "save = []\n",
    "for i in range(len(joint_model_bars)-1):\n",
    "    save.append(scipy.stats.ttest_ind_from_stats(joint_model_bars[i], \n",
    "                                     joint_model_variances[i], \n",
    "                                     3,\n",
    "                                     sapien_model_bars[i],\n",
    "                                     sapien_model_variances[i],\n",
    "                                     3, equal_var=True, alternative='two-sided'))"
   ]
  },
  {
   "cell_type": "code",
   "execution_count": 25,
   "id": "2717ce80-7a8b-4be9-86d2-b181a0154f67",
   "metadata": {},
   "outputs": [
    {
     "data": {
      "text/plain": [
       "[Ttest_indResult(statistic=0.7487052589930744, pvalue=0.49565865995075764),\n",
       " Ttest_indResult(statistic=-0.06984308847287583, pvalue=0.9476708497196142)]"
      ]
     },
     "execution_count": 25,
     "metadata": {},
     "output_type": "execute_result"
    }
   ],
   "source": [
    "save"
   ]
  },
  {
   "cell_type": "code",
   "execution_count": null,
   "id": "65a79cff-1d4e-472b-ba06-fcc0667b3d7e",
   "metadata": {},
   "outputs": [],
   "source": []
  }
 ],
 "metadata": {
  "kernelspec": {
   "display_name": "Python 3 (ipykernel)",
   "language": "python",
   "name": "python3"
  },
  "language_info": {
   "codemirror_mode": {
    "name": "ipython",
    "version": 3
   },
   "file_extension": ".py",
   "mimetype": "text/x-python",
   "name": "python",
   "nbconvert_exporter": "python",
   "pygments_lexer": "ipython3",
   "version": "3.10.8"
  }
 },
 "nbformat": 4,
 "nbformat_minor": 5
}
